{
 "cells": [
  {
   "cell_type": "markdown",
   "metadata": {
    "collapsed": true
   },
   "source": [
    "## 1. Introduction/Business Problem\n",
    "Discussion of the business problem and the audience who would be interested in this project.\n",
    "\n",
    "### TOPIC: Opening a new Hotel / Restaurant in Kanyakumari, India \n",
    "### About the place - Kanyakumari, India\n",
    "\n",
    "Kanyakumari,a beautiful __tourist spot__ in southern India.Kanyakumari is a coastal town in the state of Tamil Nadu on India's southern tip. Jutting into the Laccadive Sea, the town was known as 'Cape Comorin'. A popular tourist destination in India, it is famous for its unique ocean sunrise, sunset and moonrise  over the ocean, the 133 feet Thiruvalluvar Statue and Vivekananda Rock Memorial off the coast, and as a pilgrimage centre. Lying at the tip of peninsular India, it is the confluence of the Arabian sea, the Bay of Bengal and the Indian Ocean. Other historic sights that you can visit in Kanyakumari include the Padmanabhapuram Palace, the Vattakottai Fort, and the Gandhi Memorial.\n",
    "\n",
    "### Opening of Hotel/Restaurant\n",
    "Regarding opening any business problem, It would be better to open a hotel/restaurant near beach side.As it is a famous tourist spot,there is already lots of attention towards it. There will be many competitors in terms of hotel and restauramt.But keeping them in mind,the new hotel should be opened in a place where more people are attracted and comfortable for a stay and a good meal. IT will attract foreign and local peoples attention towards the new hotel. And the flavour new retaurant recipe with Italian, American, typical South & North Indian foods to grab their taste.\n",
    "\n",
    "### Business Problem\n",
    "\n",
    "The objective of this capstone project is to analyse and select the suitable locations in the city of Kanyakumari,India for opening a new hotel / restaurant attracted to all local and foreign people in the centre of all famous venues.  Using data science methodology and machine learning techniques like clustering, this project aims to provide solutions to answer the business question.\n",
    "\n",
    "### Expected / Interested Visitors\n",
    "80% local and 20% foreign peoples visit kanyakumari once in a year.Some people stay for couple of days or more. Also they find some place for hangout or a good meal. Their main focus might be belonging to stay somewhere near to reach venues. Apart from these set of people, students and working professionals are common visitors here. So we may need to fascinate them all.\n",
    "\n",
    "### Target Audience\n",
    "The target audience would be any stakeholder that is willing to start hotel/restaurant business in Kanyakumari, India.\n",
    "This project is particularly useful to property developers and investors looking to open or invest for new business.\n",
    "\n",
    "Success Criteria: The success criteria of the project will be a good recommendation of choice to the investors based on  number of hotel/restaurant in the city."
   ]
  },
  {
   "cell_type": "code",
   "execution_count": null,
   "metadata": {
    "collapsed": true
   },
   "outputs": [],
   "source": []
  }
 ],
 "metadata": {
  "kernelspec": {
   "display_name": "Python 3",
   "language": "python",
   "name": "python3"
  },
  "language_info": {
   "codemirror_mode": {
    "name": "ipython",
    "version": 3
   },
   "file_extension": ".py",
   "mimetype": "text/x-python",
   "name": "python",
   "nbconvert_exporter": "python",
   "pygments_lexer": "ipython3",
   "version": "3.6.2"
  }
 },
 "nbformat": 4,
 "nbformat_minor": 1
}
