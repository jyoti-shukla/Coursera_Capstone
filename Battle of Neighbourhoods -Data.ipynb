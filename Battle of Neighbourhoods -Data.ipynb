{
 "cells": [
  {
   "cell_type": "markdown",
   "metadata": {},
   "source": [
    "# Battle of Neighbourhoods - Week 1\n",
    "\n",
    "This notebook consist of two parts.\n",
    "\n",
    "### 1 Introduction/Business Problem\n",
    "\n",
    "    1.a Discussion of the business problem and the audience who would be interested in this project.\n",
    "\n",
    "### 2 Data Section\n",
    "\n",
    "    2.a What data is used?\n",
    "    2.b Importing Libraries\n",
    "    2.c Credentials and Core location\n",
    "    2.d Search for hotel & restaurant within 1 KM\n",
    "    2.e Location of Hotels\n",
    "   \n",
    "   \n",
    "## 1. Introduction/Business Problem\n",
    "Discussion of the business problem and the audience who would be interested in this project.\n",
    "\n",
    "### TOPIC: Opening a new Hotel / Restaurant in Kanyakumari, India \n",
    "### About the place - Kanyakumari, India\n",
    "\n",
    "Kanyakumari,a beautiful __tourist spot__ in southern India.Kanyakumari is a coastal town in the state of Tamil Nadu on India's southern tip. Jutting into the Laccadive Sea, the town was known as 'Cape Comorin'. A popular tourist destination in India, it is famous for its unique ocean sunrise, sunset and moonrise  over the ocean, the 133 feet Thiruvalluvar Statue and Vivekananda Rock Memorial off the coast, and as a pilgrimage centre. Lying at the tip of peninsular India, it is the confluence of the Arabian sea, the Bay of Bengal and the Indian Ocean. Other historic sights that you can visit in Kanyakumari include the Padmanabhapuram Palace, the Vattakottai Fort, and the Gandhi Memorial.\n",
    "\n",
    "### Opening of Hotel/Restaurant\n",
    "Regarding opening any business problem, It would be better to open a hotel/restaurant near beach side.As it is a famous tourist spot,there is already lots of attention towards it. There will be many competitors in terms of hotel and restauramt.But keeping them in mind,the new hotel should be opened in a place where more people are attracted and comfortable for a stay and a good meal. IT will attract foreign and local peoples attention towards the new hotel. And the flavour new retaurant recipe with Italian, American, typical South & North Indian foods to grab their taste.\n",
    "\n",
    "### Business Problem\n",
    "\n",
    "The objective of this capstone project is to analyse and select the ___suitable locations___ in the city of Kanyakumari,India for opening a new hotel / restaurant attracted to all local and foreign people in the centre of all famous venues.  Using data science methodology and machine learning techniques like clustering, this project aims to provide solutions to answer the business question.\n",
    "\n",
    "### Expected / Interested Visitors\n",
    "80% local and 20% foreign peoples visit kanyakumari once in a year.Some people stay for couple of days or more. Also they find some place for hangout or a good meal. Their main focus might be belonging to stay somewhere near to reach venues. Apart from these set of people, students and working professionals are common visitors here. So we may need to fascinate them all.\n",
    "\n",
    "## 2.Data section\n",
    "\n",
    "### 2.a What data is used?\n",
    "\n",
    "* We will be completely working on __Foursquare data__ to explore and try to locate our new hotel where more venues like church, temples, beach, museums, memorials that are present nearby.\n",
    "\n",
    "\n",
    "\n",
    "\n",
    "__To solve the problem, we will need the following data:__\n",
    "\n",
    "* List of neighbourhoods in Kanyakumari.\n",
    "\n",
    "* Latitude and longitude coordinates of those neighbourhoods. \n",
    "\n",
    "* Venue data related to Hotel/Resaurant. This will help us determine the most suitable place to open a Hotel/Resaurant.\n",
    "\n",
    "### How will we be solving using this data?\n",
    "\n",
    "We will looking for midpoint area of venues to locate our new hotel.Before that our major focus will be on all venues present in and around the core place of kanyakumari.\n",
    "\n",
    "Just a heads up on how many hotels are distributed now around kanyakumari.We will perform some EDA(Exploratory Data Analysis) on hotels & restaurants present in the tourist spot.On furthur notebook we will use Foursquare data to determine other venues as well."
   ]
  },
  {
   "cell_type": "markdown",
   "metadata": {},
   "source": [
    "## 2. b Importing Libraries"
   ]
  },
  {
   "cell_type": "code",
   "execution_count": 1,
   "metadata": {
    "collapsed": true
   },
   "outputs": [],
   "source": [
    "# Import libraries\n",
    "import pandas as pd # data analsysis\n",
    "import requests # HTTP library\n",
    "from bs4 import BeautifulSoup # scraping library\n",
    "import numpy as np # data in a vectorized manner manipulation\n",
    "\n",
    "pd.set_option('display.max_columns', None)\n",
    "pd.set_option('display.max_rows', None)\n",
    "\n"
   ]
  },
  {
   "cell_type": "code",
   "execution_count": 3,
   "metadata": {},
   "outputs": [
    {
     "name": "stdout",
     "output_type": "stream",
     "text": [
      "Solving environment: done\n",
      "\n",
      "## Package Plan ##\n",
      "\n",
      "  environment location: /opt/conda/envs/Python36\n",
      "\n",
      "  added / updated specs: \n",
      "    - folium=0.5.0\n",
      "\n",
      "\n",
      "The following packages will be downloaded:\n",
      "\n",
      "    package                    |            build\n",
      "    ---------------------------|-----------------\n",
      "    branca-0.4.1               |             py_0          26 KB  conda-forge\n",
      "    python_abi-3.6             |          1_cp36m           4 KB  conda-forge\n",
      "    altair-4.1.0               |             py_1         614 KB  conda-forge\n",
      "    folium-0.5.0               |             py_0          45 KB  conda-forge\n",
      "    certifi-2020.6.20          |   py36h9f0ad1d_0         151 KB  conda-forge\n",
      "    openssl-1.1.1g             |       h516909a_1         2.1 MB  conda-forge\n",
      "    vincent-0.4.4              |             py_1          28 KB  conda-forge\n",
      "    ca-certificates-2020.6.20  |       hecda079_0         145 KB  conda-forge\n",
      "    ------------------------------------------------------------\n",
      "                                           Total:         3.1 MB\n",
      "\n",
      "The following NEW packages will be INSTALLED:\n",
      "\n",
      "    altair:          4.1.0-py_1        conda-forge\n",
      "    branca:          0.4.1-py_0        conda-forge\n",
      "    folium:          0.5.0-py_0        conda-forge\n",
      "    python_abi:      3.6-1_cp36m       conda-forge\n",
      "    vincent:         0.4.4-py_1        conda-forge\n",
      "\n",
      "The following packages will be UPDATED:\n",
      "\n",
      "    certifi:         2020.6.20-py36_0              --> 2020.6.20-py36h9f0ad1d_0 conda-forge\n",
      "    openssl:         1.1.1g-h7b6447c_0             --> 1.1.1g-h516909a_1        conda-forge\n",
      "\n",
      "The following packages will be DOWNGRADED:\n",
      "\n",
      "    ca-certificates: 2020.6.24-0                   --> 2020.6.20-hecda079_0     conda-forge\n",
      "\n",
      "\n",
      "Downloading and Extracting Packages\n",
      "branca-0.4.1         | 26 KB     | ##################################### | 100% \n",
      "python_abi-3.6       | 4 KB      | ##################################### | 100% \n",
      "altair-4.1.0         | 614 KB    | ##################################### | 100% \n",
      "folium-0.5.0         | 45 KB     | ##################################### | 100% \n",
      "certifi-2020.6.20    | 151 KB    | ##################################### | 100% \n",
      "openssl-1.1.1g       | 2.1 MB    | ##################################### | 100% \n",
      "vincent-0.4.4        | 28 KB     | ##################################### | 100% \n",
      "ca-certificates-2020 | 145 KB    | ##################################### | 100% \n",
      "Preparing transaction: done\n",
      "Verifying transaction: done\n",
      "Executing transaction: done\n",
      "*********   Loaded library     ***********\n"
     ]
    }
   ],
   "source": [
    "from pandas.io.json import json_normalize # tranform JSON file into a pandas dataframe\n",
    "import json # JSON files manipulation\n",
    "#!conda install -c conda-forge geopy --yes # uncomment this line if you haven't completed the Foursquare API lab\n",
    "from geopy.geocoders import Nominatim # convert an address into latitude and longitude values\n",
    "\n",
    "# Matplotlib and associated plotting modules\n",
    "import matplotlib.cm as cm\n",
    "import matplotlib.colors as colors\n",
    "import matplotlib.pyplot as plt\n",
    "\n",
    "from sklearn.cluster import KMeans # clustering algorithm\n",
    "\n",
    "!conda install -c conda-forge folium=0.5.0 --yes # uncomment this line if you haven't completed the Foursquare API lab\n",
    "import folium # map rendering library\n",
    "\n",
    "print(\"*********   Loaded library     ***********\")"
   ]
  },
  {
   "cell_type": "markdown",
   "metadata": {},
   "source": [
    "## 2.c Credentials and Core location"
   ]
  },
  {
   "cell_type": "code",
   "execution_count": 21,
   "metadata": {},
   "outputs": [
    {
     "name": "stdout",
     "output_type": "stream",
     "text": [
      "Kanyakumari location : 8.079252,77.5499338\n"
     ]
    }
   ],
   "source": [
    "CLIENT_ID = 'RRSUUY4OMR0ZGWYDKT31GGWXSKEACXUX0PCL30XGYHVVC1LS'\n",
    "CLIENT_SECRET = 'AW3ISA52EYVITQ3OR12ITTD1CQFB4O2ICATTQ1D2BGB5YRLX'\n",
    "VERSION = '20200811'\n",
    "LIMIT = 150\n",
    "\n",
    "address = \"Kanyakumari, Tamil Nadu\"\n",
    "\n",
    "geolocator = Nominatim(user_agent=\"foursquare_agent\")\n",
    "location = geolocator.geocode(address)\n",
    "latitude =location.latitude   #8.079252 # location.latitude \n",
    "longitude =location.longitude #77.5499338 # location.longitude # \n",
    "\n",
    "kan='Kanyakumari location : {},{}'.format(latitude,longitude)\n",
    "print(kan)"
   ]
  },
  {
   "cell_type": "markdown",
   "metadata": {},
   "source": [
    "## 2.d  Search for hotel & restaurant within 1 KM"
   ]
  },
  {
   "cell_type": "code",
   "execution_count": 22,
   "metadata": {
    "collapsed": true
   },
   "outputs": [],
   "source": [
    "#Quering for hotel & restaurant using foursquare API\n",
    "\n",
    "search_query = 'hotel'\n",
    "search_query_res = 'restaurant'\n",
    "\n",
    "radius = 2000\n",
    "url_hotel = 'https://api.foursquare.com/v2/venues/search?client_id={}&client_secret={}&ll={},{}&v={}&query={}&radius={}&limit={}'.format(CLIENT_ID, CLIENT_SECRET, latitude, longitude, VERSION, search_query, radius, LIMIT)\n",
    "url_restaurant = 'https://api.foursquare.com/v2/venues/search?client_id={}&client_secret={}&ll={},{}&v={}&query={}&radius={}&limit={}'.format(CLIENT_ID, CLIENT_SECRET, latitude, longitude, VERSION, search_query_res, radius, LIMIT)\n",
    "#url"
   ]
  },
  {
   "cell_type": "markdown",
   "metadata": {},
   "source": [
    "__Send the GET Request of hotel & restaurants and examine the results__"
   ]
  },
  {
   "cell_type": "code",
   "execution_count": 23,
   "metadata": {
    "collapsed": true
   },
   "outputs": [],
   "source": [
    "results_hotel = requests.get(url_hotel).json()\n",
    "results_restaurant = requests.get(url_restaurant).json()\n",
    "#results_hotel"
   ]
  },
  {
   "cell_type": "markdown",
   "metadata": {},
   "source": [
    "__Get relevant part of JSON and transform it into a pandas dataframe__"
   ]
  },
  {
   "cell_type": "code",
   "execution_count": 24,
   "metadata": {},
   "outputs": [
    {
     "name": "stdout",
     "output_type": "stream",
     "text": [
      "There are 40 restaurants and hotels at Kanyakumari\n"
     ]
    }
   ],
   "source": [
    "venues_hotel = results_hotel['response']['venues']\n",
    "venues_restaurant = results_restaurant['response']['venues']\n",
    "\n",
    "# tranform venues into a dataframe and merging both data\n",
    "dataframe_hotel = json_normalize(venues_hotel)\n",
    "dataframe_restaurant = json_normalize(venues_restaurant)\n",
    "\n",
    "dataframe = pd.concat([dataframe_hotel,dataframe_restaurant])\n",
    "\n",
    "print(\"There are {} restaurants and hotels at Kanyakumari\".format(dataframe.shape[0]))"
   ]
  },
  {
   "cell_type": "markdown",
   "metadata": {},
   "source": [
    "__Define information of interest and filter dataframe__"
   ]
  },
  {
   "cell_type": "code",
   "execution_count": 25,
   "metadata": {},
   "outputs": [
    {
     "data": {
      "text/html": [
       "<div>\n",
       "<style scoped>\n",
       "    .dataframe tbody tr th:only-of-type {\n",
       "        vertical-align: middle;\n",
       "    }\n",
       "\n",
       "    .dataframe tbody tr th {\n",
       "        vertical-align: top;\n",
       "    }\n",
       "\n",
       "    .dataframe thead th {\n",
       "        text-align: right;\n",
       "    }\n",
       "</style>\n",
       "<table border=\"1\" class=\"dataframe\">\n",
       "  <thead>\n",
       "    <tr style=\"text-align: right;\">\n",
       "      <th></th>\n",
       "      <th>name</th>\n",
       "      <th>categories</th>\n",
       "      <th>distance</th>\n",
       "      <th>lat</th>\n",
       "      <th>lng</th>\n",
       "      <th>id</th>\n",
       "    </tr>\n",
       "  </thead>\n",
       "  <tbody>\n",
       "    <tr>\n",
       "      <th>0</th>\n",
       "      <td>Hotel SeaView</td>\n",
       "      <td>Hotel</td>\n",
       "      <td>371</td>\n",
       "      <td>8.082333</td>\n",
       "      <td>77.551217</td>\n",
       "      <td>4cd42e2c558a370412d0c5a6</td>\n",
       "    </tr>\n",
       "    <tr>\n",
       "      <th>1</th>\n",
       "      <td>Hotel Samudra</td>\n",
       "      <td>Motel</td>\n",
       "      <td>201</td>\n",
       "      <td>8.080642</td>\n",
       "      <td>77.551102</td>\n",
       "      <td>4d3c66e414aa8cfa4641a95e</td>\n",
       "    </tr>\n",
       "    <tr>\n",
       "      <th>2</th>\n",
       "      <td>Hotel Sarvana</td>\n",
       "      <td>Hotel</td>\n",
       "      <td>179</td>\n",
       "      <td>8.080581</td>\n",
       "      <td>77.550861</td>\n",
       "      <td>4db052544df03036e8b9d615</td>\n",
       "    </tr>\n",
       "    <tr>\n",
       "      <th>3</th>\n",
       "      <td>Hotel Annapoorna</td>\n",
       "      <td>Indian Restaurant</td>\n",
       "      <td>206</td>\n",
       "      <td>8.080879</td>\n",
       "      <td>77.550835</td>\n",
       "      <td>50ed3a39e4b0ac50005eb3f1</td>\n",
       "    </tr>\n",
       "    <tr>\n",
       "      <th>4</th>\n",
       "      <td>Hotel Trisea</td>\n",
       "      <td>South Indian Restaurant</td>\n",
       "      <td>269</td>\n",
       "      <td>8.081475</td>\n",
       "      <td>77.548969</td>\n",
       "      <td>5030a43ee4b021f7a59c7456</td>\n",
       "    </tr>\n",
       "  </tbody>\n",
       "</table>\n",
       "</div>"
      ],
      "text/plain": [
       "               name               categories  distance       lat        lng  \\\n",
       "0     Hotel SeaView                    Hotel       371  8.082333  77.551217   \n",
       "1     Hotel Samudra                    Motel       201  8.080642  77.551102   \n",
       "2     Hotel Sarvana                    Hotel       179  8.080581  77.550861   \n",
       "3  Hotel Annapoorna        Indian Restaurant       206  8.080879  77.550835   \n",
       "4      Hotel Trisea  South Indian Restaurant       269  8.081475  77.548969   \n",
       "\n",
       "                         id  \n",
       "0  4cd42e2c558a370412d0c5a6  \n",
       "1  4d3c66e414aa8cfa4641a95e  \n",
       "2  4db052544df03036e8b9d615  \n",
       "3  50ed3a39e4b0ac50005eb3f1  \n",
       "4  5030a43ee4b021f7a59c7456  "
      ]
     },
     "execution_count": 25,
     "metadata": {},
     "output_type": "execute_result"
    }
   ],
   "source": [
    "filtered_columns = ['name', 'categories'] + [col for col in dataframe.columns if col.startswith('location.')] + ['id']\n",
    "dataframe_filtered = dataframe.loc[:, filtered_columns]\n",
    "\n",
    "# function that extracts the category of the venue\n",
    "\n",
    "def get_category_type(row):\n",
    "    try:\n",
    "        categories_list = row['categories']\n",
    "    except:\n",
    "        categories_list = row['venue.categories']\n",
    "        \n",
    "    if len(categories_list) == 0:\n",
    "        return None\n",
    "    else:\n",
    "        return categories_list[0]['name']\n",
    "\n",
    "    \n",
    "# filter the category for each row\n",
    "dataframe_filtered['categories'] = dataframe_filtered.apply(get_category_type, axis=1)\n",
    "\n",
    "  \n",
    "# clean column names by keeping only last term\n",
    "dataframe_filtered.columns = [column.split('.')[-1] for column in dataframe_filtered.columns]\n",
    "\n",
    "#dataframe_filtered\n",
    "hotels_df=dataframe_filtered[['name','categories','distance','lat','lng','id']]\n",
    "hotels_df.head()"
   ]
  },
  {
   "cell_type": "markdown",
   "metadata": {},
   "source": [
    "## 2.e Location of Hotels"
   ]
  },
  {
   "cell_type": "code",
   "execution_count": 26,
   "metadata": {
    "scrolled": false
   },
   "outputs": [
    {
     "data": {
      "text/html": [
       "<div style=\"width:100%;\"><div style=\"position:relative;width:100%;height:0;padding-bottom:60%;\"><span style=\"color:#565656\">Make this Notebook Trusted to load map: File -> Trust Notebook</span><iframe src=\"about:blank\" style=\"position:absolute;width:100%;height:100%;left:0;top:0;border:none !important;\" data-html=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 onload=\"this.contentDocument.open();this.contentDocument.write(atob(this.getAttribute('data-html')));this.contentDocument.close();\" allowfullscreen webkitallowfullscreen mozallowfullscreen></iframe></div></div>"
      ],
      "text/plain": [
       "<folium.folium.Map at 0x7f85d5168dd8>"
      ]
     },
     "execution_count": 26,
     "metadata": {},
     "output_type": "execute_result"
    }
   ],
   "source": [
    "hotels_map = folium.Map(location=[latitude, longitude], zoom_start=16) # generate map centred around the Kanyakumari\n",
    "\n",
    "# add a red circle marker to represent the core location of kanyakumari\n",
    "folium.features.CircleMarker(\n",
    "    [latitude, longitude],\n",
    "    radius=10,\n",
    "    color='red',\n",
    "    popup='Kanyakumari',\n",
    "    fill = True,\n",
    "    fill_color = 'red',\n",
    "    fill_opacity = 0.6\n",
    ").add_to(hotels_map)\n",
    "\n",
    "# add the Italian restaurants as blue circle markers\n",
    "for lat, lng, label in zip(hotels_df.lat, hotels_df.lng, hotels_df.name):\n",
    "    folium.features.CircleMarker(\n",
    "        [lat, lng],\n",
    "        radius=5,\n",
    "        color='blue',\n",
    "        popup=label,\n",
    "        fill = True,\n",
    "        fill_color='blue',\n",
    "        fill_opacity=0.6\n",
    "    ).add_to(hotels_map)\n",
    "\n",
    "# display map\n",
    "hotels_map"
   ]
  },
  {
   "cell_type": "markdown",
   "metadata": {},
   "source": [
    "# More to come in next notebook- \"Battle of Neighbourhoods - Final\""
   ]
  },
  {
   "cell_type": "code",
   "execution_count": null,
   "metadata": {
    "collapsed": true
   },
   "outputs": [],
   "source": []
  }
 ],
 "metadata": {
  "kernelspec": {
   "display_name": "Python 3",
   "language": "python",
   "name": "python3"
  },
  "language_info": {
   "codemirror_mode": {
    "name": "ipython",
    "version": 3
   },
   "file_extension": ".py",
   "mimetype": "text/x-python",
   "name": "python",
   "nbconvert_exporter": "python",
   "pygments_lexer": "ipython3",
   "version": "3.6.2"
  }
 },
 "nbformat": 4,
 "nbformat_minor": 1
}
