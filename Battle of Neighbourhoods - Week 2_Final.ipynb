{
 "cells": [
  {
   "cell_type": "markdown",
   "metadata": {},
   "source": [
    "# The Battle of Neighbourhoods - Final\n",
    "\n",
    "This notebook consist of six parts.\n",
    "\n",
    "__1 Introduction/Business Problem__\n",
    "\n",
    "    1.a Discussion of the business problem and the audience who would be interested in this project.\n",
    "\n",
    "__2 Data Section__\n",
    "\n",
    "    2.a What data is used?\n",
    "    2.b Importing Libraries\n",
    "    2.c Credentials and Core location\n",
    "    2.d Search for hotel & restaurant within 1 KM\n",
    "    2.e Location of Hotels\n",
    "\n",
    "__3 Methodology Section__\n",
    "\n",
    "    3.a Removing Outlier - Hotel Bharani\n",
    "    3.b How Far are hotels from the core location\n",
    "    3.c Explore for other venues around Kanyakumari\n",
    "    3.d Extract Venues using Search Queries\n",
    "    3.e Location of all venues\n",
    "    3.f How far are venues from the core location?\n",
    "    3.g Venue Categories\n",
    "    3.h Rating of all Venues\n",
    "    3.i Number of Tips for all Venues\n",
    "    3.j Extracting Rated and Tips Venues\n",
    "    3.k Final list of Venues\n",
    "    3.l Clustering based on venues\n",
    "    3.m Center of all clusters & Midpoint of all venues\n",
    "\n",
    "__4 Results Section__\n",
    "\n",
    "    4.a My hotel location\n",
    "    4.b Top Rated Venues\n",
    "    4.c Spot my hotel against others\n",
    "    4.d Few more Stats\n",
    "\n",
    "__5 Discussion Section__\n",
    "\n",
    "__6 Conclusion Section__\n",
    "\n",
    "   \n",
    "## 1. Introduction/Business Problem\n",
    "Discussion of the business problem and the audience who would be interested in this project.\n",
    "\n",
    "### TOPIC: Opening a new Hotel / Restaurant in Kanyakumari, India \n",
    "### About the place - Kanyakumari, India\n",
    "\n",
    "Kanyakumari,a beautiful __tourist spot__ in southern India.Kanyakumari is a coastal town in the state of Tamil Nadu on India's southern tip. Jutting into the Laccadive Sea, the town was known as 'Cape Comorin'. A popular tourist destination in India, it is famous for its unique ocean sunrise, sunset and moonrise  over the ocean, the 133 feet Thiruvalluvar Statue and Vivekananda Rock Memorial off the coast, and as a pilgrimage centre. Lying at the tip of peninsular India, it is the confluence of the Arabian sea, the Bay of Bengal and the Indian Ocean. Other historic sights that you can visit in Kanyakumari include the Padmanabhapuram Palace, the Vattakottai Fort, and the Gandhi Memorial.\n",
    "\n",
    "### Opening of Hotel/Restaurant\n",
    "Regarding opening any business problem, It would be better to open a hotel/restaurant near beach side.As it is a famous tourist spot,there is already lots of attention towards it. There will be many competitors in terms of hotel and restauramt.But keeping them in mind,the new hotel should be opened in a place where more people are attracted and comfortable for a stay and a good meal. IT will attract foreign and local peoples attention towards the new hotel. And the flavour new retaurant recipe with Italian, American, typical South & North Indian foods to grab their taste.\n",
    "\n",
    "### Business Problem\n",
    "\n",
    "The objective of this capstone project is to analyse and select the ___suitable locations___ in the city of Kanyakumari,India for opening a new hotel / restaurant attracted to all local and foreign people in the centre of all famous venues.  Using data science methodology and machine learning techniques like clustering, this project aims to provide solutions to answer the business question.\n",
    "\n",
    "### Expected / Interested Visitors\n",
    "80% local and 20% foreign peoples visit kanyakumari once in a year.Some people stay for couple of days or more. Also they find some place for hangout or a good meal. Their main focus might be belonging to stay somewhere near to reach venues. Apart from these set of people, students and working professionals are common visitors here. So we may need to fascinate them all.\n",
    "\n",
    "### Target Audience\n",
    "The target audience would be any stakeholder that is willing to start hotel/restaurant business in Kanyakumari, India.\n",
    "This project is particularly useful to property developers and investors looking to open or invest for new business.\n",
    "\n",
    "Success Criteria: The success criteria of the project will be a good recommendation of choice to the investors based on  number of hotel/restaurant in the city.\n",
    "\n",
    "## 2.Data section\n",
    "\n",
    "### 2.a What data is used?\n",
    "\n",
    "* We will be completely working on __Foursquare data__ to explore and try to locate our new hotel where more venues like church, temples, beach, museums, memorials that are present nearby.\n",
    "\n",
    "\n",
    "__To solve the problem, we will need the following data:__\n",
    "\n",
    "* List of neighbourhoods in Kanyakumari.\n",
    "\n",
    "* Latitude and longitude coordinates of those neighbourhoods. \n",
    "\n",
    "* Venue data related to Hotel/Resaurant. This will help us determine the most suitable place to open a Hotel/Resaurant.\n",
    "\n",
    "### How will we be solving using this data?\n",
    "\n",
    "We will looking for midpoint area of venues to locate our new hotel.Before that our major focus will be on all venues present in and around the core place of kanyakumari.\n",
    "\n",
    "Just a heads up on how many hotels are distributed now around kanyakumari.We will perform some EDA(Exploratory Data Analysis) on hotels & restaurants present in the tourist spot.On furthur notebook we will use Foursquare data to determine other venues as well.\n"
   ]
  },
  {
   "cell_type": "markdown",
   "metadata": {},
   "source": [
    "## 2. b Importing Libraries"
   ]
  },
  {
   "cell_type": "code",
   "execution_count": 13,
   "metadata": {
    "collapsed": true
   },
   "outputs": [],
   "source": [
    "# Import libraries\n",
    "import pandas as pd # data analsysis\n",
    "import requests # HTTP library\n",
    "from bs4 import BeautifulSoup # scraping library\n",
    "import numpy as np # data in a vectorized manner manipulation\n",
    "\n",
    "pd.set_option('display.max_columns', None)\n",
    "pd.set_option('display.max_rows', None)"
   ]
  },
  {
   "cell_type": "code",
   "execution_count": 14,
   "metadata": {},
   "outputs": [
    {
     "name": "stdout",
     "output_type": "stream",
     "text": [
      "*********   Loaded library     ***********\n"
     ]
    }
   ],
   "source": [
    "from pandas.io.json import json_normalize # tranform JSON file into a pandas dataframe\n",
    "import json # JSON files manipulation\n",
    "#!conda install -c conda-forge geopy --yes # uncomment this line if you haven't completed the Foursquare API lab\n",
    "from geopy.geocoders import Nominatim # convert an address into latitude and longitude values\n",
    "\n",
    "# Matplotlib and associated plotting modules\n",
    "import matplotlib.cm as cm\n",
    "import matplotlib.colors as colors\n",
    "import matplotlib.pyplot as plt\n",
    "\n",
    "from sklearn.cluster import KMeans # clustering algorithm\n",
    "\n",
    "#!conda install -c conda-forge folium=0.5.0 --yes # uncomment this line if you haven't completed the Foursquare API lab\n",
    "import folium # map rendering library\n",
    "\n",
    "print(\"*********   Loaded library     ***********\")"
   ]
  },
  {
   "cell_type": "markdown",
   "metadata": {},
   "source": [
    "## 2.c Credentials and Core location"
   ]
  },
  {
   "cell_type": "code",
   "execution_count": 15,
   "metadata": {},
   "outputs": [
    {
     "name": "stdout",
     "output_type": "stream",
     "text": [
      "Kanyakumari location : 8.079252,77.5499338\n"
     ]
    }
   ],
   "source": [
    "CLIENT_ID = '...'\n",
    "CLIENT_SECRET = '...'\n",
    "VERSION = '20200811'\n",
    "LIMIT = 150\n",
    "\n",
    "address = \"Kanyakumari, Tamil Nadu\"\n",
    "\n",
    "geolocator = Nominatim(user_agent=\"foursquare_agent\")\n",
    "location = geolocator.geocode(address)\n",
    "latitude =location.latitude   #8.079252 # location.latitude \n",
    "longitude =location.longitude #77.5499338 # location.longitude # \n",
    "\n",
    "kan='Kanyakumari location : {},{}'.format(latitude,longitude)\n",
    "print(kan)"
   ]
  },
  {
   "cell_type": "markdown",
   "metadata": {},
   "source": [
    "## 2.d  Search for hotel & restaurant within 1 KM"
   ]
  },
  {
   "cell_type": "code",
   "execution_count": 16,
   "metadata": {
    "collapsed": true
   },
   "outputs": [],
   "source": [
    "#Quering for hotel & restaurant using foursquare API\n",
    "\n",
    "search_query = 'hotel'\n",
    "search_query_res = 'restaurant'\n",
    "\n",
    "radius = 1000\n",
    "url_hotel = 'https://api.foursquare.com/v2/venues/search?client_id={}&client_secret={}&ll={},{}&v={}&query={}&radius={}&limit={}'.format(CLIENT_ID, CLIENT_SECRET, latitude, longitude, VERSION, search_query, radius, LIMIT)\n",
    "url_restaurant = 'https://api.foursquare.com/v2/venues/search?client_id={}&client_secret={}&ll={},{}&v={}&query={}&radius={}&limit={}'.format(CLIENT_ID, CLIENT_SECRET, latitude, longitude, VERSION, search_query_res, radius, LIMIT)\n",
    "#url"
   ]
  },
  {
   "cell_type": "markdown",
   "metadata": {},
   "source": [
    "__Send the GET Request of hotel & restaurants and examine the results__"
   ]
  },
  {
   "cell_type": "code",
   "execution_count": 17,
   "metadata": {
    "collapsed": true
   },
   "outputs": [],
   "source": [
    "results_hotel = requests.get(url_hotel).json()\n",
    "results_restaurant = requests.get(url_restaurant).json()\n",
    "#results_hotel"
   ]
  },
  {
   "cell_type": "markdown",
   "metadata": {},
   "source": [
    "__Get relevant part of JSON and transform it into a pandas dataframe__"
   ]
  },
  {
   "cell_type": "code",
   "execution_count": 18,
   "metadata": {},
   "outputs": [
    {
     "name": "stdout",
     "output_type": "stream",
     "text": [
      "There are 40 restaurants and hotels at Kanyakumari\n"
     ]
    }
   ],
   "source": [
    "venues_hotel = results_hotel['response']['venues']\n",
    "venues_restaurant = results_restaurant['response']['venues']\n",
    "\n",
    "# tranform venues into a dataframe and merging both data\n",
    "dataframe_hotel = json_normalize(venues_hotel)\n",
    "dataframe_restaurant = json_normalize(venues_restaurant)\n",
    "\n",
    "dataframe = pd.concat([dataframe_hotel,dataframe_restaurant])\n",
    "\n",
    "print(\"There are {} restaurants and hotels at Kanyakumari\".format(dataframe.shape[0]))"
   ]
  },
  {
   "cell_type": "markdown",
   "metadata": {},
   "source": [
    "__Define information of interest and filter dataframe__"
   ]
  },
  {
   "cell_type": "code",
   "execution_count": 19,
   "metadata": {},
   "outputs": [
    {
     "data": {
      "text/html": [
       "<div>\n",
       "<style scoped>\n",
       "    .dataframe tbody tr th:only-of-type {\n",
       "        vertical-align: middle;\n",
       "    }\n",
       "\n",
       "    .dataframe tbody tr th {\n",
       "        vertical-align: top;\n",
       "    }\n",
       "\n",
       "    .dataframe thead th {\n",
       "        text-align: right;\n",
       "    }\n",
       "</style>\n",
       "<table border=\"1\" class=\"dataframe\">\n",
       "  <thead>\n",
       "    <tr style=\"text-align: right;\">\n",
       "      <th></th>\n",
       "      <th>name</th>\n",
       "      <th>categories</th>\n",
       "      <th>distance</th>\n",
       "      <th>lat</th>\n",
       "      <th>lng</th>\n",
       "      <th>id</th>\n",
       "    </tr>\n",
       "  </thead>\n",
       "  <tbody>\n",
       "    <tr>\n",
       "      <th>0</th>\n",
       "      <td>Hotel SeaView</td>\n",
       "      <td>Hotel</td>\n",
       "      <td>371</td>\n",
       "      <td>8.082333</td>\n",
       "      <td>77.551217</td>\n",
       "      <td>4cd42e2c558a370412d0c5a6</td>\n",
       "    </tr>\n",
       "    <tr>\n",
       "      <th>1</th>\n",
       "      <td>Hotel Sarvana</td>\n",
       "      <td>Hotel</td>\n",
       "      <td>179</td>\n",
       "      <td>8.080581</td>\n",
       "      <td>77.550861</td>\n",
       "      <td>4db052544df03036e8b9d615</td>\n",
       "    </tr>\n",
       "    <tr>\n",
       "      <th>2</th>\n",
       "      <td>Hotel Samudra</td>\n",
       "      <td>Motel</td>\n",
       "      <td>201</td>\n",
       "      <td>8.080642</td>\n",
       "      <td>77.551102</td>\n",
       "      <td>4d3c66e414aa8cfa4641a95e</td>\n",
       "    </tr>\n",
       "    <tr>\n",
       "      <th>3</th>\n",
       "      <td>Hotel Annapoorna</td>\n",
       "      <td>Indian Restaurant</td>\n",
       "      <td>206</td>\n",
       "      <td>8.080879</td>\n",
       "      <td>77.550835</td>\n",
       "      <td>50ed3a39e4b0ac50005eb3f1</td>\n",
       "    </tr>\n",
       "    <tr>\n",
       "      <th>4</th>\n",
       "      <td>Hotel Trisea</td>\n",
       "      <td>South Indian Restaurant</td>\n",
       "      <td>269</td>\n",
       "      <td>8.081475</td>\n",
       "      <td>77.548969</td>\n",
       "      <td>5030a43ee4b021f7a59c7456</td>\n",
       "    </tr>\n",
       "  </tbody>\n",
       "</table>\n",
       "</div>"
      ],
      "text/plain": [
       "               name               categories  distance       lat        lng  \\\n",
       "0     Hotel SeaView                    Hotel       371  8.082333  77.551217   \n",
       "1     Hotel Sarvana                    Hotel       179  8.080581  77.550861   \n",
       "2     Hotel Samudra                    Motel       201  8.080642  77.551102   \n",
       "3  Hotel Annapoorna        Indian Restaurant       206  8.080879  77.550835   \n",
       "4      Hotel Trisea  South Indian Restaurant       269  8.081475  77.548969   \n",
       "\n",
       "                         id  \n",
       "0  4cd42e2c558a370412d0c5a6  \n",
       "1  4db052544df03036e8b9d615  \n",
       "2  4d3c66e414aa8cfa4641a95e  \n",
       "3  50ed3a39e4b0ac50005eb3f1  \n",
       "4  5030a43ee4b021f7a59c7456  "
      ]
     },
     "execution_count": 19,
     "metadata": {},
     "output_type": "execute_result"
    }
   ],
   "source": [
    "filtered_columns = ['name', 'categories'] + [col for col in dataframe.columns if col.startswith('location.')] + ['id']\n",
    "dataframe_filtered = dataframe.loc[:, filtered_columns]\n",
    "\n",
    "# function that extracts the category of the venue\n",
    "\n",
    "def get_category_type(row):\n",
    "    try:\n",
    "        categories_list = row['categories']\n",
    "    except:\n",
    "        categories_list = row['venue.categories']\n",
    "        \n",
    "    if len(categories_list) == 0:\n",
    "        return None\n",
    "    else:\n",
    "        return categories_list[0]['name']\n",
    "\n",
    "    \n",
    "# filter the category for each row\n",
    "dataframe_filtered['categories'] = dataframe_filtered.apply(get_category_type, axis=1)\n",
    "\n",
    "  \n",
    "# clean column names by keeping only last term\n",
    "dataframe_filtered.columns = [column.split('.')[-1] for column in dataframe_filtered.columns]\n",
    "\n",
    "#dataframe_filtered\n",
    "hotels_df=dataframe_filtered[['name','categories','distance','lat','lng','id']]\n",
    "hotels_df.head()"
   ]
  },
  {
   "cell_type": "markdown",
   "metadata": {},
   "source": [
    "## 2.e Location of Hotels"
   ]
  },
  {
   "cell_type": "code",
   "execution_count": 20,
   "metadata": {
    "scrolled": true
   },
   "outputs": [
    {
     "data": {
      "text/html": [
       "<div style=\"width:100%;\"><div style=\"position:relative;width:100%;height:0;padding-bottom:60%;\"><span style=\"color:#565656\">Make this Notebook Trusted to load map: File -> Trust Notebook</span><iframe src=\"about:blank\" style=\"position:absolute;width:100%;height:100%;left:0;top:0;border:none !important;\" data-html=PCFET0NUWVBFIGh0bWw+CjxoZWFkPiAgICAKICAgIDxtZXRhIGh0dHAtZXF1aXY9ImNvbnRlbnQtdHlwZSIgY29udGVudD0idGV4dC9odG1sOyBjaGFyc2V0PVVURi04IiAvPgogICAgPHNjcmlwdD5MX1BSRUZFUl9DQU5WQVMgPSBmYWxzZTsgTF9OT19UT1VDSCA9IGZhbHNlOyBMX0RJU0FCTEVfM0QgPSBmYWxzZTs8L3NjcmlwdD4KICAgIDxzY3JpcHQgc3JjPSJodHRwczovL2Nkbi5qc2RlbGl2ci5uZXQvbnBtL2xlYWZsZXRAMS4yLjAvZGlzdC9sZWFmbGV0LmpzIj48L3NjcmlwdD4KICAgIDxzY3JpcHQgc3JjPSJodHRwczovL2FqYXguZ29vZ2xlYXBpcy5jb20vYWpheC9saWJzL2pxdWVyeS8xLjExLjEvanF1ZXJ5Lm1pbi5qcyI+PC9zY3JpcHQ+CiAgICA8c2NyaXB0IHNyYz0iaHR0cHM6Ly9tYXhjZG4uYm9vdHN0cmFwY2RuLmNvbS9ib290c3RyYXAvMy4yLjAvanMvYm9vdHN0cmFwLm1pbi5qcyI+PC9zY3JpcHQ+CiAgICA8c2NyaXB0IHNyYz0iaHR0cHM6Ly9jZG5qcy5jbG91ZGZsYXJlLmNvbS9hamF4L2xpYnMvTGVhZmxldC5hd2Vzb21lLW1hcmtlcnMvMi4wLjIvbGVhZmxldC5hd2Vzb21lLW1hcmtlcnMuanMiPjwvc2NyaXB0PgogICAgPGxpbmsgcmVsPSJzdHlsZXNoZWV0IiBocmVmPSJodHRwczovL2Nkbi5qc2RlbGl2ci5uZXQvbnBtL2xlYWZsZXRAMS4yLjAvZGlzdC9sZWFmbGV0LmNzcyIvPgogICAgPGxpbmsgcmVsPSJzdHlsZXNoZWV0IiBocmVmPSJodHRwczovL21heGNkbi5ib290c3RyYXBjZG4uY29tL2Jvb3RzdHJhcC8zLjIuMC9jc3MvYm9vdHN0cmFwLm1pbi5jc3MiLz4KICAgIDxsaW5rIHJlbD0ic3R5bGVzaGVldCIgaHJlZj0iaHR0cHM6Ly9tYXhjZG4uYm9vdHN0cmFwY2RuLmNvbS9ib290c3RyYXAvMy4yLjAvY3NzL2Jvb3RzdHJhcC10aGVtZS5taW4uY3NzIi8+CiAgICA8bGluayByZWw9InN0eWxlc2hlZXQiIGhyZWY9Imh0dHBzOi8vbWF4Y2RuLmJvb3RzdHJhcGNkbi5jb20vZm9udC1hd2Vzb21lLzQuNi4zL2Nzcy9mb250LWF3ZXNvbWUubWluLmNzcyIvPgogICAgPGxpbmsgcmVsPSJzdHlsZXNoZWV0IiBocmVmPSJodHRwczovL2NkbmpzLmNsb3VkZmxhcmUuY29tL2FqYXgvbGlicy9MZWFmbGV0LmF3ZXNvbWUtbWFya2Vycy8yLjAuMi9sZWFmbGV0LmF3ZXNvbWUtbWFya2Vycy5jc3MiLz4KICAgIDxsaW5rIHJlbD0ic3R5bGVzaGVldCIgaHJlZj0iaHR0cHM6Ly9yYXdnaXQuY29tL3B5dGhvbi12aXN1YWxpemF0aW9uL2ZvbGl1bS9tYXN0ZXIvZm9saXVtL3RlbXBsYXRlcy9sZWFmbGV0LmF3ZXNvbWUucm90YXRlLmNzcyIvPgogICAgPHN0eWxlPmh0bWwsIGJvZHkge3dpZHRoOiAxMDAlO2hlaWdodDogMTAwJTttYXJnaW46IDA7cGFkZGluZzogMDt9PC9zdHlsZT4KICAgIDxzdHlsZT4jbWFwIHtwb3NpdGlvbjphYnNvbHV0ZTt0b3A6MDtib3R0b206MDtyaWdodDowO2xlZnQ6MDt9PC9zdHlsZT4KICAgIAogICAgICAgICAgICA8c3R5bGU+ICNtYXBfMjJkNmJiOWEyOWRkNGEzMjlhYzg2OGY5OGI0Mzc3YjUgewogICAgICAgICAgICAgICAgcG9zaXRpb24gOiByZWxhdGl2ZTsKICAgICAgICAgICAgICAgIHdpZHRoIDogMTAwLjAlOwogICAgICAgICAgICAgICAgaGVpZ2h0OiAxMDAuMCU7CiAgICAgICAgICAgICAgICBsZWZ0OiAwLjAlOwogICAgICAgICAgICAgICAgdG9wOiAwLjAlOwogICAgICAgICAgICAgICAgfQogICAgICAgICAgICA8L3N0eWxlPgogICAgICAgIAo8L2hlYWQ+Cjxib2R5PiAgICAKICAgIAogICAgICAgICAgICA8ZGl2IGNsYXNzPSJmb2xpdW0tbWFwIiBpZD0ibWFwXzIyZDZiYjlhMjlkZDRhMzI5YWM4NjhmOThiNDM3N2I1IiA+PC9kaXY+CiAgICAgICAgCjwvYm9keT4KPHNjcmlwdD4gICAgCiAgICAKCiAgICAgICAgICAgIAogICAgICAgICAgICAgICAgdmFyIGJvdW5kcyA9IG51bGw7CiAgICAgICAgICAgIAoKICAgICAgICAgICAgdmFyIG1hcF8yMmQ2YmI5YTI5ZGQ0YTMyOWFjODY4Zjk4YjQzNzdiNSA9IEwubWFwKAogICAgICAgICAgICAgICAgICAgICAgICAgICAgICAgICAgJ21hcF8yMmQ2YmI5YTI5ZGQ0YTMyOWFjODY4Zjk4YjQzNzdiNScsCiAgICAgICAgICAgICAgICAgICAgICAgICAgICAgICAgICB7Y2VudGVyOiBbOC4wNzkyNTIsNzcuNTQ5OTMzOF0sCiAgICAgICAgICAgICAgICAgICAgICAgICAgICAgICAgICB6b29tOiAxNiwKICAgICAgICAgICAgICAgICAgICAgICAgICAgICAgICAgIG1heEJvdW5kczogYm91bmRzLAogICAgICAgICAgICAgICAgICAgICAgICAgICAgICAgICAgbGF5ZXJzOiBbXSwKICAgICAgICAgICAgICAgICAgICAgICAgICAgICAgICAgIHdvcmxkQ29weUp1bXA6IGZhbHNlLAogICAgICAgICAgICAgICAgICAgICAgICAgICAgICAgICAgY3JzOiBMLkNSUy5FUFNHMzg1NwogICAgICAgICAgICAgICAgICAgICAgICAgICAgICAgICB9KTsKICAgICAgICAgICAgCiAgICAgICAgCiAgICAKICAgICAgICAgICAgdmFyIHRpbGVfbGF5ZXJfOGRiNjIzMDEzMzQwNDhiYzgzNzA4ZDFiYWIxYWRiYjYgPSBMLnRpbGVMYXllcigKICAgICAgICAgICAgICAgICdodHRwczovL3tzfS50aWxlLm9wZW5zdHJlZXRtYXAub3JnL3t6fS97eH0ve3l9LnBuZycsCiAgICAgICAgICAgICAgICB7CiAgImF0dHJpYnV0aW9uIjogbnVsbCwKICAiZGV0ZWN0UmV0aW5hIjogZmFsc2UsCiAgIm1heFpvb20iOiAxOCwKICAibWluWm9vbSI6IDEsCiAgIm5vV3JhcCI6IGZhbHNlLAogICJzdWJkb21haW5zIjogImFiYyIKfQogICAgICAgICAgICAgICAgKS5hZGRUbyhtYXBfMjJkNmJiOWEyOWRkNGEzMjlhYzg2OGY5OGI0Mzc3YjUpOwogICAgICAgIAogICAgCiAgICAgICAgICAgIHZhciBjaXJjbGVfbWFya2VyX2JhMmVmNGViYTRiYjRjZTBhOTdjNDBkYmYzYTRjYjJlID0gTC5jaXJjbGVNYXJrZXIoCiAgICAgICAgICAgICAgICBbOC4wNzkyNTIsNzcuNTQ5OTMzOF0sCiAgICAgICAgICAgICAgICB7CiAgImJ1YmJsaW5nTW91c2VFdmVudHMiOiB0cnVlLAogICJjb2xvciI6ICJyZWQiLAogICJkYXNoQXJyYXkiOiBudWxsLAogICJkYXNoT2Zmc2V0IjogbnVsbCwKICAiZmlsbCI6IHRydWUsCiAgImZpbGxDb2xvciI6ICJyZWQiLAogICJmaWxsT3BhY2l0eSI6IDAuNiwKICAiZmlsbFJ1bGUiOiAiZXZlbm9kZCIsCiAgImxpbmVDYXAiOiAicm91bmQiLAogICJsaW5lSm9pbiI6ICJyb3VuZCIsCiAgIm9wYWNpdHkiOiAxLjAsCiAgInJhZGl1cyI6IDEwLAogICJzdHJva2UiOiB0cnVlLAogICJ3ZWlnaHQiOiAzCn0KICAgICAgICAgICAgICAgICkuYWRkVG8obWFwXzIyZDZiYjlhMjlkZDRhMzI5YWM4NjhmOThiNDM3N2I1KTsKICAgICAgICAgICAgCiAgICAKICAgICAgICAgICAgdmFyIHBvcHVwX2MyZjc2ZWU5ZDY1MjQ0ZDNiNDMyYzdhNjllYTc1ZmUxID0gTC5wb3B1cCh7bWF4V2lkdGg6ICczMDAnfSk7CgogICAgICAgICAgICAKICAgICAgICAgICAgICAgIHZhciBodG1sXzA2NGJiZTM3MDQ4ZTQwNjg5ODQ5Nzc0YjY0M2I5NWVmID0gJCgnPGRpdiBpZD0iaHRtbF8wNjRiYmUzNzA0OGU0MDY4OTg0OTc3NGI2NDNiOTVlZiIgc3R5bGU9IndpZHRoOiAxMDAuMCU7IGhlaWdodDogMTAwLjAlOyI+S2FueWFrdW1hcmk8L2Rpdj4nKVswXTsKICAgICAgICAgICAgICAgIHBvcHVwX2MyZjc2ZWU5ZDY1MjQ0ZDNiNDMyYzdhNjllYTc1ZmUxLnNldENvbnRlbnQoaHRtbF8wNjRiYmUzNzA0OGU0MDY4OTg0OTc3NGI2NDNiOTVlZik7CiAgICAgICAgICAgIAoKICAgICAgICAgICAgY2lyY2xlX21hcmtlcl9iYTJlZjRlYmE0YmI0Y2UwYTk3YzQwZGJmM2E0Y2IyZS5iaW5kUG9wdXAocG9wdXBfYzJmNzZlZTlkNjUyNDRkM2I0MzJjN2E2OWVhNzVmZTEpOwoKICAgICAgICAgICAgCiAgICAgICAgCiAgICAKICAgICAgICAgICAgdmFyIGNpcmNsZV9tYXJrZXJfODZmZmZkMDdmOTJhNDY1MDgxYWIxNDA0NjAxMDNiOTAgPSBMLmNpcmNsZU1hcmtlcigKICAgICAgICAgICAgICAgIFs4LjA4MjMzMzI2MDY5MjgzOCw3Ny41NTEyMTY3OTQxNjgxXSwKICAgICAgICAgICAgICAgIHsKICAiYnViYmxpbmdNb3VzZUV2ZW50cyI6IHRydWUsCiAgImNvbG9yIjogImJsdWUiLAogICJkYXNoQXJyYXkiOiBudWxsLAogICJkYXNoT2Zmc2V0IjogbnVsbCwKICAiZmlsbCI6IHRydWUsCiAgImZpbGxDb2xvciI6ICJibHVlIiwKICAiZmlsbE9wYWNpdHkiOiAwLjYsCiAgImZpbGxSdWxlIjogImV2ZW5vZGQiLAogICJsaW5lQ2FwIjogInJvdW5kIiwKICAibGluZUpvaW4iOiAicm91bmQiLAogICJvcGFjaXR5IjogMS4wLAogICJyYWRpdXMiOiA1LAogICJzdHJva2UiOiB0cnVlLAogICJ3ZWlnaHQiOiAzCn0KICAgICAgICAgICAgICAgICkuYWRkVG8obWFwXzIyZDZiYjlhMjlkZDRhMzI5YWM4NjhmOThiNDM3N2I1KTsKICAgICAgICAgICAgCiAgICAKICAgICAgICAgICAgdmFyIHBvcHVwXzBhNTRlODc0ZjM5MDRjMTE4Y2IyODY0ZTljZTJmZTJiID0gTC5wb3B1cCh7bWF4V2lkdGg6ICczMDAnfSk7CgogICAgICAgICAgICAKICAgICAgICAgICAgICAgIHZhciBodG1sXzQ5NDM0NTljNDkxYjRlOWJiNDgxZGI3OTE4NTEzNjhlID0gJCgnPGRpdiBpZD0iaHRtbF80OTQzNDU5YzQ5MWI0ZTliYjQ4MWRiNzkxODUxMzY4ZSIgc3R5bGU9IndpZHRoOiAxMDAuMCU7IGhlaWdodDogMTAwLjAlOyI+SG90ZWwgU2VhVmlldzwvZGl2PicpWzBdOwogICAgICAgICAgICAgICAgcG9wdXBfMGE1NGU4NzRmMzkwNGMxMThjYjI4NjRlOWNlMmZlMmIuc2V0Q29udGVudChodG1sXzQ5NDM0NTljNDkxYjRlOWJiNDgxZGI3OTE4NTEzNjhlKTsKICAgICAgICAgICAgCgogICAgICAgICAgICBjaXJjbGVfbWFya2VyXzg2ZmZmZDA3ZjkyYTQ2NTA4MWFiMTQwNDYwMTAzYjkwLmJpbmRQb3B1cChwb3B1cF8wYTU0ZTg3NGYzOTA0YzExOGNiMjg2NGU5Y2UyZmUyYik7CgogICAgICAgICAgICAKICAgICAgICAKICAgIAogICAgICAgICAgICB2YXIgY2lyY2xlX21hcmtlcl81ZTU0NWEyNDE5ODU0ZmMzYjE4OWE0ODUxMWRhNGVhZCA9IEwuY2lyY2xlTWFya2VyKAogICAgICAgICAgICAgICAgWzguMDgwNTgwNTU0MDA1MTY3LDc3LjU1MDg2MTMyNTMyNDM2XSwKICAgICAgICAgICAgICAgIHsKICAiYnViYmxpbmdNb3VzZUV2ZW50cyI6IHRydWUsCiAgImNvbG9yIjogImJsdWUiLAogICJkYXNoQXJyYXkiOiBudWxsLAogICJkYXNoT2Zmc2V0IjogbnVsbCwKICAiZmlsbCI6IHRydWUsCiAgImZpbGxDb2xvciI6ICJibHVlIiwKICAiZmlsbE9wYWNpdHkiOiAwLjYsCiAgImZpbGxSdWxlIjogImV2ZW5vZGQiLAogICJsaW5lQ2FwIjogInJvdW5kIiwKICAibGluZUpvaW4iOiAicm91bmQiLAogICJvcGFjaXR5IjogMS4wLAogICJyYWRpdXMiOiA1LAogICJzdHJva2UiOiB0cnVlLAogICJ3ZWlnaHQiOiAzCn0KICAgICAgICAgICAgICAgICkuYWRkVG8obWFwXzIyZDZiYjlhMjlkZDRhMzI5YWM4NjhmOThiNDM3N2I1KTsKICAgICAgICAgICAgCiAgICAKICAgICAgICAgICAgdmFyIHBvcHVwXzBjNThlMzdhMjYxZDQwMjBiNzBhMGI0MjVhNDc0YjEzID0gTC5wb3B1cCh7bWF4V2lkdGg6ICczMDAnfSk7CgogICAgICAgICAgICAKICAgICAgICAgICAgICAgIHZhciBodG1sX2I0NzY0Yjk5MjZkYzRlNDJhMWY3NGJkNWRjODY4NmVhID0gJCgnPGRpdiBpZD0iaHRtbF9iNDc2NGI5OTI2ZGM0ZTQyYTFmNzRiZDVkYzg2ODZlYSIgc3R5bGU9IndpZHRoOiAxMDAuMCU7IGhlaWdodDogMTAwLjAlOyI+SG90ZWwgU2FydmFuYTwvZGl2PicpWzBdOwogICAgICAgICAgICAgICAgcG9wdXBfMGM1OGUzN2EyNjFkNDAyMGI3MGEwYjQyNWE0NzRiMTMuc2V0Q29udGVudChodG1sX2I0NzY0Yjk5MjZkYzRlNDJhMWY3NGJkNWRjODY4NmVhKTsKICAgICAgICAgICAgCgogICAgICAgICAgICBjaXJjbGVfbWFya2VyXzVlNTQ1YTI0MTk4NTRmYzNiMTg5YTQ4NTExZGE0ZWFkLmJpbmRQb3B1cChwb3B1cF8wYzU4ZTM3YTI2MWQ0MDIwYjcwYTBiNDI1YTQ3NGIxMyk7CgogICAgICAgICAgICAKICAgICAgICAKICAgIAogICAgICAgICAgICB2YXIgY2lyY2xlX21hcmtlcl8xODg4YmZmMjg1Yzg0MzBlYjc2ODg4NDM1ZjkxZWFhOCA9IEwuY2lyY2xlTWFya2VyKAogICAgICAgICAgICAgICAgWzguMDgwNjQyNDE4NTI0NTAzLDc3LjU1MTEwMjAzNjY1ODkyXSwKICAgICAgICAgICAgICAgIHsKICAiYnViYmxpbmdNb3VzZUV2ZW50cyI6IHRydWUsCiAgImNvbG9yIjogImJsdWUiLAogICJkYXNoQXJyYXkiOiBudWxsLAogICJkYXNoT2Zmc2V0IjogbnVsbCwKICAiZmlsbCI6IHRydWUsCiAgImZpbGxDb2xvciI6ICJibHVlIiwKICAiZmlsbE9wYWNpdHkiOiAwLjYsCiAgImZpbGxSdWxlIjogImV2ZW5vZGQiLAogICJsaW5lQ2FwIjogInJvdW5kIiwKICAibGluZUpvaW4iOiAicm91bmQiLAogICJvcGFjaXR5IjogMS4wLAogICJyYWRpdXMiOiA1LAogICJzdHJva2UiOiB0cnVlLAogICJ3ZWlnaHQiOiAzCn0KICAgICAgICAgICAgICAgICkuYWRkVG8obWFwXzIyZDZiYjlhMjlkZDRhMzI5YWM4NjhmOThiNDM3N2I1KTsKICAgICAgICAgICAgCiAgICAKICAgICAgICAgICAgdmFyIHBvcHVwXzk5NzVmYTUxMDdmNzRlMDdhYzQxNjFhYzhkNTlhMjY4ID0gTC5wb3B1cCh7bWF4V2lkdGg6ICczMDAnfSk7CgogICAgICAgICAgICAKICAgICAgICAgICAgICAgIHZhciBodG1sXzg1MDAxNDllNjAxYjRhM2ZiYTJhMzgwMTgwNWZiNmQzID0gJCgnPGRpdiBpZD0iaHRtbF84NTAwMTQ5ZTYwMWI0YTNmYmEyYTM4MDE4MDVmYjZkMyIgc3R5bGU9IndpZHRoOiAxMDAuMCU7IGhlaWdodDogMTAwLjAlOyI+SG90ZWwgU2FtdWRyYTwvZGl2PicpWzBdOwogICAgICAgICAgICAgICAgcG9wdXBfOTk3NWZhNTEwN2Y3NGUwN2FjNDE2MWFjOGQ1OWEyNjguc2V0Q29udGVudChodG1sXzg1MDAxNDllNjAxYjRhM2ZiYTJhMzgwMTgwNWZiNmQzKTsKICAgICAgICAgICAgCgogICAgICAgICAgICBjaXJjbGVfbWFya2VyXzE4ODhiZmYyODVjODQzMGViNzY4ODg0MzVmOTFlYWE4LmJpbmRQb3B1cChwb3B1cF85OTc1ZmE1MTA3Zjc0ZTA3YWM0MTYxYWM4ZDU5YTI2OCk7CgogICAgICAgICAgICAKICAgICAgICAKICAgIAogICAgICAgICAgICB2YXIgY2lyY2xlX21hcmtlcl82NjBmYjc2ODc0MDM0ZjViOTY5YjZmMzAxOGUxMWQ3MSA9IEwuY2lyY2xlTWFya2VyKAogICAgICAgICAgICAgICAgWzguMDgwODc5MjExNDI1NzgxLDc3LjU1MDgzNDY1NTc2MTcyXSwKICAgICAgICAgICAgICAgIHsKICAiYnViYmxpbmdNb3VzZUV2ZW50cyI6IHRydWUsCiAgImNvbG9yIjogImJsdWUiLAogICJkYXNoQXJyYXkiOiBudWxsLAogICJkYXNoT2Zmc2V0IjogbnVsbCwKICAiZmlsbCI6IHRydWUsCiAgImZpbGxDb2xvciI6ICJibHVlIiwKICAiZmlsbE9wYWNpdHkiOiAwLjYsCiAgImZpbGxSdWxlIjogImV2ZW5vZGQiLAogICJsaW5lQ2FwIjogInJvdW5kIiwKICAibGluZUpvaW4iOiAicm91bmQiLAogICJvcGFjaXR5IjogMS4wLAogICJyYWRpdXMiOiA1LAogICJzdHJva2UiOiB0cnVlLAogICJ3ZWlnaHQiOiAzCn0KICAgICAgICAgICAgICAgICkuYWRkVG8obWFwXzIyZDZiYjlhMjlkZDRhMzI5YWM4NjhmOThiNDM3N2I1KTsKICAgICAgICAgICAgCiAgICAKICAgICAgICAgICAgdmFyIHBvcHVwX2MyNjI1OTQ1NmNkNTQwZTJiZGU2M2Q1ZDk4ODQwNDA0ID0gTC5wb3B1cCh7bWF4V2lkdGg6ICczMDAnfSk7CgogICAgICAgICAgICAKICAgICAgICAgICAgICAgIHZhciBodG1sX2Q4YmI2ZWEyZjM1NDQ2ZTRiZDQxNzI0NzlkZGJkNTA4ID0gJCgnPGRpdiBpZD0iaHRtbF9kOGJiNmVhMmYzNTQ0NmU0YmQ0MTcyNDc5ZGRiZDUwOCIgc3R5bGU9IndpZHRoOiAxMDAuMCU7IGhlaWdodDogMTAwLjAlOyI+SG90ZWwgQW5uYXBvb3JuYTwvZGl2PicpWzBdOwogICAgICAgICAgICAgICAgcG9wdXBfYzI2MjU5NDU2Y2Q1NDBlMmJkZTYzZDVkOTg4NDA0MDQuc2V0Q29udGVudChodG1sX2Q4YmI2ZWEyZjM1NDQ2ZTRiZDQxNzI0NzlkZGJkNTA4KTsKICAgICAgICAgICAgCgogICAgICAgICAgICBjaXJjbGVfbWFya2VyXzY2MGZiNzY4NzQwMzRmNWI5NjliNmYzMDE4ZTExZDcxLmJpbmRQb3B1cChwb3B1cF9jMjYyNTk0NTZjZDU0MGUyYmRlNjNkNWQ5ODg0MDQwNCk7CgogICAgICAgICAgICAKICAgICAgICAKICAgIAogICAgICAgICAgICB2YXIgY2lyY2xlX21hcmtlcl9jNTJlNmZhYjJkODk0Y2Q4OWQyYTRlZTFlYjY2MDEzNyA9IEwuY2lyY2xlTWFya2VyKAogICAgICAgICAgICAgICAgWzguMDgxNDc1Mjk1MDQ4MTI3LDc3LjU0ODk2OTIwNDQ5OTA3XSwKICAgICAgICAgICAgICAgIHsKICAiYnViYmxpbmdNb3VzZUV2ZW50cyI6IHRydWUsCiAgImNvbG9yIjogImJsdWUiLAogICJkYXNoQXJyYXkiOiBudWxsLAogICJkYXNoT2Zmc2V0IjogbnVsbCwKICAiZmlsbCI6IHRydWUsCiAgImZpbGxDb2xvciI6ICJibHVlIiwKICAiZmlsbE9wYWNpdHkiOiAwLjYsCiAgImZpbGxSdWxlIjogImV2ZW5vZGQiLAogICJsaW5lQ2FwIjogInJvdW5kIiwKICAibGluZUpvaW4iOiAicm91bmQiLAogICJvcGFjaXR5IjogMS4wLAogICJyYWRpdXMiOiA1LAogICJzdHJva2UiOiB0cnVlLAogICJ3ZWlnaHQiOiAzCn0KICAgICAgICAgICAgICAgICkuYWRkVG8obWFwXzIyZDZiYjlhMjlkZDRhMzI5YWM4NjhmOThiNDM3N2I1KTsKICAgICAgICAgICAgCiAgICAKICAgICAgICAgICAgdmFyIHBvcHVwXzIxOWFmZmVjNWU5NTQwODg5ZTQyMTQ4ZjFkNDc3YmEwID0gTC5wb3B1cCh7bWF4V2lkdGg6ICczMDAnfSk7CgogICAgICAgICAgICAKICAgICAgICAgICAgICAgIHZhciBodG1sXzM4OGIzZGU1NjljNTRjZTU5ODBmZmM4MGRlZjI1MzA4ID0gJCgnPGRpdiBpZD0iaHRtbF8zODhiM2RlNTY5YzU0Y2U1OTgwZmZjODBkZWYyNTMwOCIgc3R5bGU9IndpZHRoOiAxMDAuMCU7IGhlaWdodDogMTAwLjAlOyI+SG90ZWwgVHJpc2VhPC9kaXY+JylbMF07CiAgICAgICAgICAgICAgICBwb3B1cF8yMTlhZmZlYzVlOTU0MDg4OWU0MjE0OGYxZDQ3N2JhMC5zZXRDb250ZW50KGh0bWxfMzg4YjNkZTU2OWM1NGNlNTk4MGZmYzgwZGVmMjUzMDgpOwogICAgICAgICAgICAKCiAgICAgICAgICAgIGNpcmNsZV9tYXJrZXJfYzUyZTZmYWIyZDg5NGNkODlkMmE0ZWUxZWI2NjAxMzcuYmluZFBvcHVwKHBvcHVwXzIxOWFmZmVjNWU5NTQwODg5ZTQyMTQ4ZjFkNDc3YmEwKTsKCiAgICAgICAgICAgIAogICAgICAgIAogICAgCiAgICAgICAgICAgIHZhciBjaXJjbGVfbWFya2VyX2VmZGFmZGQzODA1ZjQ0MmM4NGM2MDZlOTc5MTRlYTAxID0gTC5jaXJjbGVNYXJrZXIoCiAgICAgICAgICAgICAgICBbOC4wODE2Nzk2OTM5NjU4ODEsNzcuNTQ4ODAxMjYzMjU2OTZdLAogICAgICAgICAgICAgICAgewogICJidWJibGluZ01vdXNlRXZlbnRzIjogdHJ1ZSwKICAiY29sb3IiOiAiYmx1ZSIsCiAgImRhc2hBcnJheSI6IG51bGwsCiAgImRhc2hPZmZzZXQiOiBudWxsLAogICJmaWxsIjogdHJ1ZSwKICAiZmlsbENvbG9yIjogImJsdWUiLAogICJmaWxsT3BhY2l0eSI6IDAuNiwKICAiZmlsbFJ1bGUiOiAiZXZlbm9kZCIsCiAgImxpbmVDYXAiOiAicm91bmQiLAogICJsaW5lSm9pbiI6ICJyb3VuZCIsCiAgIm9wYWNpdHkiOiAxLjAsCiAgInJhZGl1cyI6IDUsCiAgInN0cm9rZSI6IHRydWUsCiAgIndlaWdodCI6IDMKfQogICAgICAgICAgICAgICAgKS5hZGRUbyhtYXBfMjJkNmJiOWEyOWRkNGEzMjlhYzg2OGY5OGI0Mzc3YjUpOwogICAgICAgICAgICAKICAgIAogICAgICAgICAgICB2YXIgcG9wdXBfYWI2MWZmMTlkOWFjNGY3MzgyMGYxM2E3MzE1ZjEwOTMgPSBMLnBvcHVwKHttYXhXaWR0aDogJzMwMCd9KTsKCiAgICAgICAgICAgIAogICAgICAgICAgICAgICAgdmFyIGh0bWxfMDQ0YjQ5OWE5OWExNDVlYjhjZmQ0ZjcwNGRlMzc5MDYgPSAkKCc8ZGl2IGlkPSJodG1sXzA0NGI0OTlhOTlhMTQ1ZWI4Y2ZkNGY3MDRkZTM3OTA2IiBzdHlsZT0id2lkdGg6IDEwMC4wJTsgaGVpZ2h0OiAxMDAuMCU7Ij5Ib3RlbCBTdW4gV29ybGQ8L2Rpdj4nKVswXTsKICAgICAgICAgICAgICAgIHBvcHVwX2FiNjFmZjE5ZDlhYzRmNzM4MjBmMTNhNzMxNWYxMDkzLnNldENvbnRlbnQoaHRtbF8wNDRiNDk5YTk5YTE0NWViOGNmZDRmNzA0ZGUzNzkwNik7CiAgICAgICAgICAgIAoKICAgICAgICAgICAgY2lyY2xlX21hcmtlcl9lZmRhZmRkMzgwNWY0NDJjODRjNjA2ZTk3OTE0ZWEwMS5iaW5kUG9wdXAocG9wdXBfYWI2MWZmMTlkOWFjNGY3MzgyMGYxM2E3MzE1ZjEwOTMpOwoKICAgICAgICAgICAgCiAgICAgICAgCiAgICAKICAgICAgICAgICAgdmFyIGNpcmNsZV9tYXJrZXJfZjBiNDJkOTM1MzRmNDVkNTkzYjRlZTg3NjRiNmNlOTAgPSBMLmNpcmNsZU1hcmtlcigKICAgICAgICAgICAgICAgIFs4LjA4MjEwMTkyOTc0OTgzOCw3Ny41NTA4MzMzMzU2MDExN10sCiAgICAgICAgICAgICAgICB7CiAgImJ1YmJsaW5nTW91c2VFdmVudHMiOiB0cnVlLAogICJjb2xvciI6ICJibHVlIiwKICAiZGFzaEFycmF5IjogbnVsbCwKICAiZGFzaE9mZnNldCI6IG51bGwsCiAgImZpbGwiOiB0cnVlLAogICJmaWxsQ29sb3IiOiAiYmx1ZSIsCiAgImZpbGxPcGFjaXR5IjogMC42LAogICJmaWxsUnVsZSI6ICJldmVub2RkIiwKICAibGluZUNhcCI6ICJyb3VuZCIsCiAgImxpbmVKb2luIjogInJvdW5kIiwKICAib3BhY2l0eSI6IDEuMCwKICAicmFkaXVzIjogNSwKICAic3Ryb2tlIjogdHJ1ZSwKICAid2VpZ2h0IjogMwp9CiAgICAgICAgICAgICAgICApLmFkZFRvKG1hcF8yMmQ2YmI5YTI5ZGQ0YTMyOWFjODY4Zjk4YjQzNzdiNSk7CiAgICAgICAgICAgIAogICAgCiAgICAgICAgICAgIHZhciBwb3B1cF8xZDcxYTc0NzBmZTM0YjMxYTYzODE1ZjcxMTYzYWE1MyA9IEwucG9wdXAoe21heFdpZHRoOiAnMzAwJ30pOwoKICAgICAgICAgICAgCiAgICAgICAgICAgICAgICB2YXIgaHRtbF9kMmE0NGMyYzNlMDQ0N2ZiOGQ0MDQ2Y2Y2MmEyNzViNCA9ICQoJzxkaXYgaWQ9Imh0bWxfZDJhNDRjMmMzZTA0NDdmYjhkNDA0NmNmNjJhMjc1YjQiIHN0eWxlPSJ3aWR0aDogMTAwLjAlOyBoZWlnaHQ6IDEwMC4wJTsiPkhvdGVsIFNlYSBGYWNlPC9kaXY+JylbMF07CiAgICAgICAgICAgICAgICBwb3B1cF8xZDcxYTc0NzBmZTM0YjMxYTYzODE1ZjcxMTYzYWE1My5zZXRDb250ZW50KGh0bWxfZDJhNDRjMmMzZTA0NDdmYjhkNDA0NmNmNjJhMjc1YjQpOwogICAgICAgICAgICAKCiAgICAgICAgICAgIGNpcmNsZV9tYXJrZXJfZjBiNDJkOTM1MzRmNDVkNTkzYjRlZTg3NjRiNmNlOTAuYmluZFBvcHVwKHBvcHVwXzFkNzFhNzQ3MGZlMzRiMzFhNjM4MTVmNzExNjNhYTUzKTsKCiAgICAgICAgICAgIAogICAgICAgIAogICAgCiAgICAgICAgICAgIHZhciBjaXJjbGVfbWFya2VyX2VlZTIxMDk1Njk3NDQwMjA4NWE3YTU4OTE4ZjE5NmM4ID0gTC5jaXJjbGVNYXJrZXIoCiAgICAgICAgICAgICAgICBbOC4wODIzMTUsNzcuNTQ5NzFdLAogICAgICAgICAgICAgICAgewogICJidWJibGluZ01vdXNlRXZlbnRzIjogdHJ1ZSwKICAiY29sb3IiOiAiYmx1ZSIsCiAgImRhc2hBcnJheSI6IG51bGwsCiAgImRhc2hPZmZzZXQiOiBudWxsLAogICJmaWxsIjogdHJ1ZSwKICAiZmlsbENvbG9yIjogImJsdWUiLAogICJmaWxsT3BhY2l0eSI6IDAuNiwKICAiZmlsbFJ1bGUiOiAiZXZlbm9kZCIsCiAgImxpbmVDYXAiOiAicm91bmQiLAogICJsaW5lSm9pbiI6ICJyb3VuZCIsCiAgIm9wYWNpdHkiOiAxLjAsCiAgInJhZGl1cyI6IDUsCiAgInN0cm9rZSI6IHRydWUsCiAgIndlaWdodCI6IDMKfQogICAgICAgICAgICAgICAgKS5hZGRUbyhtYXBfMjJkNmJiOWEyOWRkNGEzMjlhYzg2OGY5OGI0Mzc3YjUpOwogICAgICAgICAgICAKICAgIAogICAgICAgICAgICB2YXIgcG9wdXBfY2FjMTkzOWI3ZDdjNDA3ZDkzMjBiMTM2N2M2ODVlYzggPSBMLnBvcHVwKHttYXhXaWR0aDogJzMwMCd9KTsKCiAgICAgICAgICAgIAogICAgICAgICAgICAgICAgdmFyIGh0bWxfMGMwNDgwYmQ0MWEyNGQ1YTkyNmY4NTFmMTczMDAzZTggPSAkKCc8ZGl2IGlkPSJodG1sXzBjMDQ4MGJkNDFhMjRkNWE5MjZmODUxZjE3MzAwM2U4IiBzdHlsZT0id2lkdGg6IDEwMC4wJTsgaGVpZ2h0OiAxMDAuMCU7Ij5Ib3RlbCBWaXN3YTwvZGl2PicpWzBdOwogICAgICAgICAgICAgICAgcG9wdXBfY2FjMTkzOWI3ZDdjNDA3ZDkzMjBiMTM2N2M2ODVlYzguc2V0Q29udGVudChodG1sXzBjMDQ4MGJkNDFhMjRkNWE5MjZmODUxZjE3MzAwM2U4KTsKICAgICAgICAgICAgCgogICAgICAgICAgICBjaXJjbGVfbWFya2VyX2VlZTIxMDk1Njk3NDQwMjA4NWE3YTU4OTE4ZjE5NmM4LmJpbmRQb3B1cChwb3B1cF9jYWMxOTM5YjdkN2M0MDdkOTMyMGIxMzY3YzY4NWVjOCk7CgogICAgICAgICAgICAKICAgICAgICAKICAgIAogICAgICAgICAgICB2YXIgY2lyY2xlX21hcmtlcl8wMDI4MzRmYzkxYTE0NWRkYmIwM2ZiNjM4YTY5N2JiYiA9IEwuY2lyY2xlTWFya2VyKAogICAgICAgICAgICAgICAgWzguMDc5MTQ5MTIzMjM3ODEyLDc3LjU1MTQ2MDMwMzc0NjMxXSwKICAgICAgICAgICAgICAgIHsKICAiYnViYmxpbmdNb3VzZUV2ZW50cyI6IHRydWUsCiAgImNvbG9yIjogImJsdWUiLAogICJkYXNoQXJyYXkiOiBudWxsLAogICJkYXNoT2Zmc2V0IjogbnVsbCwKICAiZmlsbCI6IHRydWUsCiAgImZpbGxDb2xvciI6ICJibHVlIiwKICAiZmlsbE9wYWNpdHkiOiAwLjYsCiAgImZpbGxSdWxlIjogImV2ZW5vZGQiLAogICJsaW5lQ2FwIjogInJvdW5kIiwKICAibGluZUpvaW4iOiAicm91bmQiLAogICJvcGFjaXR5IjogMS4wLAogICJyYWRpdXMiOiA1LAogICJzdHJva2UiOiB0cnVlLAogICJ3ZWlnaHQiOiAzCn0KICAgICAgICAgICAgICAgICkuYWRkVG8obWFwXzIyZDZiYjlhMjlkZDRhMzI5YWM4NjhmOThiNDM3N2I1KTsKICAgICAgICAgICAgCiAgICAKICAgICAgICAgICAgdmFyIHBvcHVwXzcwNjZmZmM2MDNlNDQxODViMzg2NTc4NGQyNTIwMGI3ID0gTC5wb3B1cCh7bWF4V2lkdGg6ICczMDAnfSk7CgogICAgICAgICAgICAKICAgICAgICAgICAgICAgIHZhciBodG1sX2Q5M2YxY2VmZDU1OTRhYjFhYzkxODRmY2IxYTM4ZjQzID0gJCgnPGRpdiBpZD0iaHRtbF9kOTNmMWNlZmQ1NTk0YWIxYWM5MTg0ZmNiMWEzOGY0MyIgc3R5bGU9IndpZHRoOiAxMDAuMCU7IGhlaWdodDogMTAwLjAlOyI+VHJpIFN0YXIgSG90ZWw8L2Rpdj4nKVswXTsKICAgICAgICAgICAgICAgIHBvcHVwXzcwNjZmZmM2MDNlNDQxODViMzg2NTc4NGQyNTIwMGI3LnNldENvbnRlbnQoaHRtbF9kOTNmMWNlZmQ1NTk0YWIxYWM5MTg0ZmNiMWEzOGY0Myk7CiAgICAgICAgICAgIAoKICAgICAgICAgICAgY2lyY2xlX21hcmtlcl8wMDI4MzRmYzkxYTE0NWRkYmIwM2ZiNjM4YTY5N2JiYi5iaW5kUG9wdXAocG9wdXBfNzA2NmZmYzYwM2U0NDE4NWIzODY1Nzg0ZDI1MjAwYjcpOwoKICAgICAgICAgICAgCiAgICAgICAgCiAgICAKICAgICAgICAgICAgdmFyIGNpcmNsZV9tYXJrZXJfZTFlZDA5YjBiYmQwNDU1OWE1MmFmMTA1OGY5MjE4YWEgPSBMLmNpcmNsZU1hcmtlcigKICAgICAgICAgICAgICAgIFs4LjA4MjU4MTg0NTAxMTA0NCw3Ny41NTE0MDQzMjQ1ODg0N10sCiAgICAgICAgICAgICAgICB7CiAgImJ1YmJsaW5nTW91c2VFdmVudHMiOiB0cnVlLAogICJjb2xvciI6ICJibHVlIiwKICAiZGFzaEFycmF5IjogbnVsbCwKICAiZGFzaE9mZnNldCI6IG51bGwsCiAgImZpbGwiOiB0cnVlLAogICJmaWxsQ29sb3IiOiAiYmx1ZSIsCiAgImZpbGxPcGFjaXR5IjogMC42LAogICJmaWxsUnVsZSI6ICJldmVub2RkIiwKICAibGluZUNhcCI6ICJyb3VuZCIsCiAgImxpbmVKb2luIjogInJvdW5kIiwKICAib3BhY2l0eSI6IDEuMCwKICAicmFkaXVzIjogNSwKICAic3Ryb2tlIjogdHJ1ZSwKICAid2VpZ2h0IjogMwp9CiAgICAgICAgICAgICAgICApLmFkZFRvKG1hcF8yMmQ2YmI5YTI5ZGQ0YTMyOWFjODY4Zjk4YjQzNzdiNSk7CiAgICAgICAgICAgIAogICAgCiAgICAgICAgICAgIHZhciBwb3B1cF80N2U0Y2Y4YjRmMjg0MzIyOGYzZGQ3Y2M2ZWQxM2U0OCA9IEwucG9wdXAoe21heFdpZHRoOiAnMzAwJ30pOwoKICAgICAgICAgICAgCiAgICAgICAgICAgICAgICB2YXIgaHRtbF9mZTgzOWE4ZjQyMGI0Yjg5YWI0MzRkMGM4MGZhYjA5MCA9ICQoJzxkaXYgaWQ9Imh0bWxfZmU4MzlhOGY0MjBiNGI4OWFiNDM0ZDBjODBmYWIwOTAiIHN0eWxlPSJ3aWR0aDogMTAwLjAlOyBoZWlnaHQ6IDEwMC4wJTsiPkhvdGVsIFRoZSBHb3Bpbml2YXMgR3JhbmQ8L2Rpdj4nKVswXTsKICAgICAgICAgICAgICAgIHBvcHVwXzQ3ZTRjZjhiNGYyODQzMjI4ZjNkZDdjYzZlZDEzZTQ4LnNldENvbnRlbnQoaHRtbF9mZTgzOWE4ZjQyMGI0Yjg5YWI0MzRkMGM4MGZhYjA5MCk7CiAgICAgICAgICAgIAoKICAgICAgICAgICAgY2lyY2xlX21hcmtlcl9lMWVkMDliMGJiZDA0NTU5YTUyYWYxMDU4ZjkyMThhYS5iaW5kUG9wdXAocG9wdXBfNDdlNGNmOGI0ZjI4NDMyMjhmM2RkN2NjNmVkMTNlNDgpOwoKICAgICAgICAgICAgCiAgICAgICAgCiAgICAKICAgICAgICAgICAgdmFyIGNpcmNsZV9tYXJrZXJfYmU2MDU0Zjk1Yjk1NDQyYWJhYmEyMzI2YmUxYjBkODMgPSBMLmNpcmNsZU1hcmtlcigKICAgICAgICAgICAgICAgIFs4LjA3NjI2OCw3Ny41NDg2N10sCiAgICAgICAgICAgICAgICB7CiAgImJ1YmJsaW5nTW91c2VFdmVudHMiOiB0cnVlLAogICJjb2xvciI6ICJibHVlIiwKICAiZGFzaEFycmF5IjogbnVsbCwKICAiZGFzaE9mZnNldCI6IG51bGwsCiAgImZpbGwiOiB0cnVlLAogICJmaWxsQ29sb3IiOiAiYmx1ZSIsCiAgImZpbGxPcGFjaXR5IjogMC42LAogICJmaWxsUnVsZSI6ICJldmVub2RkIiwKICAibGluZUNhcCI6ICJyb3VuZCIsCiAgImxpbmVKb2luIjogInJvdW5kIiwKICAib3BhY2l0eSI6IDEuMCwKICAicmFkaXVzIjogNSwKICAic3Ryb2tlIjogdHJ1ZSwKICAid2VpZ2h0IjogMwp9CiAgICAgICAgICAgICAgICApLmFkZFRvKG1hcF8yMmQ2YmI5YTI5ZGQ0YTMyOWFjODY4Zjk4YjQzNzdiNSk7CiAgICAgICAgICAgIAogICAgCiAgICAgICAgICAgIHZhciBwb3B1cF85ZDQxYjI1NDNlNWI0MGYzYThhNjFiNzIwODc1ZDRjOCA9IEwucG9wdXAoe21heFdpZHRoOiAnMzAwJ30pOwoKICAgICAgICAgICAgCiAgICAgICAgICAgICAgICB2YXIgaHRtbF84YzMzZmRiYzNmZmY0YjM5ODRiZTRhNmM1MDQ5YmNjYyA9ICQoJzxkaXYgaWQ9Imh0bWxfOGMzM2ZkYmMzZmZmNGIzOTg0YmU0YTZjNTA0OWJjY2MiIHN0eWxlPSJ3aWR0aDogMTAwLjAlOyBoZWlnaHQ6IDEwMC4wJTsiPkhvdGVsIEJoYXJhbmk8L2Rpdj4nKVswXTsKICAgICAgICAgICAgICAgIHBvcHVwXzlkNDFiMjU0M2U1YjQwZjNhOGE2MWI3MjA4NzVkNGM4LnNldENvbnRlbnQoaHRtbF84YzMzZmRiYzNmZmY0YjM5ODRiZTRhNmM1MDQ5YmNjYyk7CiAgICAgICAgICAgIAoKICAgICAgICAgICAgY2lyY2xlX21hcmtlcl9iZTYwNTRmOTViOTU0NDJhYmFiYTIzMjZiZTFiMGQ4My5iaW5kUG9wdXAocG9wdXBfOWQ0MWIyNTQzZTViNDBmM2E4YTYxYjcyMDg3NWQ0YzgpOwoKICAgICAgICAgICAgCiAgICAgICAgCiAgICAKICAgICAgICAgICAgdmFyIGNpcmNsZV9tYXJrZXJfZGM5MGRkYjY2NTJhNDgzOTg0OTQxNTA2MjRiMzZhYWEgPSBMLmNpcmNsZU1hcmtlcigKICAgICAgICAgICAgICAgIFs4LjA4MjgzMTYwMjAwNjU0LDc3LjU1MDk1MDg5MjM5MjIxXSwKICAgICAgICAgICAgICAgIHsKICAiYnViYmxpbmdNb3VzZUV2ZW50cyI6IHRydWUsCiAgImNvbG9yIjogImJsdWUiLAogICJkYXNoQXJyYXkiOiBudWxsLAogICJkYXNoT2Zmc2V0IjogbnVsbCwKICAiZmlsbCI6IHRydWUsCiAgImZpbGxDb2xvciI6ICJibHVlIiwKICAiZmlsbE9wYWNpdHkiOiAwLjYsCiAgImZpbGxSdWxlIjogImV2ZW5vZGQiLAogICJsaW5lQ2FwIjogInJvdW5kIiwKICAibGluZUpvaW4iOiAicm91bmQiLAogICJvcGFjaXR5IjogMS4wLAogICJyYWRpdXMiOiA1LAogICJzdHJva2UiOiB0cnVlLAogICJ3ZWlnaHQiOiAzCn0KICAgICAgICAgICAgICAgICkuYWRkVG8obWFwXzIyZDZiYjlhMjlkZDRhMzI5YWM4NjhmOThiNDM3N2I1KTsKICAgICAgICAgICAgCiAgICAKICAgICAgICAgICAgdmFyIHBvcHVwXzQ0MDlhZjJiMjRkOTRmZjRiODllMGEwMTY4MTQ1YjdiID0gTC5wb3B1cCh7bWF4V2lkdGg6ICczMDAnfSk7CgogICAgICAgICAgICAKICAgICAgICAgICAgICAgIHZhciBodG1sXzA0MzYyNDZjZDNkYjQ5OWE4ZWRmMjBlNTNmMDY1MzNkID0gJCgnPGRpdiBpZD0iaHRtbF8wNDM2MjQ2Y2QzZGI0OTlhOGVkZjIwZTUzZjA2NTMzZCIgc3R5bGU9IndpZHRoOiAxMDAuMCU7IGhlaWdodDogMTAwLjAlOyI+SG90ZWwgUmFqYW08L2Rpdj4nKVswXTsKICAgICAgICAgICAgICAgIHBvcHVwXzQ0MDlhZjJiMjRkOTRmZjRiODllMGEwMTY4MTQ1YjdiLnNldENvbnRlbnQoaHRtbF8wNDM2MjQ2Y2QzZGI0OTlhOGVkZjIwZTUzZjA2NTMzZCk7CiAgICAgICAgICAgIAoKICAgICAgICAgICAgY2lyY2xlX21hcmtlcl9kYzkwZGRiNjY1MmE0ODM5ODQ5NDE1MDYyNGIzNmFhYS5iaW5kUG9wdXAocG9wdXBfNDQwOWFmMmIyNGQ5NGZmNGI4OWUwYTAxNjgxNDViN2IpOwoKICAgICAgICAgICAgCiAgICAgICAgCiAgICAKICAgICAgICAgICAgdmFyIGNpcmNsZV9tYXJrZXJfMDlhYjYxM2Y4ODM4NDI1NGJhNGU0MjlkZjg2M2Y4YTMgPSBMLmNpcmNsZU1hcmtlcigKICAgICAgICAgICAgICAgIFs4LjA4MDU1NjI4NDQ1MjE3OSw3Ny41NDY3NjkxNTQ1Mzg2XSwKICAgICAgICAgICAgICAgIHsKICAiYnViYmxpbmdNb3VzZUV2ZW50cyI6IHRydWUsCiAgImNvbG9yIjogImJsdWUiLAogICJkYXNoQXJyYXkiOiBudWxsLAogICJkYXNoT2Zmc2V0IjogbnVsbCwKICAiZmlsbCI6IHRydWUsCiAgImZpbGxDb2xvciI6ICJibHVlIiwKICAiZmlsbE9wYWNpdHkiOiAwLjYsCiAgImZpbGxSdWxlIjogImV2ZW5vZGQiLAogICJsaW5lQ2FwIjogInJvdW5kIiwKICAibGluZUpvaW4iOiAicm91bmQiLAogICJvcGFjaXR5IjogMS4wLAogICJyYWRpdXMiOiA1LAogICJzdHJva2UiOiB0cnVlLAogICJ3ZWlnaHQiOiAzCn0KICAgICAgICAgICAgICAgICkuYWRkVG8obWFwXzIyZDZiYjlhMjlkZDRhMzI5YWM4NjhmOThiNDM3N2I1KTsKICAgICAgICAgICAgCiAgICAKICAgICAgICAgICAgdmFyIHBvcHVwX2MwNTljMGU2MGUxOTRjM2Y5YTEzMTk1NzhlYmFjOTJhID0gTC5wb3B1cCh7bWF4V2lkdGg6ICczMDAnfSk7CgogICAgICAgICAgICAKICAgICAgICAgICAgICAgIHZhciBodG1sXzkxZDZjN2Y5OTE1MzRlYzM5MDYxYTViNWQzMzkzZjkwID0gJCgnPGRpdiBpZD0iaHRtbF85MWQ2YzdmOTkxNTM0ZWMzOTA2MWE1YjVkMzM5M2Y5MCIgc3R5bGU9IndpZHRoOiAxMDAuMCU7IGhlaWdodDogMTAwLjAlOyI+SG90ZWwgVGFtaWxuYWR1PC9kaXY+JylbMF07CiAgICAgICAgICAgICAgICBwb3B1cF9jMDU5YzBlNjBlMTk0YzNmOWExMzE5NTc4ZWJhYzkyYS5zZXRDb250ZW50KGh0bWxfOTFkNmM3Zjk5MTUzNGVjMzkwNjFhNWI1ZDMzOTNmOTApOwogICAgICAgICAgICAKCiAgICAgICAgICAgIGNpcmNsZV9tYXJrZXJfMDlhYjYxM2Y4ODM4NDI1NGJhNGU0MjlkZjg2M2Y4YTMuYmluZFBvcHVwKHBvcHVwX2MwNTljMGU2MGUxOTRjM2Y5YTEzMTk1NzhlYmFjOTJhKTsKCiAgICAgICAgICAgIAogICAgICAgIAogICAgCiAgICAgICAgICAgIHZhciBjaXJjbGVfbWFya2VyXzM3MDdmY2ZhNDhlODRiNTZiM2U3MTIzZjk2NGI3MzQ5ID0gTC5jaXJjbGVNYXJrZXIoCiAgICAgICAgICAgICAgICBbOC4wODI3MzYsNzcuNTUwNjc0XSwKICAgICAgICAgICAgICAgIHsKICAiYnViYmxpbmdNb3VzZUV2ZW50cyI6IHRydWUsCiAgImNvbG9yIjogImJsdWUiLAogICJkYXNoQXJyYXkiOiBudWxsLAogICJkYXNoT2Zmc2V0IjogbnVsbCwKICAiZmlsbCI6IHRydWUsCiAgImZpbGxDb2xvciI6ICJibHVlIiwKICAiZmlsbE9wYWNpdHkiOiAwLjYsCiAgImZpbGxSdWxlIjogImV2ZW5vZGQiLAogICJsaW5lQ2FwIjogInJvdW5kIiwKICAibGluZUpvaW4iOiAicm91bmQiLAogICJvcGFjaXR5IjogMS4wLAogICJyYWRpdXMiOiA1LAogICJzdHJva2UiOiB0cnVlLAogICJ3ZWlnaHQiOiAzCn0KICAgICAgICAgICAgICAgICkuYWRkVG8obWFwXzIyZDZiYjlhMjlkZDRhMzI5YWM4NjhmOThiNDM3N2I1KTsKICAgICAgICAgICAgCiAgICAKICAgICAgICAgICAgdmFyIHBvcHVwX2Y2NTc1YmE1MWQzNDQxNjJhOGYzNjcyNzBlYzNlNDVmID0gTC5wb3B1cCh7bWF4V2lkdGg6ICczMDAnfSk7CgogICAgICAgICAgICAKICAgICAgICAgICAgICAgIHZhciBodG1sX2ExMDE3YTBmY2Q0ZjRhZTBhODliNmU0NTVhYjk0ZGE5ID0gJCgnPGRpdiBpZD0iaHRtbF9hMTAxN2EwZmNkNGY0YWUwYTg5YjZlNDU1YWI5NGRhOSIgc3R5bGU9IndpZHRoOiAxMDAuMCU7IGhlaWdodDogMTAwLjAlOyI+SG90ZWwgSm9objwvZGl2PicpWzBdOwogICAgICAgICAgICAgICAgcG9wdXBfZjY1NzViYTUxZDM0NDE2MmE4ZjM2NzI3MGVjM2U0NWYuc2V0Q29udGVudChodG1sX2ExMDE3YTBmY2Q0ZjRhZTBhODliNmU0NTVhYjk0ZGE5KTsKICAgICAgICAgICAgCgogICAgICAgICAgICBjaXJjbGVfbWFya2VyXzM3MDdmY2ZhNDhlODRiNTZiM2U3MTIzZjk2NGI3MzQ5LmJpbmRQb3B1cChwb3B1cF9mNjU3NWJhNTFkMzQ0MTYyYThmMzY3MjcwZWMzZTQ1Zik7CgogICAgICAgICAgICAKICAgICAgICAKICAgIAogICAgICAgICAgICB2YXIgY2lyY2xlX21hcmtlcl8xMmY3YjNiMjVlNTM0YWE2OTQzYjkwZmU5ZTNmNWU0NSA9IEwuY2lyY2xlTWFya2VyKAogICAgICAgICAgICAgICAgWzguMDgzMjczLDc3LjU0OTcwOV0sCiAgICAgICAgICAgICAgICB7CiAgImJ1YmJsaW5nTW91c2VFdmVudHMiOiB0cnVlLAogICJjb2xvciI6ICJibHVlIiwKICAiZGFzaEFycmF5IjogbnVsbCwKICAiZGFzaE9mZnNldCI6IG51bGwsCiAgImZpbGwiOiB0cnVlLAogICJmaWxsQ29sb3IiOiAiYmx1ZSIsCiAgImZpbGxPcGFjaXR5IjogMC42LAogICJmaWxsUnVsZSI6ICJldmVub2RkIiwKICAibGluZUNhcCI6ICJyb3VuZCIsCiAgImxpbmVKb2luIjogInJvdW5kIiwKICAib3BhY2l0eSI6IDEuMCwKICAicmFkaXVzIjogNSwKICAic3Ryb2tlIjogdHJ1ZSwKICAid2VpZ2h0IjogMwp9CiAgICAgICAgICAgICAgICApLmFkZFRvKG1hcF8yMmQ2YmI5YTI5ZGQ0YTMyOWFjODY4Zjk4YjQzNzdiNSk7CiAgICAgICAgICAgIAogICAgCiAgICAgICAgICAgIHZhciBwb3B1cF9iN2ExYTZhZDUwN2Q0YTNjOTcyMTVhNzI3ZjFkZmU2MyA9IEwucG9wdXAoe21heFdpZHRoOiAnMzAwJ30pOwoKICAgICAgICAgICAgCiAgICAgICAgICAgICAgICB2YXIgaHRtbF82M2JjMTljODUwN2M0Y2U0YjMyNTZjZTJmZDVhMjFkZiA9ICQoJzxkaXYgaWQ9Imh0bWxfNjNiYzE5Yzg1MDdjNGNlNGIzMjU2Y2UyZmQ1YTIxZGYiIHN0eWxlPSJ3aWR0aDogMTAwLjAlOyBoZWlnaHQ6IDEwMC4wJTsiPmhvdGVsIFRlbXBsZSBDaXRpPC9kaXY+JylbMF07CiAgICAgICAgICAgICAgICBwb3B1cF9iN2ExYTZhZDUwN2Q0YTNjOTcyMTVhNzI3ZjFkZmU2My5zZXRDb250ZW50KGh0bWxfNjNiYzE5Yzg1MDdjNGNlNGIzMjU2Y2UyZmQ1YTIxZGYpOwogICAgICAgICAgICAKCiAgICAgICAgICAgIGNpcmNsZV9tYXJrZXJfMTJmN2IzYjI1ZTUzNGFhNjk0M2I5MGZlOWUzZjVlNDUuYmluZFBvcHVwKHBvcHVwX2I3YTFhNmFkNTA3ZDRhM2M5NzIxNWE3MjdmMWRmZTYzKTsKCiAgICAgICAgICAgIAogICAgICAgIAogICAgCiAgICAgICAgICAgIHZhciBjaXJjbGVfbWFya2VyXzE2NWRjYjEyYWM1NTQyMjRhODlkMjc5NzU4MWJlOGY3ID0gTC5jaXJjbGVNYXJrZXIoCiAgICAgICAgICAgICAgICBbOC4wODI5NjYsNzcuNTQ5NjFdLAogICAgICAgICAgICAgICAgewogICJidWJibGluZ01vdXNlRXZlbnRzIjogdHJ1ZSwKICAiY29sb3IiOiAiYmx1ZSIsCiAgImRhc2hBcnJheSI6IG51bGwsCiAgImRhc2hPZmZzZXQiOiBudWxsLAogICJmaWxsIjogdHJ1ZSwKICAiZmlsbENvbG9yIjogImJsdWUiLAogICJmaWxsT3BhY2l0eSI6IDAuNiwKICAiZmlsbFJ1bGUiOiAiZXZlbm9kZCIsCiAgImxpbmVDYXAiOiAicm91bmQiLAogICJsaW5lSm9pbiI6ICJyb3VuZCIsCiAgIm9wYWNpdHkiOiAxLjAsCiAgInJhZGl1cyI6IDUsCiAgInN0cm9rZSI6IHRydWUsCiAgIndlaWdodCI6IDMKfQogICAgICAgICAgICAgICAgKS5hZGRUbyhtYXBfMjJkNmJiOWEyOWRkNGEzMjlhYzg2OGY5OGI0Mzc3YjUpOwogICAgICAgICAgICAKICAgIAogICAgICAgICAgICB2YXIgcG9wdXBfMWNlMGU0YmY4ZTFjNDhhMjk3N2NiMWRlYzVhOWJmYWMgPSBMLnBvcHVwKHttYXhXaWR0aDogJzMwMCd9KTsKCiAgICAgICAgICAgIAogICAgICAgICAgICAgICAgdmFyIGh0bWxfMzU5OTU3ZmFiNTZjNDIxYzk5NDQ5ZjBjNjNiNDJmNjMgPSAkKCc8ZGl2IGlkPSJodG1sXzM1OTk1N2ZhYjU2YzQyMWM5OTQ0OWYwYzYzYjQyZjYzIiBzdHlsZT0id2lkdGg6IDEwMC4wJTsgaGVpZ2h0OiAxMDAuMCU7Ij5Ib3RlbCBLaXdpPC9kaXY+JylbMF07CiAgICAgICAgICAgICAgICBwb3B1cF8xY2UwZTRiZjhlMWM0OGEyOTc3Y2IxZGVjNWE5YmZhYy5zZXRDb250ZW50KGh0bWxfMzU5OTU3ZmFiNTZjNDIxYzk5NDQ5ZjBjNjNiNDJmNjMpOwogICAgICAgICAgICAKCiAgICAgICAgICAgIGNpcmNsZV9tYXJrZXJfMTY1ZGNiMTJhYzU1NDIyNGE4OWQyNzk3NTgxYmU4ZjcuYmluZFBvcHVwKHBvcHVwXzFjZTBlNGJmOGUxYzQ4YTI5NzdjYjFkZWM1YTliZmFjKTsKCiAgICAgICAgICAgIAogICAgICAgIAogICAgCiAgICAgICAgICAgIHZhciBjaXJjbGVfbWFya2VyXzFmNGU4NmQ2YjNlMTQ5MWQ4YmE4MzU0YmQyOTk2MjllID0gTC5jaXJjbGVNYXJrZXIoCiAgICAgICAgICAgICAgICBbOC4wODI3NjA2MzEwNjYxMjYsNzcuNTUxNTk0NjUzNjEyNTFdLAogICAgICAgICAgICAgICAgewogICJidWJibGluZ01vdXNlRXZlbnRzIjogdHJ1ZSwKICAiY29sb3IiOiAiYmx1ZSIsCiAgImRhc2hBcnJheSI6IG51bGwsCiAgImRhc2hPZmZzZXQiOiBudWxsLAogICJmaWxsIjogdHJ1ZSwKICAiZmlsbENvbG9yIjogImJsdWUiLAogICJmaWxsT3BhY2l0eSI6IDAuNiwKICAiZmlsbFJ1bGUiOiAiZXZlbm9kZCIsCiAgImxpbmVDYXAiOiAicm91bmQiLAogICJsaW5lSm9pbiI6ICJyb3VuZCIsCiAgIm9wYWNpdHkiOiAxLjAsCiAgInJhZGl1cyI6IDUsCiAgInN0cm9rZSI6IHRydWUsCiAgIndlaWdodCI6IDMKfQogICAgICAgICAgICAgICAgKS5hZGRUbyhtYXBfMjJkNmJiOWEyOWRkNGEzMjlhYzg2OGY5OGI0Mzc3YjUpOwogICAgICAgICAgICAKICAgIAogICAgICAgICAgICB2YXIgcG9wdXBfMGNlNjYwZmYwNjM0NGI3NWFjZGY3YWQwMDk1Y2QxZDcgPSBMLnBvcHVwKHttYXhXaWR0aDogJzMwMCd9KTsKCiAgICAgICAgICAgIAogICAgICAgICAgICAgICAgdmFyIGh0bWxfYmY1ZTc3NjJhZDg5NDIzZTgyZTRmMTM4ZDIwOTkxY2QgPSAkKCc8ZGl2IGlkPSJodG1sX2JmNWU3NzYyYWQ4OTQyM2U4MmU0ZjEzOGQyMDk5MWNkIiBzdHlsZT0id2lkdGg6IDEwMC4wJTsgaGVpZ2h0OiAxMDAuMCU7Ij5Ib3RlbCBNYW5pY2thbTwvZGl2PicpWzBdOwogICAgICAgICAgICAgICAgcG9wdXBfMGNlNjYwZmYwNjM0NGI3NWFjZGY3YWQwMDk1Y2QxZDcuc2V0Q29udGVudChodG1sX2JmNWU3NzYyYWQ4OTQyM2U4MmU0ZjEzOGQyMDk5MWNkKTsKICAgICAgICAgICAgCgogICAgICAgICAgICBjaXJjbGVfbWFya2VyXzFmNGU4NmQ2YjNlMTQ5MWQ4YmE4MzU0YmQyOTk2MjllLmJpbmRQb3B1cChwb3B1cF8wY2U2NjBmZjA2MzQ0Yjc1YWNkZjdhZDAwOTVjZDFkNyk7CgogICAgICAgICAgICAKICAgICAgICAKICAgIAogICAgICAgICAgICB2YXIgY2lyY2xlX21hcmtlcl83YzVkMzQ4NjU5ZDc0NWZhYjExZWIzYzMyZTk0NDI3NiA9IEwuY2lyY2xlTWFya2VyKAogICAgICAgICAgICAgICAgWzguMDgzNTcxMzg1MjU2MTg1LDc3LjU0OTU2ODE5MjkwNTkxXSwKICAgICAgICAgICAgICAgIHsKICAiYnViYmxpbmdNb3VzZUV2ZW50cyI6IHRydWUsCiAgImNvbG9yIjogImJsdWUiLAogICJkYXNoQXJyYXkiOiBudWxsLAogICJkYXNoT2Zmc2V0IjogbnVsbCwKICAiZmlsbCI6IHRydWUsCiAgImZpbGxDb2xvciI6ICJibHVlIiwKICAiZmlsbE9wYWNpdHkiOiAwLjYsCiAgImZpbGxSdWxlIjogImV2ZW5vZGQiLAogICJsaW5lQ2FwIjogInJvdW5kIiwKICAibGluZUpvaW4iOiAicm91bmQiLAogICJvcGFjaXR5IjogMS4wLAogICJyYWRpdXMiOiA1LAogICJzdHJva2UiOiB0cnVlLAogICJ3ZWlnaHQiOiAzCn0KICAgICAgICAgICAgICAgICkuYWRkVG8obWFwXzIyZDZiYjlhMjlkZDRhMzI5YWM4NjhmOThiNDM3N2I1KTsKICAgICAgICAgICAgCiAgICAKICAgICAgICAgICAgdmFyIHBvcHVwX2VjYzZjMWUzZWRkMzRiNWU4NjUzNmM2OTc1YTc3YzQ3ID0gTC5wb3B1cCh7bWF4V2lkdGg6ICczMDAnfSk7CgogICAgICAgICAgICAKICAgICAgICAgICAgICAgIHZhciBodG1sXzQ3M2E3YjE0YjA5NDQxMDVhYTdhY2Q4MzVhNjIwZDAxID0gJCgnPGRpdiBpZD0iaHRtbF80NzNhN2IxNGIwOTQ0MTA1YWE3YWNkODM1YTYyMGQwMSIgc3R5bGU9IndpZHRoOiAxMDAuMCU7IGhlaWdodDogMTAwLjAlOyI+SG90ZWwgTWVsb2R5IFBhcms8L2Rpdj4nKVswXTsKICAgICAgICAgICAgICAgIHBvcHVwX2VjYzZjMWUzZWRkMzRiNWU4NjUzNmM2OTc1YTc3YzQ3LnNldENvbnRlbnQoaHRtbF80NzNhN2IxNGIwOTQ0MTA1YWE3YWNkODM1YTYyMGQwMSk7CiAgICAgICAgICAgIAoKICAgICAgICAgICAgY2lyY2xlX21hcmtlcl83YzVkMzQ4NjU5ZDc0NWZhYjExZWIzYzMyZTk0NDI3Ni5iaW5kUG9wdXAocG9wdXBfZWNjNmMxZTNlZGQzNGI1ZTg2NTM2YzY5NzVhNzdjNDcpOwoKICAgICAgICAgICAgCiAgICAgICAgCiAgICAKICAgICAgICAgICAgdmFyIGNpcmNsZV9tYXJrZXJfMzMxMjc4ZWUxNmIzNDBiOGJlMTljZjhkNTI2YjU2MTIgPSBMLmNpcmNsZU1hcmtlcigKICAgICAgICAgICAgICAgIFs4LjA4MzkxNDQ1NjExMzIwMiw3Ny41NDk0NzMwMjY3MzQ3Ml0sCiAgICAgICAgICAgICAgICB7CiAgImJ1YmJsaW5nTW91c2VFdmVudHMiOiB0cnVlLAogICJjb2xvciI6ICJibHVlIiwKICAiZGFzaEFycmF5IjogbnVsbCwKICAiZGFzaE9mZnNldCI6IG51bGwsCiAgImZpbGwiOiB0cnVlLAogICJmaWxsQ29sb3IiOiAiYmx1ZSIsCiAgImZpbGxPcGFjaXR5IjogMC42LAogICJmaWxsUnVsZSI6ICJldmVub2RkIiwKICAibGluZUNhcCI6ICJyb3VuZCIsCiAgImxpbmVKb2luIjogInJvdW5kIiwKICAib3BhY2l0eSI6IDEuMCwKICAicmFkaXVzIjogNSwKICAic3Ryb2tlIjogdHJ1ZSwKICAid2VpZ2h0IjogMwp9CiAgICAgICAgICAgICAgICApLmFkZFRvKG1hcF8yMmQ2YmI5YTI5ZGQ0YTMyOWFjODY4Zjk4YjQzNzdiNSk7CiAgICAgICAgICAgIAogICAgCiAgICAgICAgICAgIHZhciBwb3B1cF80MjFhNGFiYjZhM2M0ZWYyYjVjZmM5NGRiZDkyZWE2YSA9IEwucG9wdXAoe21heFdpZHRoOiAnMzAwJ30pOwoKICAgICAgICAgICAgCiAgICAgICAgICAgICAgICB2YXIgaHRtbF80OWYxOThiYTZhNmM0MWI3OTI4ZjMyZTY1ZDhiYTc0YiA9ICQoJzxkaXYgaWQ9Imh0bWxfNDlmMTk4YmE2YTZjNDFiNzkyOGYzMmU2NWQ4YmE3NGIiIHN0eWxlPSJ3aWR0aDogMTAwLjAlOyBoZWlnaHQ6IDEwMC4wJTsiPkhvdGVsIFRyaXZlbmk8L2Rpdj4nKVswXTsKICAgICAgICAgICAgICAgIHBvcHVwXzQyMWE0YWJiNmEzYzRlZjJiNWNmYzk0ZGJkOTJlYTZhLnNldENvbnRlbnQoaHRtbF80OWYxOThiYTZhNmM0MWI3OTI4ZjMyZTY1ZDhiYTc0Yik7CiAgICAgICAgICAgIAoKICAgICAgICAgICAgY2lyY2xlX21hcmtlcl8zMzEyNzhlZTE2YjM0MGI4YmUxOWNmOGQ1MjZiNTYxMi5iaW5kUG9wdXAocG9wdXBfNDIxYTRhYmI2YTNjNGVmMmI1Y2ZjOTRkYmQ5MmVhNmEpOwoKICAgICAgICAgICAgCiAgICAgICAgCiAgICAKICAgICAgICAgICAgdmFyIGNpcmNsZV9tYXJrZXJfMjg0Y2IyMmE4ZTRkNDg5YTgyYjY3ZTBhMjQxYjBkZTYgPSBMLmNpcmNsZU1hcmtlcigKICAgICAgICAgICAgICAgIFs4LjA4MTU0NTkwMzQwOTI4Miw3Ny41NDg3Nzg4NzEwNzI1OV0sCiAgICAgICAgICAgICAgICB7CiAgImJ1YmJsaW5nTW91c2VFdmVudHMiOiB0cnVlLAogICJjb2xvciI6ICJibHVlIiwKICAiZGFzaEFycmF5IjogbnVsbCwKICAiZGFzaE9mZnNldCI6IG51bGwsCiAgImZpbGwiOiB0cnVlLAogICJmaWxsQ29sb3IiOiAiYmx1ZSIsCiAgImZpbGxPcGFjaXR5IjogMC42LAogICJmaWxsUnVsZSI6ICJldmVub2RkIiwKICAibGluZUNhcCI6ICJyb3VuZCIsCiAgImxpbmVKb2luIjogInJvdW5kIiwKICAib3BhY2l0eSI6IDEuMCwKICAicmFkaXVzIjogNSwKICAic3Ryb2tlIjogdHJ1ZSwKICAid2VpZ2h0IjogMwp9CiAgICAgICAgICAgICAgICApLmFkZFRvKG1hcF8yMmQ2YmI5YTI5ZGQ0YTMyOWFjODY4Zjk4YjQzNzdiNSk7CiAgICAgICAgICAgIAogICAgCiAgICAgICAgICAgIHZhciBwb3B1cF8xNjQxZWRhMmRhYzc0MThiOGMzZDA3OWMyYjU2M2YyNyA9IEwucG9wdXAoe21heFdpZHRoOiAnMzAwJ30pOwoKICAgICAgICAgICAgCiAgICAgICAgICAgICAgICB2YXIgaHRtbF85Y2E2ZjgzNTQwM2I0Mzc2OWNmZWFlYWVkOWJmODE3NiA9ICQoJzxkaXYgaWQ9Imh0bWxfOWNhNmY4MzU0MDNiNDM3NjljZmVhZWFlZDliZjgxNzYiIHN0eWxlPSJ3aWR0aDogMTAwLjAlOyBoZWlnaHQ6IDEwMC4wJTsiPlRyaSBTZWEgSG90ZWw8L2Rpdj4nKVswXTsKICAgICAgICAgICAgICAgIHBvcHVwXzE2NDFlZGEyZGFjNzQxOGI4YzNkMDc5YzJiNTYzZjI3LnNldENvbnRlbnQoaHRtbF85Y2E2ZjgzNTQwM2I0Mzc2OWNmZWFlYWVkOWJmODE3Nik7CiAgICAgICAgICAgIAoKICAgICAgICAgICAgY2lyY2xlX21hcmtlcl8yODRjYjIyYThlNGQ0ODlhODJiNjdlMGEyNDFiMGRlNi5iaW5kUG9wdXAocG9wdXBfMTY0MWVkYTJkYWM3NDE4YjhjM2QwNzljMmI1NjNmMjcpOwoKICAgICAgICAgICAgCiAgICAgICAgCiAgICAKICAgICAgICAgICAgdmFyIGNpcmNsZV9tYXJrZXJfNDhhYWZkYzk4MzcwNDk2NWE1MDA3ZTQ4YjhkOTU1MDYgPSBMLmNpcmNsZU1hcmtlcigKICAgICAgICAgICAgICAgIFs4LjA4MDM3ODkyODI2MzQyLDc3LjU0NjYwNjgwODE5NjEzXSwKICAgICAgICAgICAgICAgIHsKICAiYnViYmxpbmdNb3VzZUV2ZW50cyI6IHRydWUsCiAgImNvbG9yIjogImJsdWUiLAogICJkYXNoQXJyYXkiOiBudWxsLAogICJkYXNoT2Zmc2V0IjogbnVsbCwKICAiZmlsbCI6IHRydWUsCiAgImZpbGxDb2xvciI6ICJibHVlIiwKICAiZmlsbE9wYWNpdHkiOiAwLjYsCiAgImZpbGxSdWxlIjogImV2ZW5vZGQiLAogICJsaW5lQ2FwIjogInJvdW5kIiwKICAibGluZUpvaW4iOiAicm91bmQiLAogICJvcGFjaXR5IjogMS4wLAogICJyYWRpdXMiOiA1LAogICJzdHJva2UiOiB0cnVlLAogICJ3ZWlnaHQiOiAzCn0KICAgICAgICAgICAgICAgICkuYWRkVG8obWFwXzIyZDZiYjlhMjlkZDRhMzI5YWM4NjhmOThiNDM3N2I1KTsKICAgICAgICAgICAgCiAgICAKICAgICAgICAgICAgdmFyIHBvcHVwXzQ2MTRjMWM1ZGM2NzRmYThhY2RjMzkwYmJjMTk3Y2RkID0gTC5wb3B1cCh7bWF4V2lkdGg6ICczMDAnfSk7CgogICAgICAgICAgICAKICAgICAgICAgICAgICAgIHZhciBodG1sXzE3NGUzZDdiNzg4MDQ5YzNhZjE5YWZmOGRhNzYwMjZiID0gJCgnPGRpdiBpZD0iaHRtbF8xNzRlM2Q3Yjc4ODA0OWMzYWYxOWFmZjhkYTc2MDI2YiIgc3R5bGU9IndpZHRoOiAxMDAuMCU7IGhlaWdodDogMTAwLjAlOyI+VGFtaWwgTmFkdSBIb3RlbCBUVERDPC9kaXY+JylbMF07CiAgICAgICAgICAgICAgICBwb3B1cF80NjE0YzFjNWRjNjc0ZmE4YWNkYzM5MGJiYzE5N2NkZC5zZXRDb250ZW50KGh0bWxfMTc0ZTNkN2I3ODgwNDljM2FmMTlhZmY4ZGE3NjAyNmIpOwogICAgICAgICAgICAKCiAgICAgICAgICAgIGNpcmNsZV9tYXJrZXJfNDhhYWZkYzk4MzcwNDk2NWE1MDA3ZTQ4YjhkOTU1MDYuYmluZFBvcHVwKHBvcHVwXzQ2MTRjMWM1ZGM2NzRmYThhY2RjMzkwYmJjMTk3Y2RkKTsKCiAgICAgICAgICAgIAogICAgICAgIAogICAgCiAgICAgICAgICAgIHZhciBjaXJjbGVfbWFya2VyXzRhMmUzNWM2ODJjMDQ3YzFiYTUxNjQ3OTBmZTdjZjc4ID0gTC5jaXJjbGVNYXJrZXIoCiAgICAgICAgICAgICAgICBbOC4wODIzMTIzNjgzOTQ4OTksNzcuNTUwNTQyMjQyMDcwNzZdLAogICAgICAgICAgICAgICAgewogICJidWJibGluZ01vdXNlRXZlbnRzIjogdHJ1ZSwKICAiY29sb3IiOiAiYmx1ZSIsCiAgImRhc2hBcnJheSI6IG51bGwsCiAgImRhc2hPZmZzZXQiOiBudWxsLAogICJmaWxsIjogdHJ1ZSwKICAiZmlsbENvbG9yIjogImJsdWUiLAogICJmaWxsT3BhY2l0eSI6IDAuNiwKICAiZmlsbFJ1bGUiOiAiZXZlbm9kZCIsCiAgImxpbmVDYXAiOiAicm91bmQiLAogICJsaW5lSm9pbiI6ICJyb3VuZCIsCiAgIm9wYWNpdHkiOiAxLjAsCiAgInJhZGl1cyI6IDUsCiAgInN0cm9rZSI6IHRydWUsCiAgIndlaWdodCI6IDMKfQogICAgICAgICAgICAgICAgKS5hZGRUbyhtYXBfMjJkNmJiOWEyOWRkNGEzMjlhYzg2OGY5OGI0Mzc3YjUpOwogICAgICAgICAgICAKICAgIAogICAgICAgICAgICB2YXIgcG9wdXBfMzVkZjllNmI2MDQzNDUzZDllZTlmOGRkMzZiYzBkNTUgPSBMLnBvcHVwKHttYXhXaWR0aDogJzMwMCd9KTsKCiAgICAgICAgICAgIAogICAgICAgICAgICAgICAgdmFyIGh0bWxfZmUzOWU4YjlmNzkxNDQ4YzhlYzQ5NzAwNWYyNjhhZjQgPSAkKCc8ZGl2IGlkPSJodG1sX2ZlMzllOGI5Zjc5MTQ0OGM4ZWM0OTcwMDVmMjY4YWY0IiBzdHlsZT0id2lkdGg6IDEwMC4wJTsgaGVpZ2h0OiAxMDAuMCU7Ij5Hb3BpIE5pdmFzIEdyYW5kIEhvdGVsPC9kaXY+JylbMF07CiAgICAgICAgICAgICAgICBwb3B1cF8zNWRmOWU2YjYwNDM0NTNkOWVlOWY4ZGQzNmJjMGQ1NS5zZXRDb250ZW50KGh0bWxfZmUzOWU4YjlmNzkxNDQ4YzhlYzQ5NzAwNWYyNjhhZjQpOwogICAgICAgICAgICAKCiAgICAgICAgICAgIGNpcmNsZV9tYXJrZXJfNGEyZTM1YzY4MmMwNDdjMWJhNTE2NDc5MGZlN2NmNzguYmluZFBvcHVwKHBvcHVwXzM1ZGY5ZTZiNjA0MzQ1M2Q5ZWU5ZjhkZDM2YmMwZDU1KTsKCiAgICAgICAgICAgIAogICAgICAgIAogICAgCiAgICAgICAgICAgIHZhciBjaXJjbGVfbWFya2VyXzhmNzliOWYzNTZiNTRjZGRiNjJmMzU2M2E1ZTc1MmI1ID0gTC5jaXJjbGVNYXJrZXIoCiAgICAgICAgICAgICAgICBbOC4wODI1MzE3MTk4Mzg5MTMsNzcuNTQ5NzQ3MzI5MDExNzVdLAogICAgICAgICAgICAgICAgewogICJidWJibGluZ01vdXNlRXZlbnRzIjogdHJ1ZSwKICAiY29sb3IiOiAiYmx1ZSIsCiAgImRhc2hBcnJheSI6IG51bGwsCiAgImRhc2hPZmZzZXQiOiBudWxsLAogICJmaWxsIjogdHJ1ZSwKICAiZmlsbENvbG9yIjogImJsdWUiLAogICJmaWxsT3BhY2l0eSI6IDAuNiwKICAiZmlsbFJ1bGUiOiAiZXZlbm9kZCIsCiAgImxpbmVDYXAiOiAicm91bmQiLAogICJsaW5lSm9pbiI6ICJyb3VuZCIsCiAgIm9wYWNpdHkiOiAxLjAsCiAgInJhZGl1cyI6IDUsCiAgInN0cm9rZSI6IHRydWUsCiAgIndlaWdodCI6IDMKfQogICAgICAgICAgICAgICAgKS5hZGRUbyhtYXBfMjJkNmJiOWEyOWRkNGEzMjlhYzg2OGY5OGI0Mzc3YjUpOwogICAgICAgICAgICAKICAgIAogICAgICAgICAgICB2YXIgcG9wdXBfMDVhZTllNDg4ZDMzNGFjOGIzZjVlZjBlYTAyZjAyMWYgPSBMLnBvcHVwKHttYXhXaWR0aDogJzMwMCd9KTsKCiAgICAgICAgICAgIAogICAgICAgICAgICAgICAgdmFyIGh0bWxfYjdjNWJiNDMyMjFkNDExZDkyYjI4MDE3NzA4ZmIwMDIgPSAkKCc8ZGl2IGlkPSJodG1sX2I3YzViYjQzMjIxZDQxMWQ5MmIyODAxNzcwOGZiMDAyIiBzdHlsZT0id2lkdGg6IDEwMC4wJTsgaGVpZ2h0OiAxMDAuMCU7Ij5UYWogSG90ZWw8L2Rpdj4nKVswXTsKICAgICAgICAgICAgICAgIHBvcHVwXzA1YWU5ZTQ4OGQzMzRhYzhiM2Y1ZWYwZWEwMmYwMjFmLnNldENvbnRlbnQoaHRtbF9iN2M1YmI0MzIyMWQ0MTFkOTJiMjgwMTc3MDhmYjAwMik7CiAgICAgICAgICAgIAoKICAgICAgICAgICAgY2lyY2xlX21hcmtlcl84Zjc5YjlmMzU2YjU0Y2RkYjYyZjM1NjNhNWU3NTJiNS5iaW5kUG9wdXAocG9wdXBfMDVhZTllNDg4ZDMzNGFjOGIzZjVlZjBlYTAyZjAyMWYpOwoKICAgICAgICAgICAgCiAgICAgICAgCiAgICAKICAgICAgICAgICAgdmFyIGNpcmNsZV9tYXJrZXJfZGZlOWYxOTFhMDRhNDgzZWI1NGZlNGRmYWVkYWExYTcgPSBMLmNpcmNsZU1hcmtlcigKICAgICAgICAgICAgICAgIFs4LjA4MjczMDI5MzI3MzkyNiw3Ny41NTA0OTEzMzMwMDc4MV0sCiAgICAgICAgICAgICAgICB7CiAgImJ1YmJsaW5nTW91c2VFdmVudHMiOiB0cnVlLAogICJjb2xvciI6ICJibHVlIiwKICAiZGFzaEFycmF5IjogbnVsbCwKICAiZGFzaE9mZnNldCI6IG51bGwsCiAgImZpbGwiOiB0cnVlLAogICJmaWxsQ29sb3IiOiAiYmx1ZSIsCiAgImZpbGxPcGFjaXR5IjogMC42LAogICJmaWxsUnVsZSI6ICJldmVub2RkIiwKICAibGluZUNhcCI6ICJyb3VuZCIsCiAgImxpbmVKb2luIjogInJvdW5kIiwKICAib3BhY2l0eSI6IDEuMCwKICAicmFkaXVzIjogNSwKICAic3Ryb2tlIjogdHJ1ZSwKICAid2VpZ2h0IjogMwp9CiAgICAgICAgICAgICAgICApLmFkZFRvKG1hcF8yMmQ2YmI5YTI5ZGQ0YTMyOWFjODY4Zjk4YjQzNzdiNSk7CiAgICAgICAgICAgIAogICAgCiAgICAgICAgICAgIHZhciBwb3B1cF85ZjE4NWEzNWRmMzM0MWEzODk5MmQ3N2NjMjQxMTM4ZiA9IEwucG9wdXAoe21heFdpZHRoOiAnMzAwJ30pOwoKICAgICAgICAgICAgCiAgICAgICAgICAgICAgICB2YXIgaHRtbF81NjcxYWIzMDYxYjQ0OWZkYWQxNWRmZWQ5MDQ4NTk0NyA9ICQoJzxkaXYgaWQ9Imh0bWxfNTY3MWFiMzA2MWI0NDlmZGFkMTVkZmVkOTA0ODU5NDciIHN0eWxlPSJ3aWR0aDogMTAwLjAlOyBoZWlnaHQ6IDEwMC4wJTsiPlN1biBSb2NrIEhvdGVsPC9kaXY+JylbMF07CiAgICAgICAgICAgICAgICBwb3B1cF85ZjE4NWEzNWRmMzM0MWEzODk5MmQ3N2NjMjQxMTM4Zi5zZXRDb250ZW50KGh0bWxfNTY3MWFiMzA2MWI0NDlmZGFkMTVkZmVkOTA0ODU5NDcpOwogICAgICAgICAgICAKCiAgICAgICAgICAgIGNpcmNsZV9tYXJrZXJfZGZlOWYxOTFhMDRhNDgzZWI1NGZlNGRmYWVkYWExYTcuYmluZFBvcHVwKHBvcHVwXzlmMTg1YTM1ZGYzMzQxYTM4OTkyZDc3Y2MyNDExMzhmKTsKCiAgICAgICAgICAgIAogICAgICAgIAogICAgCiAgICAgICAgICAgIHZhciBjaXJjbGVfbWFya2VyXzc4YmVhMGUzMjc2MTQyMzRiNThhZDViYjY0OGMzMDFkID0gTC5jaXJjbGVNYXJrZXIoCiAgICAgICAgICAgICAgICBbOC4wODM4Mjk4Nzk3NjA3NDIsNzcuNTQzMjI4MTQ5NDE0MDZdLAogICAgICAgICAgICAgICAgewogICJidWJibGluZ01vdXNlRXZlbnRzIjogdHJ1ZSwKICAiY29sb3IiOiAiYmx1ZSIsCiAgImRhc2hBcnJheSI6IG51bGwsCiAgImRhc2hPZmZzZXQiOiBudWxsLAogICJmaWxsIjogdHJ1ZSwKICAiZmlsbENvbG9yIjogImJsdWUiLAogICJmaWxsT3BhY2l0eSI6IDAuNiwKICAiZmlsbFJ1bGUiOiAiZXZlbm9kZCIsCiAgImxpbmVDYXAiOiAicm91bmQiLAogICJsaW5lSm9pbiI6ICJyb3VuZCIsCiAgIm9wYWNpdHkiOiAxLjAsCiAgInJhZGl1cyI6IDUsCiAgInN0cm9rZSI6IHRydWUsCiAgIndlaWdodCI6IDMKfQogICAgICAgICAgICAgICAgKS5hZGRUbyhtYXBfMjJkNmJiOWEyOWRkNGEzMjlhYzg2OGY5OGI0Mzc3YjUpOwogICAgICAgICAgICAKICAgIAogICAgICAgICAgICB2YXIgcG9wdXBfODhmMWUyMjQxMzM1NDUwNTgzNjQwMmFhZjc3NWMzYjggPSBMLnBvcHVwKHttYXhXaWR0aDogJzMwMCd9KTsKCiAgICAgICAgICAgIAogICAgICAgICAgICAgICAgdmFyIGh0bWxfZTdlMjM0ZGExZDIyNDVjYWI3NGM2MWIyZTkxOGM4ZjYgPSAkKCc8ZGl2IGlkPSJodG1sX2U3ZTIzNGRhMWQyMjQ1Y2FiNzRjNjFiMmU5MThjOGY2IiBzdHlsZT0id2lkdGg6IDEwMC4wJTsgaGVpZ2h0OiAxMDAuMCU7Ij5Ib3RlbCBWZWRhbnRhIFdha2UgdXA8L2Rpdj4nKVswXTsKICAgICAgICAgICAgICAgIHBvcHVwXzg4ZjFlMjI0MTMzNTQ1MDU4MzY0MDJhYWY3NzVjM2I4LnNldENvbnRlbnQoaHRtbF9lN2UyMzRkYTFkMjI0NWNhYjc0YzYxYjJlOTE4YzhmNik7CiAgICAgICAgICAgIAoKICAgICAgICAgICAgY2lyY2xlX21hcmtlcl83OGJlYTBlMzI3NjE0MjM0YjU4YWQ1YmI2NDhjMzAxZC5iaW5kUG9wdXAocG9wdXBfODhmMWUyMjQxMzM1NDUwNTgzNjQwMmFhZjc3NWMzYjgpOwoKICAgICAgICAgICAgCiAgICAgICAgCiAgICAKICAgICAgICAgICAgdmFyIGNpcmNsZV9tYXJrZXJfNmFlODk3YmZiNTA5NGU4OTgwNTEzMDMyZDU0YzhjZWIgPSBMLmNpcmNsZU1hcmtlcigKICAgICAgICAgICAgICAgIFs4LjA4MzQ4OTA0MDM3NDM1Myw3Ny41NTAwNzc2MTA0NjU3OF0sCiAgICAgICAgICAgICAgICB7CiAgImJ1YmJsaW5nTW91c2VFdmVudHMiOiB0cnVlLAogICJjb2xvciI6ICJibHVlIiwKICAiZGFzaEFycmF5IjogbnVsbCwKICAiZGFzaE9mZnNldCI6IG51bGwsCiAgImZpbGwiOiB0cnVlLAogICJmaWxsQ29sb3IiOiAiYmx1ZSIsCiAgImZpbGxPcGFjaXR5IjogMC42LAogICJmaWxsUnVsZSI6ICJldmVub2RkIiwKICAibGluZUNhcCI6ICJyb3VuZCIsCiAgImxpbmVKb2luIjogInJvdW5kIiwKICAib3BhY2l0eSI6IDEuMCwKICAicmFkaXVzIjogNSwKICAic3Ryb2tlIjogdHJ1ZSwKICAid2VpZ2h0IjogMwp9CiAgICAgICAgICAgICAgICApLmFkZFRvKG1hcF8yMmQ2YmI5YTI5ZGQ0YTMyOWFjODY4Zjk4YjQzNzdiNSk7CiAgICAgICAgICAgIAogICAgCiAgICAgICAgICAgIHZhciBwb3B1cF8yNjg0YzAyM2U4Y2E0MTc4OWJjZDhkOTk4NWY4MzIwNSA9IEwucG9wdXAoe21heFdpZHRoOiAnMzAwJ30pOwoKICAgICAgICAgICAgCiAgICAgICAgICAgICAgICB2YXIgaHRtbF84OTY5YjliOTcxOGQ0OTA1OTdjNGZmNjgxNjA1ZWYyZCA9ICQoJzxkaXYgaWQ9Imh0bWxfODk2OWI5Yjk3MThkNDkwNTk3YzRmZjY4MTYwNWVmMmQiIHN0eWxlPSJ3aWR0aDogMTAwLjAlOyBoZWlnaHQ6IDEwMC4wJTsiPlNpdk11cmdhbiBIb3RlbDwvZGl2PicpWzBdOwogICAgICAgICAgICAgICAgcG9wdXBfMjY4NGMwMjNlOGNhNDE3ODliY2Q4ZDk5ODVmODMyMDUuc2V0Q29udGVudChodG1sXzg5NjliOWI5NzE4ZDQ5MDU5N2M0ZmY2ODE2MDVlZjJkKTsKICAgICAgICAgICAgCgogICAgICAgICAgICBjaXJjbGVfbWFya2VyXzZhZTg5N2JmYjUwOTRlODk4MDUxMzAzMmQ1NGM4Y2ViLmJpbmRQb3B1cChwb3B1cF8yNjg0YzAyM2U4Y2E0MTc4OWJjZDhkOTk4NWY4MzIwNSk7CgogICAgICAgICAgICAKICAgICAgICAKICAgIAogICAgICAgICAgICB2YXIgY2lyY2xlX21hcmtlcl8xNDIyZWE0OWZiYTc0Nzc3OWIzYmQ5NGIwOThhYTM4MCA9IEwuY2lyY2xlTWFya2VyKAogICAgICAgICAgICAgICAgWzguMDgyNzgzNjUyMDk1NjU4LDc3LjU1MTQ3NzA5NzQ4ODI5XSwKICAgICAgICAgICAgICAgIHsKICAiYnViYmxpbmdNb3VzZUV2ZW50cyI6IHRydWUsCiAgImNvbG9yIjogImJsdWUiLAogICJkYXNoQXJyYXkiOiBudWxsLAogICJkYXNoT2Zmc2V0IjogbnVsbCwKICAiZmlsbCI6IHRydWUsCiAgImZpbGxDb2xvciI6ICJibHVlIiwKICAiZmlsbE9wYWNpdHkiOiAwLjYsCiAgImZpbGxSdWxlIjogImV2ZW5vZGQiLAogICJsaW5lQ2FwIjogInJvdW5kIiwKICAibGluZUpvaW4iOiAicm91bmQiLAogICJvcGFjaXR5IjogMS4wLAogICJyYWRpdXMiOiA1LAogICJzdHJva2UiOiB0cnVlLAogICJ3ZWlnaHQiOiAzCn0KICAgICAgICAgICAgICAgICkuYWRkVG8obWFwXzIyZDZiYjlhMjlkZDRhMzI5YWM4NjhmOThiNDM3N2I1KTsKICAgICAgICAgICAgCiAgICAKICAgICAgICAgICAgdmFyIHBvcHVwXzE5NTBiZTQ5NDA5MDQzOTM4YjQ2OWY2MDlkMmZkMjNjID0gTC5wb3B1cCh7bWF4V2lkdGg6ICczMDAnfSk7CgogICAgICAgICAgICAKICAgICAgICAgICAgICAgIHZhciBodG1sX2MwZTQ2MjY0OTI1MjRlMGE5MWQxYmY0NmI5MzgwZWFhID0gJCgnPGRpdiBpZD0iaHRtbF9jMGU0NjI2NDkyNTI0ZTBhOTFkMWJmNDZiOTM4MGVhYSIgc3R5bGU9IndpZHRoOiAxMDAuMCU7IGhlaWdodDogMTAwLjAlOyI+VGhlIFNlYXNob3JlIEhvdGVsPC9kaXY+JylbMF07CiAgICAgICAgICAgICAgICBwb3B1cF8xOTUwYmU0OTQwOTA0MzkzOGI0NjlmNjA5ZDJmZDIzYy5zZXRDb250ZW50KGh0bWxfYzBlNDYyNjQ5MjUyNGUwYTkxZDFiZjQ2YjkzODBlYWEpOwogICAgICAgICAgICAKCiAgICAgICAgICAgIGNpcmNsZV9tYXJrZXJfMTQyMmVhNDlmYmE3NDc3NzliM2JkOTRiMDk4YWEzODAuYmluZFBvcHVwKHBvcHVwXzE5NTBiZTQ5NDA5MDQzOTM4YjQ2OWY2MDlkMmZkMjNjKTsKCiAgICAgICAgICAgIAogICAgICAgIAogICAgCiAgICAgICAgICAgIHZhciBjaXJjbGVfbWFya2VyXzczNWY2NGQ5MjdiYjQ4YzBhODJhYjc1NGQ1ODJkZGMxID0gTC5jaXJjbGVNYXJrZXIoCiAgICAgICAgICAgICAgICBbOC4wODg3OTA1Mjc4NjQ5MzMsNzcuNTQ5NjA3Mzc4OTUzMjNdLAogICAgICAgICAgICAgICAgewogICJidWJibGluZ01vdXNlRXZlbnRzIjogdHJ1ZSwKICAiY29sb3IiOiAiYmx1ZSIsCiAgImRhc2hBcnJheSI6IG51bGwsCiAgImRhc2hPZmZzZXQiOiBudWxsLAogICJmaWxsIjogdHJ1ZSwKICAiZmlsbENvbG9yIjogImJsdWUiLAogICJmaWxsT3BhY2l0eSI6IDAuNiwKICAiZmlsbFJ1bGUiOiAiZXZlbm9kZCIsCiAgImxpbmVDYXAiOiAicm91bmQiLAogICJsaW5lSm9pbiI6ICJyb3VuZCIsCiAgIm9wYWNpdHkiOiAxLjAsCiAgInJhZGl1cyI6IDUsCiAgInN0cm9rZSI6IHRydWUsCiAgIndlaWdodCI6IDMKfQogICAgICAgICAgICAgICAgKS5hZGRUbyhtYXBfMjJkNmJiOWEyOWRkNGEzMjlhYzg2OGY5OGI0Mzc3YjUpOwogICAgICAgICAgICAKICAgIAogICAgICAgICAgICB2YXIgcG9wdXBfNmU3MzE1YmY5NTExNDNiZTg0ZWE4MzMwNTM5YmZkYWYgPSBMLnBvcHVwKHttYXhXaWR0aDogJzMwMCd9KTsKCiAgICAgICAgICAgIAogICAgICAgICAgICAgICAgdmFyIGh0bWxfMTc2NTdlZGNkMWM3NDExYThjM2QyOTIzZTg4MjNjZTEgPSAkKCc8ZGl2IGlkPSJodG1sXzE3NjU3ZWRjZDFjNzQxMWE4YzNkMjkyM2U4ODIzY2UxIiBzdHlsZT0id2lkdGg6IDEwMC4wJTsgaGVpZ2h0OiAxMDAuMCU7Ij5Ib3RlbCBTaW5nYWFyIEludGVybmF0aW9uYWw8L2Rpdj4nKVswXTsKICAgICAgICAgICAgICAgIHBvcHVwXzZlNzMxNWJmOTUxMTQzYmU4NGVhODMzMDUzOWJmZGFmLnNldENvbnRlbnQoaHRtbF8xNzY1N2VkY2QxYzc0MTFhOGMzZDI5MjNlODgyM2NlMSk7CiAgICAgICAgICAgIAoKICAgICAgICAgICAgY2lyY2xlX21hcmtlcl83MzVmNjRkOTI3YmI0OGMwYTgyYWI3NTRkNTgyZGRjMS5iaW5kUG9wdXAocG9wdXBfNmU3MzE1YmY5NTExNDNiZTg0ZWE4MzMwNTM5YmZkYWYpOwoKICAgICAgICAgICAgCiAgICAgICAgCiAgICAKICAgICAgICAgICAgdmFyIGNpcmNsZV9tYXJrZXJfNmViYTZmYTE0YmI1NDI0NTliZGFjNTcwMjJjMTY0OTIgPSBMLmNpcmNsZU1hcmtlcigKICAgICAgICAgICAgICAgIFs4LjA4ODMzNzQ4NTkzNzMzNCw3Ny41NTAxMDU2MDAzNzUzM10sCiAgICAgICAgICAgICAgICB7CiAgImJ1YmJsaW5nTW91c2VFdmVudHMiOiB0cnVlLAogICJjb2xvciI6ICJibHVlIiwKICAiZGFzaEFycmF5IjogbnVsbCwKICAiZGFzaE9mZnNldCI6IG51bGwsCiAgImZpbGwiOiB0cnVlLAogICJmaWxsQ29sb3IiOiAiYmx1ZSIsCiAgImZpbGxPcGFjaXR5IjogMC42LAogICJmaWxsUnVsZSI6ICJldmVub2RkIiwKICAibGluZUNhcCI6ICJyb3VuZCIsCiAgImxpbmVKb2luIjogInJvdW5kIiwKICAib3BhY2l0eSI6IDEuMCwKICAicmFkaXVzIjogNSwKICAic3Ryb2tlIjogdHJ1ZSwKICAid2VpZ2h0IjogMwp9CiAgICAgICAgICAgICAgICApLmFkZFRvKG1hcF8yMmQ2YmI5YTI5ZGQ0YTMyOWFjODY4Zjk4YjQzNzdiNSk7CiAgICAgICAgICAgIAogICAgCiAgICAgICAgICAgIHZhciBwb3B1cF8yZTBhZjM3MDQ0MTM0MmM4YjVjNjVlOGQ5MjgwYzc2YyA9IEwucG9wdXAoe21heFdpZHRoOiAnMzAwJ30pOwoKICAgICAgICAgICAgCiAgICAgICAgICAgICAgICB2YXIgaHRtbF9mOWUxZTViNzk2ODc0ZTQ1OTQ1ODA3YTNkYTEzYjBlNCA9ICQoJzxkaXYgaWQ9Imh0bWxfZjllMWU1Yjc5Njg3NGU0NTk0NTgwN2EzZGExM2IwZTQiIHN0eWxlPSJ3aWR0aDogMTAwLjAlOyBoZWlnaHQ6IDEwMC4wJTsiPkhvdGVsIFNoYW50aGkgQmhhdmFuPC9kaXY+JylbMF07CiAgICAgICAgICAgICAgICBwb3B1cF8yZTBhZjM3MDQ0MTM0MmM4YjVjNjVlOGQ5MjgwYzc2Yy5zZXRDb250ZW50KGh0bWxfZjllMWU1Yjc5Njg3NGU0NTk0NTgwN2EzZGExM2IwZTQpOwogICAgICAgICAgICAKCiAgICAgICAgICAgIGNpcmNsZV9tYXJrZXJfNmViYTZmYTE0YmI1NDI0NTliZGFjNTcwMjJjMTY0OTIuYmluZFBvcHVwKHBvcHVwXzJlMGFmMzcwNDQxMzQyYzhiNWM2NWU4ZDkyODBjNzZjKTsKCiAgICAgICAgICAgIAogICAgICAgIAogICAgCiAgICAgICAgICAgIHZhciBjaXJjbGVfbWFya2VyXzZlZDE3OTg1NDE3MjQzNjg4ZjU4NDFmZTY0Njk0MzI0ID0gTC5jaXJjbGVNYXJrZXIoCiAgICAgICAgICAgICAgICBbOC4wODQyNjksNzcuNTQ5MTg2XSwKICAgICAgICAgICAgICAgIHsKICAiYnViYmxpbmdNb3VzZUV2ZW50cyI6IHRydWUsCiAgImNvbG9yIjogImJsdWUiLAogICJkYXNoQXJyYXkiOiBudWxsLAogICJkYXNoT2Zmc2V0IjogbnVsbCwKICAiZmlsbCI6IHRydWUsCiAgImZpbGxDb2xvciI6ICJibHVlIiwKICAiZmlsbE9wYWNpdHkiOiAwLjYsCiAgImZpbGxSdWxlIjogImV2ZW5vZGQiLAogICJsaW5lQ2FwIjogInJvdW5kIiwKICAibGluZUpvaW4iOiAicm91bmQiLAogICJvcGFjaXR5IjogMS4wLAogICJyYWRpdXMiOiA1LAogICJzdHJva2UiOiB0cnVlLAogICJ3ZWlnaHQiOiAzCn0KICAgICAgICAgICAgICAgICkuYWRkVG8obWFwXzIyZDZiYjlhMjlkZDRhMzI5YWM4NjhmOThiNDM3N2I1KTsKICAgICAgICAgICAgCiAgICAKICAgICAgICAgICAgdmFyIHBvcHVwX2IzYzJkNGNkYzAwZDQ2OThiM2EwODg5Nzc0ZTQyN2QyID0gTC5wb3B1cCh7bWF4V2lkdGg6ICczMDAnfSk7CgogICAgICAgICAgICAKICAgICAgICAgICAgICAgIHZhciBodG1sX2YxMmIxMTllMDIwNjQ1NTI5OWJmZTBjZWExYTBjMWYwID0gJCgnPGRpdiBpZD0iaHRtbF9mMTJiMTE5ZTAyMDY0NTUyOTliZmUwY2VhMWEwYzFmMCIgc3R5bGU9IndpZHRoOiAxMDAuMCU7IGhlaWdodDogMTAwLjAlOyI+U3JpIERldmkgSG90ZWw8L2Rpdj4nKVswXTsKICAgICAgICAgICAgICAgIHBvcHVwX2IzYzJkNGNkYzAwZDQ2OThiM2EwODg5Nzc0ZTQyN2QyLnNldENvbnRlbnQoaHRtbF9mMTJiMTE5ZTAyMDY0NTUyOTliZmUwY2VhMWEwYzFmMCk7CiAgICAgICAgICAgIAoKICAgICAgICAgICAgY2lyY2xlX21hcmtlcl82ZWQxNzk4NTQxNzI0MzY4OGY1ODQxZmU2NDY5NDMyNC5iaW5kUG9wdXAocG9wdXBfYjNjMmQ0Y2RjMDBkNDY5OGIzYTA4ODk3NzRlNDI3ZDIpOwoKICAgICAgICAgICAgCiAgICAgICAgCiAgICAKICAgICAgICAgICAgdmFyIGNpcmNsZV9tYXJrZXJfMGZlNThmN2UwMmUxNDc0MjhmNDhlZDRiMmI4YWMzMWIgPSBMLmNpcmNsZU1hcmtlcigKICAgICAgICAgICAgICAgIFs4LjA4ODkyMDExNjQyNDU2LDc3LjU1MTAzNjQ3NzA4ODkzXSwKICAgICAgICAgICAgICAgIHsKICAiYnViYmxpbmdNb3VzZUV2ZW50cyI6IHRydWUsCiAgImNvbG9yIjogImJsdWUiLAogICJkYXNoQXJyYXkiOiBudWxsLAogICJkYXNoT2Zmc2V0IjogbnVsbCwKICAiZmlsbCI6IHRydWUsCiAgImZpbGxDb2xvciI6ICJibHVlIiwKICAiZmlsbE9wYWNpdHkiOiAwLjYsCiAgImZpbGxSdWxlIjogImV2ZW5vZGQiLAogICJsaW5lQ2FwIjogInJvdW5kIiwKICAibGluZUpvaW4iOiAicm91bmQiLAogICJvcGFjaXR5IjogMS4wLAogICJyYWRpdXMiOiA1LAogICJzdHJva2UiOiB0cnVlLAogICJ3ZWlnaHQiOiAzCn0KICAgICAgICAgICAgICAgICkuYWRkVG8obWFwXzIyZDZiYjlhMjlkZDRhMzI5YWM4NjhmOThiNDM3N2I1KTsKICAgICAgICAgICAgCiAgICAKICAgICAgICAgICAgdmFyIHBvcHVwXzljNmNhYTlmN2MyZTRjNDNiZjcwMTdhZDEyNTkwZWI4ID0gTC5wb3B1cCh7bWF4V2lkdGg6ICczMDAnfSk7CgogICAgICAgICAgICAKICAgICAgICAgICAgICAgIHZhciBodG1sX2FjNjc2YWZmYWU5YzRlYjU5Zjg1NjI1ZDg4OThiMzhmID0gJCgnPGRpdiBpZD0iaHRtbF9hYzY3NmFmZmFlOWM0ZWI1OWY4NTYyNWQ4ODk4YjM4ZiIgc3R5bGU9IndpZHRoOiAxMDAuMCU7IGhlaWdodDogMTAwLjAlOyI+U2luZ2FyIEhvdGVsPC9kaXY+JylbMF07CiAgICAgICAgICAgICAgICBwb3B1cF85YzZjYWE5ZjdjMmU0YzQzYmY3MDE3YWQxMjU5MGViOC5zZXRDb250ZW50KGh0bWxfYWM2NzZhZmZhZTljNGViNTlmODU2MjVkODg5OGIzOGYpOwogICAgICAgICAgICAKCiAgICAgICAgICAgIGNpcmNsZV9tYXJrZXJfMGZlNThmN2UwMmUxNDc0MjhmNDhlZDRiMmI4YWMzMWIuYmluZFBvcHVwKHBvcHVwXzljNmNhYTlmN2MyZTRjNDNiZjcwMTdhZDEyNTkwZWI4KTsKCiAgICAgICAgICAgIAogICAgICAgIAogICAgCiAgICAgICAgICAgIHZhciBjaXJjbGVfbWFya2VyXzU2MDE5Y2E3Yzk4OTQ3NmU4NTdmMGI3NzIyNzI5OTRiID0gTC5jaXJjbGVNYXJrZXIoCiAgICAgICAgICAgICAgICBbOC4wOTU0NzksNzcuNTQ2MTI1XSwKICAgICAgICAgICAgICAgIHsKICAiYnViYmxpbmdNb3VzZUV2ZW50cyI6IHRydWUsCiAgImNvbG9yIjogImJsdWUiLAogICJkYXNoQXJyYXkiOiBudWxsLAogICJkYXNoT2Zmc2V0IjogbnVsbCwKICAiZmlsbCI6IHRydWUsCiAgImZpbGxDb2xvciI6ICJibHVlIiwKICAiZmlsbE9wYWNpdHkiOiAwLjYsCiAgImZpbGxSdWxlIjogImV2ZW5vZGQiLAogICJsaW5lQ2FwIjogInJvdW5kIiwKICAibGluZUpvaW4iOiAicm91bmQiLAogICJvcGFjaXR5IjogMS4wLAogICJyYWRpdXMiOiA1LAogICJzdHJva2UiOiB0cnVlLAogICJ3ZWlnaHQiOiAzCn0KICAgICAgICAgICAgICAgICkuYWRkVG8obWFwXzIyZDZiYjlhMjlkZDRhMzI5YWM4NjhmOThiNDM3N2I1KTsKICAgICAgICAgICAgCiAgICAKICAgICAgICAgICAgdmFyIHBvcHVwXzZjOWZmMzNkOTc5MzQ4MjQ4ODI0Y2U2MWNiZmVjNTA3ID0gTC5wb3B1cCh7bWF4V2lkdGg6ICczMDAnfSk7CgogICAgICAgICAgICAKICAgICAgICAgICAgICAgIHZhciBodG1sXzIxOTA2ZDE2Nzk0NTQ4ZWY5YmJlOGJiMDY4YzIyYWFlID0gJCgnPGRpdiBpZD0iaHRtbF8yMTkwNmQxNjc5NDU0OGVmOWJiZThiYjA2OGMyMmFhZSIgc3R5bGU9IndpZHRoOiAxMDAuMCU7IGhlaWdodDogMTAwLjAlOyI+aG90ZWwgY2FwZSByZXNpZGVuY3k8L2Rpdj4nKVswXTsKICAgICAgICAgICAgICAgIHBvcHVwXzZjOWZmMzNkOTc5MzQ4MjQ4ODI0Y2U2MWNiZmVjNTA3LnNldENvbnRlbnQoaHRtbF8yMTkwNmQxNjc5NDU0OGVmOWJiZThiYjA2OGMyMmFhZSk7CiAgICAgICAgICAgIAoKICAgICAgICAgICAgY2lyY2xlX21hcmtlcl81NjAxOWNhN2M5ODk0NzZlODU3ZjBiNzcyMjcyOTk0Yi5iaW5kUG9wdXAocG9wdXBfNmM5ZmYzM2Q5NzkzNDgyNDg4MjRjZTYxY2JmZWM1MDcpOwoKICAgICAgICAgICAgCiAgICAgICAgCiAgICAKICAgICAgICAgICAgdmFyIGNpcmNsZV9tYXJrZXJfZjNmODU5NmVjNTNkNDZkNzhhODJiNDViYWM3NTcxYjIgPSBMLmNpcmNsZU1hcmtlcigKICAgICAgICAgICAgICAgIFs4LjA5MzI5Niw3Ny41NDc0MzNdLAogICAgICAgICAgICAgICAgewogICJidWJibGluZ01vdXNlRXZlbnRzIjogdHJ1ZSwKICAiY29sb3IiOiAiYmx1ZSIsCiAgImRhc2hBcnJheSI6IG51bGwsCiAgImRhc2hPZmZzZXQiOiBudWxsLAogICJmaWxsIjogdHJ1ZSwKICAiZmlsbENvbG9yIjogImJsdWUiLAogICJmaWxsT3BhY2l0eSI6IDAuNiwKICAiZmlsbFJ1bGUiOiAiZXZlbm9kZCIsCiAgImxpbmVDYXAiOiAicm91bmQiLAogICJsaW5lSm9pbiI6ICJyb3VuZCIsCiAgIm9wYWNpdHkiOiAxLjAsCiAgInJhZGl1cyI6IDUsCiAgInN0cm9rZSI6IHRydWUsCiAgIndlaWdodCI6IDMKfQogICAgICAgICAgICAgICAgKS5hZGRUbyhtYXBfMjJkNmJiOWEyOWRkNGEzMjlhYzg2OGY5OGI0Mzc3YjUpOwogICAgICAgICAgICAKICAgIAogICAgICAgICAgICB2YXIgcG9wdXBfODhjMWMyM2I2MTBiNDI5Mjg2MmJhZGMxZTMyOWQ3OTcgPSBMLnBvcHVwKHttYXhXaWR0aDogJzMwMCd9KTsKCiAgICAgICAgICAgIAogICAgICAgICAgICAgICAgdmFyIGh0bWxfN2M2YTM3ZTJiZDFjNGE3NGFkMTliYWVlMDk0M2ZhODkgPSAkKCc8ZGl2IGlkPSJodG1sXzdjNmEzN2UyYmQxYzRhNzRhZDE5YmFlZTA5NDNmYTg5IiBzdHlsZT0id2lkdGg6IDEwMC4wJTsgaGVpZ2h0OiAxMDAuMCU7Ij5LYW55YSBIb3RlbDwvZGl2PicpWzBdOwogICAgICAgICAgICAgICAgcG9wdXBfODhjMWMyM2I2MTBiNDI5Mjg2MmJhZGMxZTMyOWQ3OTcuc2V0Q29udGVudChodG1sXzdjNmEzN2UyYmQxYzRhNzRhZDE5YmFlZTA5NDNmYTg5KTsKICAgICAgICAgICAgCgogICAgICAgICAgICBjaXJjbGVfbWFya2VyX2YzZjg1OTZlYzUzZDQ2ZDc4YTgyYjQ1YmFjNzU3MWIyLmJpbmRQb3B1cChwb3B1cF84OGMxYzIzYjYxMGI0MjkyODYyYmFkYzFlMzI5ZDc5Nyk7CgogICAgICAgICAgICAKICAgICAgICAKICAgIAogICAgICAgICAgICB2YXIgY2lyY2xlX21hcmtlcl9kZDUwZGQ1OWY0MWU0ZWQ2OTJkOGMxNDY1NzIxYWYyZiA9IEwuY2lyY2xlTWFya2VyKAogICAgICAgICAgICAgICAgWzguMDgyNTAxLDc3LjU1MTM0XSwKICAgICAgICAgICAgICAgIHsKICAiYnViYmxpbmdNb3VzZUV2ZW50cyI6IHRydWUsCiAgImNvbG9yIjogImJsdWUiLAogICJkYXNoQXJyYXkiOiBudWxsLAogICJkYXNoT2Zmc2V0IjogbnVsbCwKICAiZmlsbCI6IHRydWUsCiAgImZpbGxDb2xvciI6ICJibHVlIiwKICAiZmlsbE9wYWNpdHkiOiAwLjYsCiAgImZpbGxSdWxlIjogImV2ZW5vZGQiLAogICJsaW5lQ2FwIjogInJvdW5kIiwKICAibGluZUpvaW4iOiAicm91bmQiLAogICJvcGFjaXR5IjogMS4wLAogICJyYWRpdXMiOiA1LAogICJzdHJva2UiOiB0cnVlLAogICJ3ZWlnaHQiOiAzCn0KICAgICAgICAgICAgICAgICkuYWRkVG8obWFwXzIyZDZiYjlhMjlkZDRhMzI5YWM4NjhmOThiNDM3N2I1KTsKICAgICAgICAgICAgCiAgICAKICAgICAgICAgICAgdmFyIHBvcHVwX2E1ZmNkMmZmYTNhODQzOGFhNWM4MWFhYTg1YWRkYjVjID0gTC5wb3B1cCh7bWF4V2lkdGg6ICczMDAnfSk7CgogICAgICAgICAgICAKICAgICAgICAgICAgICAgIHZhciBodG1sX2EwMWIwNzIwM2MzYzRhMjNhNWNlYjcxY2Y4NGNmOWFjID0gJCgnPGRpdiBpZD0iaHRtbF9hMDFiMDcyMDNjM2M0YTIzYTVjZWI3MWNmODRjZjlhYyIgc3R5bGU9IndpZHRoOiAxMDAuMCU7IGhlaWdodDogMTAwLjAlOyI+UmVzdGF1cmFudCBTZWEgVmlldzwvZGl2PicpWzBdOwogICAgICAgICAgICAgICAgcG9wdXBfYTVmY2QyZmZhM2E4NDM4YWE1YzgxYWFhODVhZGRiNWMuc2V0Q29udGVudChodG1sX2EwMWIwNzIwM2MzYzRhMjNhNWNlYjcxY2Y4NGNmOWFjKTsKICAgICAgICAgICAgCgogICAgICAgICAgICBjaXJjbGVfbWFya2VyX2RkNTBkZDU5ZjQxZTRlZDY5MmQ4YzE0NjU3MjFhZjJmLmJpbmRQb3B1cChwb3B1cF9hNWZjZDJmZmEzYTg0MzhhYTVjODFhYWE4NWFkZGI1Yyk7CgogICAgICAgICAgICAKICAgICAgICAKICAgIAogICAgICAgICAgICB2YXIgY2lyY2xlX21hcmtlcl8xYjZlMjU4MGZjNDk0OTMwOGQ3MjRiNjk3YjQ1OTEyMCA9IEwuY2lyY2xlTWFya2VyKAogICAgICAgICAgICAgICAgWzguMDgxNzM0LDc3LjU0OTAxNl0sCiAgICAgICAgICAgICAgICB7CiAgImJ1YmJsaW5nTW91c2VFdmVudHMiOiB0cnVlLAogICJjb2xvciI6ICJibHVlIiwKICAiZGFzaEFycmF5IjogbnVsbCwKICAiZGFzaE9mZnNldCI6IG51bGwsCiAgImZpbGwiOiB0cnVlLAogICJmaWxsQ29sb3IiOiAiYmx1ZSIsCiAgImZpbGxPcGFjaXR5IjogMC42LAogICJmaWxsUnVsZSI6ICJldmVub2RkIiwKICAibGluZUNhcCI6ICJyb3VuZCIsCiAgImxpbmVKb2luIjogInJvdW5kIiwKICAib3BhY2l0eSI6IDEuMCwKICAicmFkaXVzIjogNSwKICAic3Ryb2tlIjogdHJ1ZSwKICAid2VpZ2h0IjogMwp9CiAgICAgICAgICAgICAgICApLmFkZFRvKG1hcF8yMmQ2YmI5YTI5ZGQ0YTMyOWFjODY4Zjk4YjQzNzdiNSk7CiAgICAgICAgICAgIAogICAgCiAgICAgICAgICAgIHZhciBwb3B1cF80NzUwODdjMThkZWU0ZTRkYWEyYTExZTk4NTNjMzYzMyA9IEwucG9wdXAoe21heFdpZHRoOiAnMzAwJ30pOwoKICAgICAgICAgICAgCiAgICAgICAgICAgICAgICB2YXIgaHRtbF9hYmUwOTM2MTczN2Q0YTU0YWFjOTc0MjgxZjlhMzFiNiA9ICQoJzxkaXYgaWQ9Imh0bWxfYWJlMDkzNjE3MzdkNGE1NGFhYzk3NDI4MWY5YTMxYjYiIHN0eWxlPSJ3aWR0aDogMTAwLjAlOyBoZWlnaHQ6IDEwMC4wJTsiPk4uIEsuIFIuIFJlc3RhdXJhbnQ8L2Rpdj4nKVswXTsKICAgICAgICAgICAgICAgIHBvcHVwXzQ3NTA4N2MxOGRlZTRlNGRhYTJhMTFlOTg1M2MzNjMzLnNldENvbnRlbnQoaHRtbF9hYmUwOTM2MTczN2Q0YTU0YWFjOTc0MjgxZjlhMzFiNik7CiAgICAgICAgICAgIAoKICAgICAgICAgICAgY2lyY2xlX21hcmtlcl8xYjZlMjU4MGZjNDk0OTMwOGQ3MjRiNjk3YjQ1OTEyMC5iaW5kUG9wdXAocG9wdXBfNDc1MDg3YzE4ZGVlNGU0ZGFhMmExMWU5ODUzYzM2MzMpOwoKICAgICAgICAgICAgCiAgICAgICAgCiAgICAKICAgICAgICAgICAgdmFyIGNpcmNsZV9tYXJrZXJfZmI4ZGY4NDkyYWNlNDY5MTk2MWYxMzRhYjhjMTUwZTQgPSBMLmNpcmNsZU1hcmtlcigKICAgICAgICAgICAgICAgIFs4LjA4MjIyNTc5OTU2MDU0Nyw3Ny41NTExMjQ1NzI3NTM5XSwKICAgICAgICAgICAgICAgIHsKICAiYnViYmxpbmdNb3VzZUV2ZW50cyI6IHRydWUsCiAgImNvbG9yIjogImJsdWUiLAogICJkYXNoQXJyYXkiOiBudWxsLAogICJkYXNoT2Zmc2V0IjogbnVsbCwKICAiZmlsbCI6IHRydWUsCiAgImZpbGxDb2xvciI6ICJibHVlIiwKICAiZmlsbE9wYWNpdHkiOiAwLjYsCiAgImZpbGxSdWxlIjogImV2ZW5vZGQiLAogICJsaW5lQ2FwIjogInJvdW5kIiwKICAibGluZUpvaW4iOiAicm91bmQiLAogICJvcGFjaXR5IjogMS4wLAogICJyYWRpdXMiOiA1LAogICJzdHJva2UiOiB0cnVlLAogICJ3ZWlnaHQiOiAzCn0KICAgICAgICAgICAgICAgICkuYWRkVG8obWFwXzIyZDZiYjlhMjlkZDRhMzI5YWM4NjhmOThiNDM3N2I1KTsKICAgICAgICAgICAgCiAgICAKICAgICAgICAgICAgdmFyIHBvcHVwXzAxNjQ4NTgzODM5ZTRiYmU5OTI4ZjEwMTczNTY1ZWExID0gTC5wb3B1cCh7bWF4V2lkdGg6ICczMDAnfSk7CgogICAgICAgICAgICAKICAgICAgICAgICAgICAgIHZhciBodG1sXzg1ZGI1NWRhNWEyZDQ5MGViODMwMjZiNWFhNDFiYWVlID0gJCgnPGRpdiBpZD0iaHRtbF84NWRiNTVkYTVhMmQ0OTBlYjgzMDI2YjVhYTQxYmFlZSIgc3R5bGU9IndpZHRoOiAxMDAuMCU7IGhlaWdodDogMTAwLjAlOyI+U2ViYWEgTXVsdGljdXNpbmUgUmVzdGF1cmFudDwvZGl2PicpWzBdOwogICAgICAgICAgICAgICAgcG9wdXBfMDE2NDg1ODM4MzllNGJiZTk5MjhmMTAxNzM1NjVlYTEuc2V0Q29udGVudChodG1sXzg1ZGI1NWRhNWEyZDQ5MGViODMwMjZiNWFhNDFiYWVlKTsKICAgICAgICAgICAgCgogICAgICAgICAgICBjaXJjbGVfbWFya2VyX2ZiOGRmODQ5MmFjZTQ2OTE5NjFmMTM0YWI4YzE1MGU0LmJpbmRQb3B1cChwb3B1cF8wMTY0ODU4MzgzOWU0YmJlOTkyOGYxMDE3MzU2NWVhMSk7CgogICAgICAgICAgICAKICAgICAgICAKICAgIAogICAgICAgICAgICB2YXIgY2lyY2xlX21hcmtlcl80N2NjMGY5MDNhMWI0ZDZiYjEyMmJiNTUzY2NiZDc1MCA9IEwuY2lyY2xlTWFya2VyKAogICAgICAgICAgICAgICAgWzguMDgyNjg0MjUzNzE0OTI5LDc3LjU1MDk3NzQ2ODQ5MDZdLAogICAgICAgICAgICAgICAgewogICJidWJibGluZ01vdXNlRXZlbnRzIjogdHJ1ZSwKICAiY29sb3IiOiAiYmx1ZSIsCiAgImRhc2hBcnJheSI6IG51bGwsCiAgImRhc2hPZmZzZXQiOiBudWxsLAogICJmaWxsIjogdHJ1ZSwKICAiZmlsbENvbG9yIjogImJsdWUiLAogICJmaWxsT3BhY2l0eSI6IDAuNiwKICAiZmlsbFJ1bGUiOiAiZXZlbm9kZCIsCiAgImxpbmVDYXAiOiAicm91bmQiLAogICJsaW5lSm9pbiI6ICJyb3VuZCIsCiAgIm9wYWNpdHkiOiAxLjAsCiAgInJhZGl1cyI6IDUsCiAgInN0cm9rZSI6IHRydWUsCiAgIndlaWdodCI6IDMKfQogICAgICAgICAgICAgICAgKS5hZGRUbyhtYXBfMjJkNmJiOWEyOWRkNGEzMjlhYzg2OGY5OGI0Mzc3YjUpOwogICAgICAgICAgICAKICAgIAogICAgICAgICAgICB2YXIgcG9wdXBfOTcxODBiMDY4YjQzNGM4YmE4MzQ4ZjU2MmEzYzY1YTMgPSBMLnBvcHVwKHttYXhXaWR0aDogJzMwMCd9KTsKCiAgICAgICAgICAgIAogICAgICAgICAgICAgICAgdmFyIGh0bWxfY2JmMDNmMjY3NjRjNDU0Y2E1MDc4OTA4MjYwNmJiMDIgPSAkKCc8ZGl2IGlkPSJodG1sX2NiZjAzZjI2NzY0YzQ1NGNhNTA3ODkwODI2MDZiYjAyIiBzdHlsZT0id2lkdGg6IDEwMC4wJTsgaGVpZ2h0OiAxMDAuMCU7Ij5UaGUgQ3VycnkgUmVzdGF1cmFudDwvZGl2PicpWzBdOwogICAgICAgICAgICAgICAgcG9wdXBfOTcxODBiMDY4YjQzNGM4YmE4MzQ4ZjU2MmEzYzY1YTMuc2V0Q29udGVudChodG1sX2NiZjAzZjI2NzY0YzQ1NGNhNTA3ODkwODI2MDZiYjAyKTsKICAgICAgICAgICAgCgogICAgICAgICAgICBjaXJjbGVfbWFya2VyXzQ3Y2MwZjkwM2ExYjRkNmJiMTIyYmI1NTNjY2JkNzUwLmJpbmRQb3B1cChwb3B1cF85NzE4MGIwNjhiNDM0YzhiYTgzNDhmNTYyYTNjNjVhMyk7CgogICAgICAgICAgICAKICAgICAgICAKICAgIAogICAgICAgICAgICB2YXIgY2lyY2xlX21hcmtlcl82ZTM3YzhmMTk2MDI0ZDgxYWU4NzUyMjgyNjZmOTE1NyA9IEwuY2lyY2xlTWFya2VyKAogICAgICAgICAgICAgICAgWzguMDg0MjgxLDc3LjU0OTUwOV0sCiAgICAgICAgICAgICAgICB7CiAgImJ1YmJsaW5nTW91c2VFdmVudHMiOiB0cnVlLAogICJjb2xvciI6ICJibHVlIiwKICAiZGFzaEFycmF5IjogbnVsbCwKICAiZGFzaE9mZnNldCI6IG51bGwsCiAgImZpbGwiOiB0cnVlLAogICJmaWxsQ29sb3IiOiAiYmx1ZSIsCiAgImZpbGxPcGFjaXR5IjogMC42LAogICJmaWxsUnVsZSI6ICJldmVub2RkIiwKICAibGluZUNhcCI6ICJyb3VuZCIsCiAgImxpbmVKb2luIjogInJvdW5kIiwKICAib3BhY2l0eSI6IDEuMCwKICAicmFkaXVzIjogNSwKICAic3Ryb2tlIjogdHJ1ZSwKICAid2VpZ2h0IjogMwp9CiAgICAgICAgICAgICAgICApLmFkZFRvKG1hcF8yMmQ2YmI5YTI5ZGQ0YTMyOWFjODY4Zjk4YjQzNzdiNSk7CiAgICAgICAgICAgIAogICAgCiAgICAgICAgICAgIHZhciBwb3B1cF9jYmMzZDk4ZGQxNDg0MjAyODFhNjc5MGNjZWYwYTk0YyA9IEwucG9wdXAoe21heFdpZHRoOiAnMzAwJ30pOwoKICAgICAgICAgICAgCiAgICAgICAgICAgICAgICB2YXIgaHRtbF8xMGZmZmQ0YWJjMmI0ZTExOTY1NzNmYTNjMjJlZTMzZiA9ICQoJzxkaXYgaWQ9Imh0bWxfMTBmZmZkNGFiYzJiNGUxMTk2NTczZmEzYzIyZWUzM2YiIHN0eWxlPSJ3aWR0aDogMTAwLjAlOyBoZWlnaHQ6IDEwMC4wJTsiPkxlIEFyYWJpYSBSZXN0YXVyYW50PC9kaXY+JylbMF07CiAgICAgICAgICAgICAgICBwb3B1cF9jYmMzZDk4ZGQxNDg0MjAyODFhNjc5MGNjZWYwYTk0Yy5zZXRDb250ZW50KGh0bWxfMTBmZmZkNGFiYzJiNGUxMTk2NTczZmEzYzIyZWUzM2YpOwogICAgICAgICAgICAKCiAgICAgICAgICAgIGNpcmNsZV9tYXJrZXJfNmUzN2M4ZjE5NjAyNGQ4MWFlODc1MjI4MjY2ZjkxNTcuYmluZFBvcHVwKHBvcHVwX2NiYzNkOThkZDE0ODQyMDI4MWE2NzkwY2NlZjBhOTRjKTsKCiAgICAgICAgICAgIAogICAgICAgIAogICAgCiAgICAgICAgICAgIHZhciBjaXJjbGVfbWFya2VyX2I4ZTNjZmExMGNhZDQ4MGFhYzE2ZjQwOTE4NmJjMWY1ID0gTC5jaXJjbGVNYXJrZXIoCiAgICAgICAgICAgICAgICBbOC4wODE4MDg4NTQ0OTYzODUsNzcuNTQxMjk5NjM0NDU3OTNdLAogICAgICAgICAgICAgICAgewogICJidWJibGluZ01vdXNlRXZlbnRzIjogdHJ1ZSwKICAiY29sb3IiOiAiYmx1ZSIsCiAgImRhc2hBcnJheSI6IG51bGwsCiAgImRhc2hPZmZzZXQiOiBudWxsLAogICJmaWxsIjogdHJ1ZSwKICAiZmlsbENvbG9yIjogImJsdWUiLAogICJmaWxsT3BhY2l0eSI6IDAuNiwKICAiZmlsbFJ1bGUiOiAiZXZlbm9kZCIsCiAgImxpbmVDYXAiOiAicm91bmQiLAogICJsaW5lSm9pbiI6ICJyb3VuZCIsCiAgIm9wYWNpdHkiOiAxLjAsCiAgInJhZGl1cyI6IDUsCiAgInN0cm9rZSI6IHRydWUsCiAgIndlaWdodCI6IDMKfQogICAgICAgICAgICAgICAgKS5hZGRUbyhtYXBfMjJkNmJiOWEyOWRkNGEzMjlhYzg2OGY5OGI0Mzc3YjUpOwogICAgICAgICAgICAKICAgIAogICAgICAgICAgICB2YXIgcG9wdXBfY2NiOTI2MWU2MGE2NGNiOGJiMjEyZmY4MjEzNzdmYmQgPSBMLnBvcHVwKHttYXhXaWR0aDogJzMwMCd9KTsKCiAgICAgICAgICAgIAogICAgICAgICAgICAgICAgdmFyIGh0bWxfNTk3NmE3NjFhOGU3NGZlODhjYzhiZWUzZTQ0ZTdiNDkgPSAkKCc8ZGl2IGlkPSJodG1sXzU5NzZhNzYxYThlNzRmZTg4Y2M4YmVlM2U0NGU3YjQ5IiBzdHlsZT0id2lkdGg6IDEwMC4wJTsgaGVpZ2h0OiAxMDAuMCU7Ij5DYXNhbm92YSBGYW1pbHkgUmVzdGF1cmFudDwvZGl2PicpWzBdOwogICAgICAgICAgICAgICAgcG9wdXBfY2NiOTI2MWU2MGE2NGNiOGJiMjEyZmY4MjEzNzdmYmQuc2V0Q29udGVudChodG1sXzU5NzZhNzYxYThlNzRmZTg4Y2M4YmVlM2U0NGU3YjQ5KTsKICAgICAgICAgICAgCgogICAgICAgICAgICBjaXJjbGVfbWFya2VyX2I4ZTNjZmExMGNhZDQ4MGFhYzE2ZjQwOTE4NmJjMWY1LmJpbmRQb3B1cChwb3B1cF9jY2I5MjYxZTYwYTY0Y2I4YmIyMTJmZjgyMTM3N2ZiZCk7CgogICAgICAgICAgICAKICAgICAgICAKICAgIAogICAgICAgICAgICB2YXIgY2lyY2xlX21hcmtlcl8yZTk0Zjk1MTZjMWE0N2ZmYjE0Mjg1YjZjY2EzMGNlOSA9IEwuY2lyY2xlTWFya2VyKAogICAgICAgICAgICAgICAgWzguMDgyMzMzMjYwNjkyODM4LDc3LjU1MTIxNjc5NDE2ODFdLAogICAgICAgICAgICAgICAgewogICJidWJibGluZ01vdXNlRXZlbnRzIjogdHJ1ZSwKICAiY29sb3IiOiAiYmx1ZSIsCiAgImRhc2hBcnJheSI6IG51bGwsCiAgImRhc2hPZmZzZXQiOiBudWxsLAogICJmaWxsIjogdHJ1ZSwKICAiZmlsbENvbG9yIjogImJsdWUiLAogICJmaWxsT3BhY2l0eSI6IDAuNiwKICAiZmlsbFJ1bGUiOiAiZXZlbm9kZCIsCiAgImxpbmVDYXAiOiAicm91bmQiLAogICJsaW5lSm9pbiI6ICJyb3VuZCIsCiAgIm9wYWNpdHkiOiAxLjAsCiAgInJhZGl1cyI6IDUsCiAgInN0cm9rZSI6IHRydWUsCiAgIndlaWdodCI6IDMKfQogICAgICAgICAgICAgICAgKS5hZGRUbyhtYXBfMjJkNmJiOWEyOWRkNGEzMjlhYzg2OGY5OGI0Mzc3YjUpOwogICAgICAgICAgICAKICAgIAogICAgICAgICAgICB2YXIgcG9wdXBfYzYzZTM0ZTI3MzUyNGNkZDkyYzFiM2EwNzk3MGI2ZTEgPSBMLnBvcHVwKHttYXhXaWR0aDogJzMwMCd9KTsKCiAgICAgICAgICAgIAogICAgICAgICAgICAgICAgdmFyIGh0bWxfZjRmMTM2NzNlODEwNDIxMGI1YWViNjU3OTgwODdmNDUgPSAkKCc8ZGl2IGlkPSJodG1sX2Y0ZjEzNjczZTgxMDQyMTBiNWFlYjY1Nzk4MDg3ZjQ1IiBzdHlsZT0id2lkdGg6IDEwMC4wJTsgaGVpZ2h0OiAxMDAuMCU7Ij5Ib3RlbCBTZWFWaWV3PC9kaXY+JylbMF07CiAgICAgICAgICAgICAgICBwb3B1cF9jNjNlMzRlMjczNTI0Y2RkOTJjMWIzYTA3OTcwYjZlMS5zZXRDb250ZW50KGh0bWxfZjRmMTM2NzNlODEwNDIxMGI1YWViNjU3OTgwODdmNDUpOwogICAgICAgICAgICAKCiAgICAgICAgICAgIGNpcmNsZV9tYXJrZXJfMmU5NGY5NTE2YzFhNDdmZmIxNDI4NWI2Y2NhMzBjZTkuYmluZFBvcHVwKHBvcHVwX2M2M2UzNGUyNzM1MjRjZGQ5MmMxYjNhMDc5NzBiNmUxKTsKCiAgICAgICAgICAgIAogICAgICAgIAo8L3NjcmlwdD4= onload=\"this.contentDocument.open();this.contentDocument.write(atob(this.getAttribute('data-html')));this.contentDocument.close();\" allowfullscreen webkitallowfullscreen mozallowfullscreen></iframe></div></div>"
      ],
      "text/plain": [
       "<folium.folium.Map at 0x7fdb68e296a0>"
      ]
     },
     "execution_count": 20,
     "metadata": {},
     "output_type": "execute_result"
    }
   ],
   "source": [
    "hotels_map = folium.Map(location=[latitude, longitude], zoom_start=16) # generate map centred around the Kanyakumari\n",
    "\n",
    "# add a red circle marker to represent the core location of kanyakumari\n",
    "folium.features.CircleMarker(\n",
    "    [latitude, longitude],\n",
    "    radius=10,\n",
    "    color='red',\n",
    "    popup='Kanyakumari',\n",
    "    fill = True,\n",
    "    fill_color = 'red',\n",
    "    fill_opacity = 0.6\n",
    ").add_to(hotels_map)\n",
    "\n",
    "# add the Italian restaurants as blue circle markers\n",
    "for lat, lng, label in zip(hotels_df.lat, hotels_df.lng, hotels_df.name):\n",
    "    folium.features.CircleMarker(\n",
    "        [lat, lng],\n",
    "        radius=5,\n",
    "        color='blue',\n",
    "        popup=label,\n",
    "        fill = True,\n",
    "        fill_color='blue',\n",
    "        fill_opacity=0.6\n",
    "    ).add_to(hotels_map)\n",
    "\n",
    "# display map\n",
    "hotels_map"
   ]
  },
  {
   "cell_type": "markdown",
   "metadata": {},
   "source": [
    "# 3.Methodology section\n",
    "\n",
    "In this sections we will perform some data analysis and EDA to find insight from data.We will try to understand the current stats of all given data.Probably,clustering or centroid of all venues will help us to locate new hotel.\n",
    "\n",
    "### 3.a Removing Outlier - Hotel Bharani"
   ]
  },
  {
   "cell_type": "code",
   "execution_count": 21,
   "metadata": {},
   "outputs": [
    {
     "name": "stdout",
     "output_type": "stream",
     "text": [
      "So Now there are 39 hotels & restaurants present in kanyakumari\n"
     ]
    }
   ],
   "source": [
    "dataframe_filtered=dataframe_filtered.drop(dataframe_filtered[dataframe_filtered.name =='Hotel Bharani'].index)\n",
    "hotels_df=dataframe_filtered\n",
    "print(\"So Now there are {} hotels & restaurants present in kanyakumari\".format(dataframe_filtered.shape[0]))"
   ]
  },
  {
   "cell_type": "markdown",
   "metadata": {},
   "source": [
    "### 3.b How Far are hotels from the core location"
   ]
  },
  {
   "cell_type": "code",
   "execution_count": 22,
   "metadata": {},
   "outputs": [
    {
     "data": {
      "image/png": "[encoded data removed]",
      "text/plain": [
       "<Figure size 432x288 with 1 Axes>"
      ]
     },
     "metadata": {
      "needs_background": "light"
     },
     "output_type": "display_data"
    },
    {
     "name": "stdout",
     "output_type": "stream",
     "text": [
      "Average distance between hotels and core location is 521 metres\n"
     ]
    }
   ],
   "source": [
    "distance_hotel_df=dataframe_filtered[['name','categories','distance','lat','lng']].sort_values('distance')\n",
    "\n",
    "def plot_bar_x():\n",
    "    # this is for plotting purpose\n",
    "    index = np.arange(len(distance_hotel_df.name))\n",
    "    plt.bar(distance_hotel_df.name, distance_hotel_df.distance)\n",
    "    plt.xlabel('Hotels')\n",
    "    plt.ylabel('Distance from location (Metres)')\n",
    "    plt.xticks(distance_hotel_df.name,rotation=90)\n",
    "    plt.title('Hotels Vs Distance')\n",
    "    plt.show()\n",
    "plot_bar_x()\n",
    "\n",
    "print(\"Average distance between hotels and core location is {} metres\".format(int(sum(hotels_df['distance'])/hotels_df.shape[0])))"
   ]
  },
  {
   "cell_type": "markdown",
   "metadata": {},
   "source": [
    "__Few Take Aways__\n",
    "\n",
    "* Singar hotel is far than rest of hotels.\n",
    "\n",
    "* Tri Star remains close to the core spot.\n",
    "\n",
    "* 521 metres is average distance from all hotels to core location"
   ]
  },
  {
   "cell_type": "markdown",
   "metadata": {},
   "source": [
    "### 3.c Explore for other venues around Kanyakumari\n",
    "A tourist person always wants to visit nearby iconic places.So he wants to reside somewhere nearby to all major venues.We will be exploring more venues around the core location.\n",
    "\n",
    "We will be digging more on main areas or place around 1 km."
   ]
  },
  {
   "cell_type": "code",
   "execution_count": 23,
   "metadata": {
    "collapsed": true
   },
   "outputs": [],
   "source": [
    "radius=1000\n",
    "url_venues = 'https://api.foursquare.com/v2/venues/explore?client_id={}&client_secret={}&ll={},{}&v={}&radius={}&limit={}'.format(CLIENT_ID, CLIENT_SECRET, latitude, longitude, VERSION, radius, LIMIT)\n",
    "#url_venues"
   ]
  },
  {
   "cell_type": "code",
   "execution_count": 24,
   "metadata": {},
   "outputs": [
    {
     "data": {
      "text/plain": [
       "'There are 16 venues around kanyakumari.'"
      ]
     },
     "execution_count": 24,
     "metadata": {},
     "output_type": "execute_result"
    }
   ],
   "source": [
    "import requests\n",
    "\n",
    "results_venues = requests.get(url_venues).json()\n",
    "'There are {} venues around kanyakumari.'.format(len(results_venues['response']['groups'][0]['items']))"
   ]
  },
  {
   "cell_type": "markdown",
   "metadata": {},
   "source": [
    "__Get relevant part of JSON and transform it into a pandas dataframe__"
   ]
  },
  {
   "cell_type": "code",
   "execution_count": 25,
   "metadata": {
    "collapsed": true
   },
   "outputs": [],
   "source": [
    "items_venues = results_venues['response']['groups'][0]['items']\n",
    "#items_venues[0]"
   ]
  },
  {
   "cell_type": "code",
   "execution_count": 26,
   "metadata": {},
   "outputs": [
    {
     "data": {
      "text/plain": [
       "0                 Sunrise Point\n",
       "1     Vivekananda Rock Memorial\n",
       "2               End of the Land\n",
       "3             Kanyakumari Beach\n",
       "4                Triveni Sangam\n",
       "5        Sparsa Resorts and Spa\n",
       "6                 Hotel SeaView\n",
       "7             Sangam Restautant\n",
       "8                 Hotel Sarvana\n",
       "9          Thiruvalluvar Statue\n",
       "10              Gandhi Memorial\n",
       "11                   Ferry Boat\n",
       "12       Kanyakumari Lighthouse\n",
       "13           The Seashore Hotel\n",
       "14     Kanyakumari Bus Stantion\n",
       "15       Thiruvalluvar Mandapam\n",
       "Name: name, dtype: object"
      ]
     },
     "execution_count": 26,
     "metadata": {},
     "output_type": "execute_result"
    }
   ],
   "source": [
    "dataframe_venues = json_normalize(items_venues) # flatten JSON\n",
    "\n",
    "# filter columns\n",
    "filtered_columns = ['venue.name', 'venue.categories'] + [col for col in dataframe_venues.columns if col.startswith('venue.location.')] + ['venue.id']\n",
    "dataframe_filtered_venues = dataframe_venues.loc[:, filtered_columns]\n",
    "\n",
    "# filter the category for each row\n",
    "dataframe_filtered_venues['venue.categories'] = dataframe_filtered_venues.apply(get_category_type, axis=1)\n",
    "\n",
    "# clean columns\n",
    "dataframe_filtered_venues.columns = [col.split('.')[-1] for col in dataframe_filtered_venues.columns]\n",
    "\n",
    "dataframe_filtered_venues.name"
   ]
  },
  {
   "cell_type": "markdown",
   "metadata": {},
   "source": [
    "### 3.d Extract Venues using Search Queries\n",
    "When I searched in google map,I could see there were some venues missing.Temples,Church,Parks and Museums are also more recognized by visitors and local audience.So lets bring their data inside.I am not sure why Foursquare hasnt captured it while trying venue query.\n",
    "\n",
    "Below is the function to extract many queries at a time by passing them in a single list."
   ]
  },
  {
   "cell_type": "code",
   "execution_count": 27,
   "metadata": {},
   "outputs": [
    {
     "data": {
      "text/html": [
       "<div>\n",
       "<style scoped>\n",
       "    .dataframe tbody tr th:only-of-type {\n",
       "        vertical-align: middle;\n",
       "    }\n",
       "\n",
       "    .dataframe tbody tr th {\n",
       "        vertical-align: top;\n",
       "    }\n",
       "\n",
       "    .dataframe thead th {\n",
       "        text-align: right;\n",
       "    }\n",
       "</style>\n",
       "<table border=\"1\" class=\"dataframe\">\n",
       "  <thead>\n",
       "    <tr style=\"text-align: right;\">\n",
       "      <th></th>\n",
       "      <th>name</th>\n",
       "      <th>categories</th>\n",
       "      <th>distance</th>\n",
       "      <th>lat</th>\n",
       "      <th>lng</th>\n",
       "      <th>id</th>\n",
       "    </tr>\n",
       "  </thead>\n",
       "  <tbody>\n",
       "    <tr>\n",
       "      <th>0</th>\n",
       "      <td>Bhagwati Aman Temple</td>\n",
       "      <td>Temple</td>\n",
       "      <td>127</td>\n",
       "      <td>8.079735</td>\n",
       "      <td>77.550979</td>\n",
       "      <td>4c7110d8d7fab1f7733e60c9</td>\n",
       "    </tr>\n",
       "    <tr>\n",
       "      <th>1</th>\n",
       "      <td>Kanyakumari Temple</td>\n",
       "      <td>Temple</td>\n",
       "      <td>209</td>\n",
       "      <td>8.080701</td>\n",
       "      <td>77.551147</td>\n",
       "      <td>5135e0ace4b05b6ad7b6e450</td>\n",
       "    </tr>\n",
       "    <tr>\n",
       "      <th>2</th>\n",
       "      <td>hotel Temple Citi</td>\n",
       "      <td>Hotel</td>\n",
       "      <td>448</td>\n",
       "      <td>8.083273</td>\n",
       "      <td>77.549709</td>\n",
       "      <td>58b591732520ae2198572be8</td>\n",
       "    </tr>\n",
       "    <tr>\n",
       "      <th>3</th>\n",
       "      <td>Guganateeswara Temple</td>\n",
       "      <td>Temple</td>\n",
       "      <td>891</td>\n",
       "      <td>8.087151</td>\n",
       "      <td>77.548584</td>\n",
       "      <td>59361f0fd48ec1757c7d4ca4</td>\n",
       "    </tr>\n",
       "    <tr>\n",
       "      <th>0</th>\n",
       "      <td>St.Anthony's Church</td>\n",
       "      <td>Church</td>\n",
       "      <td>435</td>\n",
       "      <td>8.082916</td>\n",
       "      <td>77.551320</td>\n",
       "      <td>4db2dc880437fa536a056d3e</td>\n",
       "    </tr>\n",
       "    <tr>\n",
       "      <th>1</th>\n",
       "      <td>Our Lady Of Ransom Church</td>\n",
       "      <td>Church</td>\n",
       "      <td>680</td>\n",
       "      <td>8.085158</td>\n",
       "      <td>77.551544</td>\n",
       "      <td>4edb6b300e011b46ef9c3af5</td>\n",
       "    </tr>\n",
       "    <tr>\n",
       "      <th>0</th>\n",
       "      <td>Triangle Park</td>\n",
       "      <td>Park</td>\n",
       "      <td>8</td>\n",
       "      <td>8.079332</td>\n",
       "      <td>77.549930</td>\n",
       "      <td>5a17c667f96b2c105e79a65e</td>\n",
       "    </tr>\n",
       "    <tr>\n",
       "      <th>1</th>\n",
       "      <td>Hotel Melody Park</td>\n",
       "      <td>Hotel</td>\n",
       "      <td>482</td>\n",
       "      <td>8.083571</td>\n",
       "      <td>77.549568</td>\n",
       "      <td>52fbace0498e429e952167c7</td>\n",
       "    </tr>\n",
       "  </tbody>\n",
       "</table>\n",
       "</div>"
      ],
      "text/plain": [
       "                        name categories  distance       lat        lng  \\\n",
       "0       Bhagwati Aman Temple     Temple       127  8.079735  77.550979   \n",
       "1         Kanyakumari Temple     Temple       209  8.080701  77.551147   \n",
       "2          hotel Temple Citi      Hotel       448  8.083273  77.549709   \n",
       "3      Guganateeswara Temple     Temple       891  8.087151  77.548584   \n",
       "0        St.Anthony's Church     Church       435  8.082916  77.551320   \n",
       "1  Our Lady Of Ransom Church     Church       680  8.085158  77.551544   \n",
       "0              Triangle Park       Park         8  8.079332  77.549930   \n",
       "1          Hotel Melody Park      Hotel       482  8.083571  77.549568   \n",
       "\n",
       "                         id  \n",
       "0  4c7110d8d7fab1f7733e60c9  \n",
       "1  5135e0ace4b05b6ad7b6e450  \n",
       "2  58b591732520ae2198572be8  \n",
       "3  59361f0fd48ec1757c7d4ca4  \n",
       "0  4db2dc880437fa536a056d3e  \n",
       "1  4edb6b300e011b46ef9c3af5  \n",
       "0  5a17c667f96b2c105e79a65e  \n",
       "1  52fbace0498e429e952167c7  "
      ]
     },
     "execution_count": 27,
     "metadata": {},
     "output_type": "execute_result"
    }
   ],
   "source": [
    "# search query function\n",
    "search_query_list = ['temple','church','park','museum'] \n",
    "radius =1000\n",
    "temp_df=[]\n",
    "search_df=[]\n",
    "\n",
    "def search_query_fn():   \n",
    "    #Loop to run through urls and from json to pandas\n",
    "    for i in range(len(search_query_list)):\n",
    "        url= 'https://api.foursquare.com/v2/venues/search?client_id={}&client_secret={}&ll={},{}&v={}&query={}&radius={}&limit={}'.format(CLIENT_ID, CLIENT_SECRET, latitude, longitude, VERSION, search_query_list[i], radius, LIMIT)\n",
    "        \n",
    "        results=requests.get(url).json()\n",
    "        venues = results['response']['venues']\n",
    "        \n",
    "        #Normalize from json\n",
    "        dataframe = json_normalize(venues)\n",
    "        \n",
    "        #Removing unwanted column headers\n",
    "        dataframe.columns = [col.split('.')[-1] for col in dataframe.columns]\n",
    "        temp_df.append(dataframe)\n",
    "    \n",
    "    #Loop to append dataframes to single dataframe\n",
    "    for j in range(len(search_query_list)):\n",
    "        data=temp_df[j]\n",
    "        search_df.append(data)\n",
    "\n",
    "# Function to run loop over queries\n",
    "search_query_fn()\n",
    "\n",
    "search_df = pd.concat(search_df,sort=True)\n",
    "search_df['categories'] = search_df.apply(get_category_type, axis=1)\n",
    "search_df = pd.DataFrame(search_df[['name','categories','distance','lat','lng','id']])\n",
    "search_df"
   ]
  },
  {
   "cell_type": "markdown",
   "metadata": {},
   "source": [
    "__We will collate venues provided by foursquare and the ones extracted through hitting search query API__"
   ]
  },
  {
   "cell_type": "code",
   "execution_count": 28,
   "metadata": {
    "collapsed": true
   },
   "outputs": [],
   "source": [
    "# Data extracted from foursquare venues\n",
    "four_sq_venue=pd.DataFrame(dataframe_filtered_venues[['name','categories','distance','lat','lng','id']])\n",
    "\n",
    "# Data extracted from search queries\n",
    "new_venues=pd.DataFrame(search_df)\n",
    "\n",
    "# Concatenate both dataframe\n",
    "df_venue=pd.concat([four_sq_venue, new_venues],sort=True)"
   ]
  },
  {
   "cell_type": "markdown",
   "metadata": {},
   "source": [
    "__Let us remove hotel & restaurants and get final list of venues.__\n",
    "\n",
    "We could see that there are some hotels/restaurants in the venues list.So we will remove them from the list.We have them in separate dataframe (hotels_df)."
   ]
  },
  {
   "cell_type": "code",
   "execution_count": 29,
   "metadata": {},
   "outputs": [
    {
     "name": "stdout",
     "output_type": "stream",
     "text": [
      "There are 17 venues in kanyakumari\n"
     ]
    },
    {
     "data": {
      "text/html": [
       "<div>\n",
       "<style scoped>\n",
       "    .dataframe tbody tr th:only-of-type {\n",
       "        vertical-align: middle;\n",
       "    }\n",
       "\n",
       "    .dataframe tbody tr th {\n",
       "        vertical-align: top;\n",
       "    }\n",
       "\n",
       "    .dataframe thead th {\n",
       "        text-align: right;\n",
       "    }\n",
       "</style>\n",
       "<table border=\"1\" class=\"dataframe\">\n",
       "  <thead>\n",
       "    <tr style=\"text-align: right;\">\n",
       "      <th></th>\n",
       "      <th>name</th>\n",
       "      <th>distance</th>\n",
       "      <th>id</th>\n",
       "    </tr>\n",
       "  </thead>\n",
       "  <tbody>\n",
       "    <tr>\n",
       "      <th>0</th>\n",
       "      <td>Sunrise Point</td>\n",
       "      <td>135</td>\n",
       "      <td>4f21fd64e4b0717a65eeddc3</td>\n",
       "    </tr>\n",
       "    <tr>\n",
       "      <th>1</th>\n",
       "      <td>Vivekananda Rock Memorial</td>\n",
       "      <td>312</td>\n",
       "      <td>4b9cbc7ef964a520e37836e3</td>\n",
       "    </tr>\n",
       "    <tr>\n",
       "      <th>2</th>\n",
       "      <td>End of the Land</td>\n",
       "      <td>148</td>\n",
       "      <td>4f22babfe4b0ed339695e61e</td>\n",
       "    </tr>\n",
       "    <tr>\n",
       "      <th>3</th>\n",
       "      <td>Kanyakumari Beach</td>\n",
       "      <td>10</td>\n",
       "      <td>4e8d9f944fc653e47d1afef1</td>\n",
       "    </tr>\n",
       "    <tr>\n",
       "      <th>4</th>\n",
       "      <td>Triveni Sangam</td>\n",
       "      <td>277</td>\n",
       "      <td>4eb57ae40cd688257829927c</td>\n",
       "    </tr>\n",
       "    <tr>\n",
       "      <th>5</th>\n",
       "      <td>Thiruvalluvar Statue</td>\n",
       "      <td>147</td>\n",
       "      <td>4ed9ed9530f83fb79c10cd14</td>\n",
       "    </tr>\n",
       "    <tr>\n",
       "      <th>6</th>\n",
       "      <td>Gandhi Memorial</td>\n",
       "      <td>26</td>\n",
       "      <td>4e8d8fc94fc653e47d19524a</td>\n",
       "    </tr>\n",
       "    <tr>\n",
       "      <th>7</th>\n",
       "      <td>Ferry Boat</td>\n",
       "      <td>259</td>\n",
       "      <td>4c71df7857b6a1436f4ec4cc</td>\n",
       "    </tr>\n",
       "    <tr>\n",
       "      <th>8</th>\n",
       "      <td>Kanyakumari Lighthouse</td>\n",
       "      <td>417</td>\n",
       "      <td>4c711c4334443704e6f5255f</td>\n",
       "    </tr>\n",
       "    <tr>\n",
       "      <th>9</th>\n",
       "      <td>Kanyakumari Bus Stantion</td>\n",
       "      <td>465</td>\n",
       "      <td>4edc1b4846907c1b44ba0ed8</td>\n",
       "    </tr>\n",
       "    <tr>\n",
       "      <th>10</th>\n",
       "      <td>Thiruvalluvar Mandapam</td>\n",
       "      <td>466</td>\n",
       "      <td>4cc0142397bc721ec6178967</td>\n",
       "    </tr>\n",
       "    <tr>\n",
       "      <th>11</th>\n",
       "      <td>Bhagwati Aman Temple</td>\n",
       "      <td>127</td>\n",
       "      <td>4c7110d8d7fab1f7733e60c9</td>\n",
       "    </tr>\n",
       "    <tr>\n",
       "      <th>12</th>\n",
       "      <td>Kanyakumari Temple</td>\n",
       "      <td>209</td>\n",
       "      <td>5135e0ace4b05b6ad7b6e450</td>\n",
       "    </tr>\n",
       "    <tr>\n",
       "      <th>13</th>\n",
       "      <td>Guganateeswara Temple</td>\n",
       "      <td>891</td>\n",
       "      <td>59361f0fd48ec1757c7d4ca4</td>\n",
       "    </tr>\n",
       "    <tr>\n",
       "      <th>14</th>\n",
       "      <td>St.Anthony's Church</td>\n",
       "      <td>435</td>\n",
       "      <td>4db2dc880437fa536a056d3e</td>\n",
       "    </tr>\n",
       "    <tr>\n",
       "      <th>15</th>\n",
       "      <td>Our Lady Of Ransom Church</td>\n",
       "      <td>680</td>\n",
       "      <td>4edb6b300e011b46ef9c3af5</td>\n",
       "    </tr>\n",
       "    <tr>\n",
       "      <th>16</th>\n",
       "      <td>Triangle Park</td>\n",
       "      <td>8</td>\n",
       "      <td>5a17c667f96b2c105e79a65e</td>\n",
       "    </tr>\n",
       "  </tbody>\n",
       "</table>\n",
       "</div>"
      ],
      "text/plain": [
       "                         name  distance                        id\n",
       "0               Sunrise Point       135  4f21fd64e4b0717a65eeddc3\n",
       "1   Vivekananda Rock Memorial       312  4b9cbc7ef964a520e37836e3\n",
       "2             End of the Land       148  4f22babfe4b0ed339695e61e\n",
       "3           Kanyakumari Beach        10  4e8d9f944fc653e47d1afef1\n",
       "4              Triveni Sangam       277  4eb57ae40cd688257829927c\n",
       "5        Thiruvalluvar Statue       147  4ed9ed9530f83fb79c10cd14\n",
       "6             Gandhi Memorial        26  4e8d8fc94fc653e47d19524a\n",
       "7                  Ferry Boat       259  4c71df7857b6a1436f4ec4cc\n",
       "8      Kanyakumari Lighthouse       417  4c711c4334443704e6f5255f\n",
       "9    Kanyakumari Bus Stantion       465  4edc1b4846907c1b44ba0ed8\n",
       "10     Thiruvalluvar Mandapam       466  4cc0142397bc721ec6178967\n",
       "11       Bhagwati Aman Temple       127  4c7110d8d7fab1f7733e60c9\n",
       "12         Kanyakumari Temple       209  5135e0ace4b05b6ad7b6e450\n",
       "13      Guganateeswara Temple       891  59361f0fd48ec1757c7d4ca4\n",
       "14        St.Anthony's Church       435  4db2dc880437fa536a056d3e\n",
       "15  Our Lady Of Ransom Church       680  4edb6b300e011b46ef9c3af5\n",
       "16              Triangle Park         8  5a17c667f96b2c105e79a65e"
      ]
     },
     "execution_count": 29,
     "metadata": {},
     "output_type": "execute_result"
    }
   ],
   "source": [
    "to_drop = ['Hotel', 'Restautant','hotel','Resort']\n",
    "df_venues = df_venue[~df_venue['name'].str.contains('|'.join(to_drop))].reset_index()\n",
    "print(\"There are {} venues in kanyakumari\".format(df_venues.shape[0]))\n",
    "df_venues[['name','distance','id']]"
   ]
  },
  {
   "cell_type": "markdown",
   "metadata": {},
   "source": [
    "### 3.e Location of all venues"
   ]
  },
  {
   "cell_type": "code",
   "execution_count": 30,
   "metadata": {},
   "outputs": [
    {
     "data": {
      "text/html": [
       "<div style=\"width:100%;\"><div style=\"position:relative;width:100%;height:0;padding-bottom:60%;\"><span style=\"color:#565656\">Make this Notebook Trusted to load map: File -> Trust Notebook</span><iframe src=\"about:blank\" style=\"position:absolute;width:100%;height:100%;left:0;top:0;border:none !important;\" data-html=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 onload=\"this.contentDocument.open();this.contentDocument.write(atob(this.getAttribute('data-html')));this.contentDocument.close();\" allowfullscreen webkitallowfullscreen mozallowfullscreen></iframe></div></div>"
      ],
      "text/plain": [
       "<folium.folium.Map at 0x7fdb688d20b8>"
      ]
     },
     "execution_count": 30,
     "metadata": {},
     "output_type": "execute_result"
    }
   ],
   "source": [
    "venues_map = folium.Map(location=[latitude, longitude], zoom_start=16) # generate map centred around the Conrad Hotel\n",
    "\n",
    "# add a red circle marker to represent the Kanyakumari\n",
    "folium.features.CircleMarker(\n",
    "    [latitude, longitude],\n",
    "    radius=10,\n",
    "    color='red',\n",
    "    popup='kanyakumari',\n",
    "    fill = True,\n",
    "    fill_color = 'red',\n",
    "    fill_opacity = 0.6\n",
    ").add_to(venues_map)\n",
    "\n",
    "# add the Italian restaurants as blue circle markers\n",
    "for lat, lng, label in zip(df_venues.lat, df_venues.lng, df_venues.name):\n",
    "    folium.features.CircleMarker(\n",
    "        [lat, lng],\n",
    "        radius=5,\n",
    "        color='black',\n",
    "        #popup=label,\n",
    "        fill = True,\n",
    "        fill_color='black',\n",
    "        fill_opacity=0.6\n",
    "    ).add_to(venues_map)\n",
    "\n",
    "# display map\n",
    "venues_map"
   ]
  },
  {
   "cell_type": "markdown",
   "metadata": {},
   "source": [
    "\n",
    "All venues seems to be dispersed except seashore areas.\n",
    "\n",
    "We have listed out number of hotels and venues around kanyakumari.There are 39 Hotels/Restaurant and 17 Venues.\n",
    "\n",
    "### 3.f How far are venues from the core location?"
   ]
  },
  {
   "cell_type": "code",
   "execution_count": 32,
   "metadata": {},
   "outputs": [
    {
     "data": {
      "image/png": "[encoded data removed]",
      "text/plain": [
       "<Figure size 432x288 with 1 Axes>"
      ]
     },
     "metadata": {
      "needs_background": "light"
     },
     "output_type": "display_data"
    }
   ],
   "source": [
    "distance_venues_df=df_venues.sort_values('distance')\n",
    "\n",
    "def plot_bar_venue():\n",
    "    # this is for plotting purpose\n",
    "    index = np.arange(len(distance_venues_df.name))\n",
    "    plt.bar(distance_venues_df.name, distance_venues_df.distance)\n",
    "    plt.xlabel('Venues')\n",
    "    plt.ylabel('Distance from location (Metres)')\n",
    "    plt.xticks(distance_venues_df.name,rotation=90)\n",
    "    plt.title('Famous Venues Vs Distance')\n",
    "    plt.show()\n",
    "plot_bar_venue()"
   ]
  },
  {
   "cell_type": "markdown",
   "metadata": {},
   "source": [
    "__Few Take Aways__\n",
    "\n",
    "We could see Kanyakumari beach,Gandhi Memorial,Triangle Park are more closer to our location.\n",
    "\n",
    "Guganateswara temple is far than rest of places.\n",
    "\n",
    "Bus station is also an important venue which is 465 metres from our location\n",
    "\n",
    "### 3.g Venue Categories"
   ]
  },
  {
   "cell_type": "code",
   "execution_count": 33,
   "metadata": {},
   "outputs": [
    {
     "data": {
      "image/png": "[encoded data removed]",
      "text/plain": [
       "<Figure size 432x288 with 1 Axes>"
      ]
     },
     "metadata": {
      "needs_background": "light"
     },
     "output_type": "display_data"
    }
   ],
   "source": [
    "freq_venue=df_venues['categories'].value_counts()\n",
    "freq_venue=pd.DataFrame(freq_venue).reset_index()\n",
    "freq_venue.columns=['Category','Count']\n",
    "freq_venue\n",
    "\n",
    "def plot_bar_categ():\n",
    "    # this is for plotting purpose\n",
    "    index = np.arange(len(freq_venue.Category))\n",
    "    plt.bar(freq_venue.Category, freq_venue.Count)\n",
    "    plt.xlabel('Category')\n",
    "    plt.ylabel('Count')\n",
    "    plt.xticks(freq_venue.Category,rotation=90)\n",
    "    plt.title('Venue Categories')\n",
    "    plt.show()\n",
    "plot_bar_categ()"
   ]
  },
  {
   "cell_type": "markdown",
   "metadata": {},
   "source": [
    "Eventhough we didnt have immense data to consider distribution of categories we could see that __Temple, Beach, Sculpture Garden, Historic sites and Church__ are more common venues.\n",
    "\n",
    "### 3.h Rating of all Venues"
   ]
  },
  {
   "cell_type": "code",
   "execution_count": 34,
   "metadata": {
    "collapsed": true
   },
   "outputs": [],
   "source": [
    "#Rating of venues\n",
    "rating_df=[]\n",
    "\n",
    "for k in range(df_venues.shape[0]):\n",
    "    venue_id=df_venues.id[k]\n",
    "    url = 'https://api.foursquare.com/v2/venues/{}?client_id={}&client_secret={}&v={}'.format(venue_id, CLIENT_ID, CLIENT_SECRET, VERSION)\n",
    "    result = requests.get(url).json()\n",
    "    #print(result)\n",
    "    try:\n",
    "        #print(df_venues.name[k],result['response']['venue']['rating'])\n",
    "        rating=result['response']['venue']['rating']\n",
    "        rating_df.append(rating)\n",
    "        \n",
    "    except:\n",
    "        #print(df_venues.name[k],'This venue has not been rated yet.')\n",
    "        rating='No Rating Yet'\n",
    "        rating_df.append(rating)"
   ]
  },
  {
   "cell_type": "code",
   "execution_count": 35,
   "metadata": {},
   "outputs": [
    {
     "data": {
      "text/html": [
       "<div>\n",
       "<style scoped>\n",
       "    .dataframe tbody tr th:only-of-type {\n",
       "        vertical-align: middle;\n",
       "    }\n",
       "\n",
       "    .dataframe tbody tr th {\n",
       "        vertical-align: top;\n",
       "    }\n",
       "\n",
       "    .dataframe thead th {\n",
       "        text-align: right;\n",
       "    }\n",
       "</style>\n",
       "<table border=\"1\" class=\"dataframe\">\n",
       "  <thead>\n",
       "    <tr style=\"text-align: right;\">\n",
       "      <th></th>\n",
       "      <th>Venue</th>\n",
       "      <th>Rating</th>\n",
       "      <th>distance</th>\n",
       "    </tr>\n",
       "  </thead>\n",
       "  <tbody>\n",
       "    <tr>\n",
       "      <th>0</th>\n",
       "      <td>Sunrise Point</td>\n",
       "      <td>7.9</td>\n",
       "      <td>135</td>\n",
       "    </tr>\n",
       "    <tr>\n",
       "      <th>1</th>\n",
       "      <td>Vivekananda Rock Memorial</td>\n",
       "      <td>8</td>\n",
       "      <td>312</td>\n",
       "    </tr>\n",
       "    <tr>\n",
       "      <th>2</th>\n",
       "      <td>End of the Land</td>\n",
       "      <td>7.5</td>\n",
       "      <td>148</td>\n",
       "    </tr>\n",
       "    <tr>\n",
       "      <th>3</th>\n",
       "      <td>Kanyakumari Beach</td>\n",
       "      <td>7.1</td>\n",
       "      <td>10</td>\n",
       "    </tr>\n",
       "    <tr>\n",
       "      <th>4</th>\n",
       "      <td>Triveni Sangam</td>\n",
       "      <td>6.9</td>\n",
       "      <td>277</td>\n",
       "    </tr>\n",
       "    <tr>\n",
       "      <th>5</th>\n",
       "      <td>Thiruvalluvar Statue</td>\n",
       "      <td>No Rating Yet</td>\n",
       "      <td>147</td>\n",
       "    </tr>\n",
       "    <tr>\n",
       "      <th>6</th>\n",
       "      <td>Gandhi Memorial</td>\n",
       "      <td>5.5</td>\n",
       "      <td>26</td>\n",
       "    </tr>\n",
       "    <tr>\n",
       "      <th>7</th>\n",
       "      <td>Ferry Boat</td>\n",
       "      <td>No Rating Yet</td>\n",
       "      <td>259</td>\n",
       "    </tr>\n",
       "    <tr>\n",
       "      <th>8</th>\n",
       "      <td>Kanyakumari Lighthouse</td>\n",
       "      <td>No Rating Yet</td>\n",
       "      <td>417</td>\n",
       "    </tr>\n",
       "    <tr>\n",
       "      <th>9</th>\n",
       "      <td>Kanyakumari Bus Stantion</td>\n",
       "      <td>No Rating Yet</td>\n",
       "      <td>465</td>\n",
       "    </tr>\n",
       "    <tr>\n",
       "      <th>10</th>\n",
       "      <td>Thiruvalluvar Mandapam</td>\n",
       "      <td>No Rating Yet</td>\n",
       "      <td>466</td>\n",
       "    </tr>\n",
       "    <tr>\n",
       "      <th>11</th>\n",
       "      <td>Bhagwati Aman Temple</td>\n",
       "      <td>No Rating Yet</td>\n",
       "      <td>127</td>\n",
       "    </tr>\n",
       "    <tr>\n",
       "      <th>12</th>\n",
       "      <td>Kanyakumari Temple</td>\n",
       "      <td>No Rating Yet</td>\n",
       "      <td>209</td>\n",
       "    </tr>\n",
       "    <tr>\n",
       "      <th>13</th>\n",
       "      <td>Guganateeswara Temple</td>\n",
       "      <td>No Rating Yet</td>\n",
       "      <td>891</td>\n",
       "    </tr>\n",
       "    <tr>\n",
       "      <th>14</th>\n",
       "      <td>St.Anthony's Church</td>\n",
       "      <td>No Rating Yet</td>\n",
       "      <td>435</td>\n",
       "    </tr>\n",
       "    <tr>\n",
       "      <th>15</th>\n",
       "      <td>Our Lady Of Ransom Church</td>\n",
       "      <td>No Rating Yet</td>\n",
       "      <td>680</td>\n",
       "    </tr>\n",
       "    <tr>\n",
       "      <th>16</th>\n",
       "      <td>Triangle Park</td>\n",
       "      <td>No Rating Yet</td>\n",
       "      <td>8</td>\n",
       "    </tr>\n",
       "  </tbody>\n",
       "</table>\n",
       "</div>"
      ],
      "text/plain": [
       "                        Venue         Rating  distance\n",
       "0               Sunrise Point            7.9       135\n",
       "1   Vivekananda Rock Memorial              8       312\n",
       "2             End of the Land            7.5       148\n",
       "3           Kanyakumari Beach            7.1        10\n",
       "4              Triveni Sangam            6.9       277\n",
       "5        Thiruvalluvar Statue  No Rating Yet       147\n",
       "6             Gandhi Memorial            5.5        26\n",
       "7                  Ferry Boat  No Rating Yet       259\n",
       "8      Kanyakumari Lighthouse  No Rating Yet       417\n",
       "9    Kanyakumari Bus Stantion  No Rating Yet       465\n",
       "10     Thiruvalluvar Mandapam  No Rating Yet       466\n",
       "11       Bhagwati Aman Temple  No Rating Yet       127\n",
       "12         Kanyakumari Temple  No Rating Yet       209\n",
       "13      Guganateeswara Temple  No Rating Yet       891\n",
       "14        St.Anthony's Church  No Rating Yet       435\n",
       "15  Our Lady Of Ransom Church  No Rating Yet       680\n",
       "16              Triangle Park  No Rating Yet         8"
      ]
     },
     "execution_count": 35,
     "metadata": {},
     "output_type": "execute_result"
    }
   ],
   "source": [
    "rate_dict = {'Venue': df_venues.name, 'Rating': rating_df,'distance':df_venues.distance}\n",
    "rate_df=pd.DataFrame(rate_dict)\n",
    "rate_df"
   ]
  },
  {
   "cell_type": "markdown",
   "metadata": {},
   "source": [
    "### 3.i Number of Tips for all Venues"
   ]
  },
  {
   "cell_type": "code",
   "execution_count": 36,
   "metadata": {
    "collapsed": true
   },
   "outputs": [],
   "source": [
    "tips_df=[]\n",
    "\n",
    "for k in range(df_venues.shape[0]):\n",
    "    venue_id=df_venues.id[k]\n",
    "    url = 'https://api.foursquare.com/v2/venues/{}?client_id={}&client_secret={}&v={}'.format(venue_id, CLIENT_ID, CLIENT_SECRET, VERSION)\n",
    "    result = requests.get(url).json()\n",
    "    \n",
    "    #print(result['response']['venue']['tips']['count'],result['response']['venue'])\n",
    "    tips=result['response']['venue']['tips']['count']\n",
    "    tips_df.append(tips)"
   ]
  },
  {
   "cell_type": "code",
   "execution_count": 37,
   "metadata": {},
   "outputs": [
    {
     "data": {
      "text/html": [
       "<div>\n",
       "<style scoped>\n",
       "    .dataframe tbody tr th:only-of-type {\n",
       "        vertical-align: middle;\n",
       "    }\n",
       "\n",
       "    .dataframe tbody tr th {\n",
       "        vertical-align: top;\n",
       "    }\n",
       "\n",
       "    .dataframe thead th {\n",
       "        text-align: right;\n",
       "    }\n",
       "</style>\n",
       "<table border=\"1\" class=\"dataframe\">\n",
       "  <thead>\n",
       "    <tr style=\"text-align: right;\">\n",
       "      <th></th>\n",
       "      <th>Venue</th>\n",
       "      <th>Tips</th>\n",
       "      <th>distance</th>\n",
       "    </tr>\n",
       "  </thead>\n",
       "  <tbody>\n",
       "    <tr>\n",
       "      <th>1</th>\n",
       "      <td>Vivekananda Rock Memorial</td>\n",
       "      <td>16</td>\n",
       "      <td>312</td>\n",
       "    </tr>\n",
       "    <tr>\n",
       "      <th>0</th>\n",
       "      <td>Sunrise Point</td>\n",
       "      <td>4</td>\n",
       "      <td>135</td>\n",
       "    </tr>\n",
       "    <tr>\n",
       "      <th>7</th>\n",
       "      <td>Ferry Boat</td>\n",
       "      <td>4</td>\n",
       "      <td>259</td>\n",
       "    </tr>\n",
       "    <tr>\n",
       "      <th>3</th>\n",
       "      <td>Kanyakumari Beach</td>\n",
       "      <td>3</td>\n",
       "      <td>10</td>\n",
       "    </tr>\n",
       "    <tr>\n",
       "      <th>2</th>\n",
       "      <td>End of the Land</td>\n",
       "      <td>2</td>\n",
       "      <td>148</td>\n",
       "    </tr>\n",
       "    <tr>\n",
       "      <th>6</th>\n",
       "      <td>Gandhi Memorial</td>\n",
       "      <td>2</td>\n",
       "      <td>26</td>\n",
       "    </tr>\n",
       "    <tr>\n",
       "      <th>9</th>\n",
       "      <td>Kanyakumari Bus Stantion</td>\n",
       "      <td>1</td>\n",
       "      <td>465</td>\n",
       "    </tr>\n",
       "    <tr>\n",
       "      <th>8</th>\n",
       "      <td>Kanyakumari Lighthouse</td>\n",
       "      <td>1</td>\n",
       "      <td>417</td>\n",
       "    </tr>\n",
       "    <tr>\n",
       "      <th>4</th>\n",
       "      <td>Triveni Sangam</td>\n",
       "      <td>1</td>\n",
       "      <td>277</td>\n",
       "    </tr>\n",
       "    <tr>\n",
       "      <th>5</th>\n",
       "      <td>Thiruvalluvar Statue</td>\n",
       "      <td>0</td>\n",
       "      <td>147</td>\n",
       "    </tr>\n",
       "    <tr>\n",
       "      <th>10</th>\n",
       "      <td>Thiruvalluvar Mandapam</td>\n",
       "      <td>0</td>\n",
       "      <td>466</td>\n",
       "    </tr>\n",
       "    <tr>\n",
       "      <th>11</th>\n",
       "      <td>Bhagwati Aman Temple</td>\n",
       "      <td>0</td>\n",
       "      <td>127</td>\n",
       "    </tr>\n",
       "    <tr>\n",
       "      <th>12</th>\n",
       "      <td>Kanyakumari Temple</td>\n",
       "      <td>0</td>\n",
       "      <td>209</td>\n",
       "    </tr>\n",
       "    <tr>\n",
       "      <th>13</th>\n",
       "      <td>Guganateeswara Temple</td>\n",
       "      <td>0</td>\n",
       "      <td>891</td>\n",
       "    </tr>\n",
       "    <tr>\n",
       "      <th>14</th>\n",
       "      <td>St.Anthony's Church</td>\n",
       "      <td>0</td>\n",
       "      <td>435</td>\n",
       "    </tr>\n",
       "    <tr>\n",
       "      <th>15</th>\n",
       "      <td>Our Lady Of Ransom Church</td>\n",
       "      <td>0</td>\n",
       "      <td>680</td>\n",
       "    </tr>\n",
       "    <tr>\n",
       "      <th>16</th>\n",
       "      <td>Triangle Park</td>\n",
       "      <td>0</td>\n",
       "      <td>8</td>\n",
       "    </tr>\n",
       "  </tbody>\n",
       "</table>\n",
       "</div>"
      ],
      "text/plain": [
       "                        Venue  Tips  distance\n",
       "1   Vivekananda Rock Memorial    16       312\n",
       "0               Sunrise Point     4       135\n",
       "7                  Ferry Boat     4       259\n",
       "3           Kanyakumari Beach     3        10\n",
       "2             End of the Land     2       148\n",
       "6             Gandhi Memorial     2        26\n",
       "9    Kanyakumari Bus Stantion     1       465\n",
       "8      Kanyakumari Lighthouse     1       417\n",
       "4              Triveni Sangam     1       277\n",
       "5        Thiruvalluvar Statue     0       147\n",
       "10     Thiruvalluvar Mandapam     0       466\n",
       "11       Bhagwati Aman Temple     0       127\n",
       "12         Kanyakumari Temple     0       209\n",
       "13      Guganateeswara Temple     0       891\n",
       "14        St.Anthony's Church     0       435\n",
       "15  Our Lady Of Ransom Church     0       680\n",
       "16              Triangle Park     0         8"
      ]
     },
     "execution_count": 37,
     "metadata": {},
     "output_type": "execute_result"
    }
   ],
   "source": [
    "tips_dict = {'Venue': df_venues.name, 'Tips': tips_df,'distance':df_venues.distance}\n",
    "tips=pd.DataFrame(tips_dict)\n",
    "tips=tips.sort_values('Tips',ascending = False)\n",
    "tips"
   ]
  },
  {
   "cell_type": "markdown",
   "metadata": {},
   "source": [
    "### 3.j Extracting Rated and Tips Venues"
   ]
  },
  {
   "cell_type": "code",
   "execution_count": 38,
   "metadata": {},
   "outputs": [
    {
     "data": {
      "text/html": [
       "<div>\n",
       "<style scoped>\n",
       "    .dataframe tbody tr th:only-of-type {\n",
       "        vertical-align: middle;\n",
       "    }\n",
       "\n",
       "    .dataframe tbody tr th {\n",
       "        vertical-align: top;\n",
       "    }\n",
       "\n",
       "    .dataframe thead th {\n",
       "        text-align: right;\n",
       "    }\n",
       "</style>\n",
       "<table border=\"1\" class=\"dataframe\">\n",
       "  <thead>\n",
       "    <tr style=\"text-align: right;\">\n",
       "      <th></th>\n",
       "      <th>Venue</th>\n",
       "      <th>Rating</th>\n",
       "      <th>distance</th>\n",
       "      <th>Tips</th>\n",
       "    </tr>\n",
       "  </thead>\n",
       "  <tbody>\n",
       "    <tr>\n",
       "      <th>0</th>\n",
       "      <td>Sunrise Point</td>\n",
       "      <td>7.9</td>\n",
       "      <td>135</td>\n",
       "      <td>4</td>\n",
       "    </tr>\n",
       "    <tr>\n",
       "      <th>1</th>\n",
       "      <td>Vivekananda Rock Memorial</td>\n",
       "      <td>8</td>\n",
       "      <td>312</td>\n",
       "      <td>16</td>\n",
       "    </tr>\n",
       "    <tr>\n",
       "      <th>2</th>\n",
       "      <td>End of the Land</td>\n",
       "      <td>7.5</td>\n",
       "      <td>148</td>\n",
       "      <td>2</td>\n",
       "    </tr>\n",
       "    <tr>\n",
       "      <th>3</th>\n",
       "      <td>Kanyakumari Beach</td>\n",
       "      <td>7.1</td>\n",
       "      <td>10</td>\n",
       "      <td>3</td>\n",
       "    </tr>\n",
       "    <tr>\n",
       "      <th>4</th>\n",
       "      <td>Triveni Sangam</td>\n",
       "      <td>6.9</td>\n",
       "      <td>277</td>\n",
       "      <td>1</td>\n",
       "    </tr>\n",
       "    <tr>\n",
       "      <th>5</th>\n",
       "      <td>Gandhi Memorial</td>\n",
       "      <td>5.5</td>\n",
       "      <td>26</td>\n",
       "      <td>2</td>\n",
       "    </tr>\n",
       "    <tr>\n",
       "      <th>6</th>\n",
       "      <td>Ferry Boat</td>\n",
       "      <td>No Rating Yet</td>\n",
       "      <td>259</td>\n",
       "      <td>4</td>\n",
       "    </tr>\n",
       "    <tr>\n",
       "      <th>7</th>\n",
       "      <td>Kanyakumari Lighthouse</td>\n",
       "      <td>No Rating Yet</td>\n",
       "      <td>417</td>\n",
       "      <td>1</td>\n",
       "    </tr>\n",
       "    <tr>\n",
       "      <th>8</th>\n",
       "      <td>Kanyakumari Bus Stantion</td>\n",
       "      <td>No Rating Yet</td>\n",
       "      <td>465</td>\n",
       "      <td>1</td>\n",
       "    </tr>\n",
       "  </tbody>\n",
       "</table>\n",
       "</div>"
      ],
      "text/plain": [
       "                       Venue         Rating  distance  Tips\n",
       "0              Sunrise Point            7.9       135     4\n",
       "1  Vivekananda Rock Memorial              8       312    16\n",
       "2            End of the Land            7.5       148     2\n",
       "3          Kanyakumari Beach            7.1        10     3\n",
       "4             Triveni Sangam            6.9       277     1\n",
       "5            Gandhi Memorial            5.5        26     2\n",
       "6                 Ferry Boat  No Rating Yet       259     4\n",
       "7     Kanyakumari Lighthouse  No Rating Yet       417     1\n",
       "8   Kanyakumari Bus Stantion  No Rating Yet       465     1"
      ]
     },
     "execution_count": 38,
     "metadata": {},
     "output_type": "execute_result"
    }
   ],
   "source": [
    "# Add Tips column to Rating Dataframe\n",
    "rate_df['Tips']=tips['Tips']\n",
    "\n",
    "#Lets take values of only rated venues\n",
    "only_rated_tips = rate_df[(rate_df['Rating']!='No Rating Yet') | (rate_df['Tips']!=0)]\n",
    "\n",
    "only_rated_tips.reset_index(inplace = True,drop = True) \n",
    "only_rated_tips"
   ]
  },
  {
   "cell_type": "markdown",
   "metadata": {},
   "source": [
    "### 3.k Final list of Venues"
   ]
  },
  {
   "cell_type": "code",
   "execution_count": 39,
   "metadata": {},
   "outputs": [
    {
     "data": {
      "text/html": [
       "<div>\n",
       "<style scoped>\n",
       "    .dataframe tbody tr th:only-of-type {\n",
       "        vertical-align: middle;\n",
       "    }\n",
       "\n",
       "    .dataframe tbody tr th {\n",
       "        vertical-align: top;\n",
       "    }\n",
       "\n",
       "    .dataframe thead th {\n",
       "        text-align: right;\n",
       "    }\n",
       "</style>\n",
       "<table border=\"1\" class=\"dataframe\">\n",
       "  <thead>\n",
       "    <tr style=\"text-align: right;\">\n",
       "      <th></th>\n",
       "      <th>index</th>\n",
       "      <th>categories</th>\n",
       "      <th>distance</th>\n",
       "      <th>id</th>\n",
       "      <th>lat</th>\n",
       "      <th>lng</th>\n",
       "      <th>name</th>\n",
       "    </tr>\n",
       "  </thead>\n",
       "  <tbody>\n",
       "    <tr>\n",
       "      <th>0</th>\n",
       "      <td>0</td>\n",
       "      <td>Beach</td>\n",
       "      <td>135</td>\n",
       "      <td>4f21fd64e4b0717a65eeddc3</td>\n",
       "      <td>8.079398</td>\n",
       "      <td>77.551158</td>\n",
       "      <td>Sunrise Point</td>\n",
       "    </tr>\n",
       "    <tr>\n",
       "      <th>1</th>\n",
       "      <td>1</td>\n",
       "      <td>Sculpture Garden</td>\n",
       "      <td>312</td>\n",
       "      <td>4b9cbc7ef964a520e37836e3</td>\n",
       "      <td>8.080707</td>\n",
       "      <td>77.552362</td>\n",
       "      <td>Vivekananda Rock Memorial</td>\n",
       "    </tr>\n",
       "    <tr>\n",
       "      <th>2</th>\n",
       "      <td>2</td>\n",
       "      <td>Arcade</td>\n",
       "      <td>148</td>\n",
       "      <td>4f22babfe4b0ed339695e61e</td>\n",
       "      <td>8.078479</td>\n",
       "      <td>77.551035</td>\n",
       "      <td>End of the Land</td>\n",
       "    </tr>\n",
       "    <tr>\n",
       "      <th>3</th>\n",
       "      <td>3</td>\n",
       "      <td>Beach</td>\n",
       "      <td>10</td>\n",
       "      <td>4e8d9f944fc653e47d1afef1</td>\n",
       "      <td>8.079311</td>\n",
       "      <td>77.550005</td>\n",
       "      <td>Kanyakumari Beach</td>\n",
       "    </tr>\n",
       "    <tr>\n",
       "      <th>4</th>\n",
       "      <td>4</td>\n",
       "      <td>Historic Site</td>\n",
       "      <td>277</td>\n",
       "      <td>4eb57ae40cd688257829927c</td>\n",
       "      <td>8.078860</td>\n",
       "      <td>77.547448</td>\n",
       "      <td>Triveni Sangam</td>\n",
       "    </tr>\n",
       "    <tr>\n",
       "      <th>5</th>\n",
       "      <td>10</td>\n",
       "      <td>Historic Site</td>\n",
       "      <td>26</td>\n",
       "      <td>4e8d8fc94fc653e47d19524a</td>\n",
       "      <td>8.079021</td>\n",
       "      <td>77.549976</td>\n",
       "      <td>Gandhi Memorial</td>\n",
       "    </tr>\n",
       "    <tr>\n",
       "      <th>6</th>\n",
       "      <td>11</td>\n",
       "      <td>Boat or Ferry</td>\n",
       "      <td>259</td>\n",
       "      <td>4c71df7857b6a1436f4ec4cc</td>\n",
       "      <td>8.080931</td>\n",
       "      <td>77.551561</td>\n",
       "      <td>Ferry Boat</td>\n",
       "    </tr>\n",
       "    <tr>\n",
       "      <th>7</th>\n",
       "      <td>12</td>\n",
       "      <td>Lighthouse</td>\n",
       "      <td>417</td>\n",
       "      <td>4c711c4334443704e6f5255f</td>\n",
       "      <td>8.081389</td>\n",
       "      <td>77.546820</td>\n",
       "      <td>Kanyakumari Lighthouse</td>\n",
       "    </tr>\n",
       "    <tr>\n",
       "      <th>8</th>\n",
       "      <td>14</td>\n",
       "      <td>Bus Station</td>\n",
       "      <td>465</td>\n",
       "      <td>4edc1b4846907c1b44ba0ed8</td>\n",
       "      <td>8.082652</td>\n",
       "      <td>77.547469</td>\n",
       "      <td>Kanyakumari Bus Stantion</td>\n",
       "    </tr>\n",
       "  </tbody>\n",
       "</table>\n",
       "</div>"
      ],
      "text/plain": [
       "   index        categories  distance                        id       lat  \\\n",
       "0      0             Beach       135  4f21fd64e4b0717a65eeddc3  8.079398   \n",
       "1      1  Sculpture Garden       312  4b9cbc7ef964a520e37836e3  8.080707   \n",
       "2      2            Arcade       148  4f22babfe4b0ed339695e61e  8.078479   \n",
       "3      3             Beach        10  4e8d9f944fc653e47d1afef1  8.079311   \n",
       "4      4     Historic Site       277  4eb57ae40cd688257829927c  8.078860   \n",
       "5     10     Historic Site        26  4e8d8fc94fc653e47d19524a  8.079021   \n",
       "6     11     Boat or Ferry       259  4c71df7857b6a1436f4ec4cc  8.080931   \n",
       "7     12        Lighthouse       417  4c711c4334443704e6f5255f  8.081389   \n",
       "8     14       Bus Station       465  4edc1b4846907c1b44ba0ed8  8.082652   \n",
       "\n",
       "         lng                       name  \n",
       "0  77.551158              Sunrise Point  \n",
       "1  77.552362  Vivekananda Rock Memorial  \n",
       "2  77.551035            End of the Land  \n",
       "3  77.550005          Kanyakumari Beach  \n",
       "4  77.547448             Triveni Sangam  \n",
       "5  77.549976            Gandhi Memorial  \n",
       "6  77.551561                 Ferry Boat  \n",
       "7  77.546820     Kanyakumari Lighthouse  \n",
       "8  77.547469   Kanyakumari Bus Stantion  "
      ]
     },
     "execution_count": 39,
     "metadata": {},
     "output_type": "execute_result"
    }
   ],
   "source": [
    "rated_list=[]\n",
    "for i in range(len(only_rated_tips)):\n",
    "    rated_tip_temp=only_rated_tips['Venue'][i]\n",
    "    rated_list.append(rated_tip_temp)\n",
    "\n",
    "#Masking all values present in list\n",
    "mask = df_venues['name'].isin(rated_list)\n",
    "\n",
    "final_venues = df_venues[mask]\n",
    "#final_venues['location']=final_venues['lat'].astype(str).str.cat(final_venues['lng'].astype(str), sep=' - ')\n",
    "final_venues.reset_index(inplace = True,drop = True) \n",
    "\n",
    "final_venues"
   ]
  },
  {
   "cell_type": "markdown",
   "metadata": {},
   "source": [
    "### 3.l Clustering based on venues\n",
    "Now lets do some prediction to locate our new hotel in centre of final list of venues."
   ]
  },
  {
   "cell_type": "code",
   "execution_count": 40,
   "metadata": {},
   "outputs": [
    {
     "data": {
      "text/html": [
       "<div>\n",
       "<style scoped>\n",
       "    .dataframe tbody tr th:only-of-type {\n",
       "        vertical-align: middle;\n",
       "    }\n",
       "\n",
       "    .dataframe tbody tr th {\n",
       "        vertical-align: top;\n",
       "    }\n",
       "\n",
       "    .dataframe thead th {\n",
       "        text-align: right;\n",
       "    }\n",
       "</style>\n",
       "<table border=\"1\" class=\"dataframe\">\n",
       "  <thead>\n",
       "    <tr style=\"text-align: right;\">\n",
       "      <th></th>\n",
       "      <th>name</th>\n",
       "      <th>Arcade</th>\n",
       "      <th>Beach</th>\n",
       "      <th>Boat or Ferry</th>\n",
       "      <th>Bus Station</th>\n",
       "      <th>Historic Site</th>\n",
       "      <th>Lighthouse</th>\n",
       "      <th>Sculpture Garden</th>\n",
       "    </tr>\n",
       "  </thead>\n",
       "  <tbody>\n",
       "    <tr>\n",
       "      <th>0</th>\n",
       "      <td>Sunrise Point</td>\n",
       "      <td>0</td>\n",
       "      <td>1</td>\n",
       "      <td>0</td>\n",
       "      <td>0</td>\n",
       "      <td>0</td>\n",
       "      <td>0</td>\n",
       "      <td>0</td>\n",
       "    </tr>\n",
       "    <tr>\n",
       "      <th>1</th>\n",
       "      <td>Vivekananda Rock Memorial</td>\n",
       "      <td>0</td>\n",
       "      <td>0</td>\n",
       "      <td>0</td>\n",
       "      <td>0</td>\n",
       "      <td>0</td>\n",
       "      <td>0</td>\n",
       "      <td>1</td>\n",
       "    </tr>\n",
       "    <tr>\n",
       "      <th>2</th>\n",
       "      <td>End of the Land</td>\n",
       "      <td>1</td>\n",
       "      <td>0</td>\n",
       "      <td>0</td>\n",
       "      <td>0</td>\n",
       "      <td>0</td>\n",
       "      <td>0</td>\n",
       "      <td>0</td>\n",
       "    </tr>\n",
       "    <tr>\n",
       "      <th>3</th>\n",
       "      <td>Kanyakumari Beach</td>\n",
       "      <td>0</td>\n",
       "      <td>1</td>\n",
       "      <td>0</td>\n",
       "      <td>0</td>\n",
       "      <td>0</td>\n",
       "      <td>0</td>\n",
       "      <td>0</td>\n",
       "    </tr>\n",
       "    <tr>\n",
       "      <th>4</th>\n",
       "      <td>Triveni Sangam</td>\n",
       "      <td>0</td>\n",
       "      <td>0</td>\n",
       "      <td>0</td>\n",
       "      <td>0</td>\n",
       "      <td>1</td>\n",
       "      <td>0</td>\n",
       "      <td>0</td>\n",
       "    </tr>\n",
       "  </tbody>\n",
       "</table>\n",
       "</div>"
      ],
      "text/plain": [
       "                        name  Arcade  Beach  Boat or Ferry  Bus Station  \\\n",
       "0              Sunrise Point       0      1              0            0   \n",
       "1  Vivekananda Rock Memorial       0      0              0            0   \n",
       "2            End of the Land       1      0              0            0   \n",
       "3          Kanyakumari Beach       0      1              0            0   \n",
       "4             Triveni Sangam       0      0              0            0   \n",
       "\n",
       "   Historic Site  Lighthouse  Sculpture Garden  \n",
       "0              0           0                 0  \n",
       "1              0           0                 1  \n",
       "2              0           0                 0  \n",
       "3              0           0                 0  \n",
       "4              1           0                 0  "
      ]
     },
     "execution_count": 40,
     "metadata": {},
     "output_type": "execute_result"
    }
   ],
   "source": [
    "# one hot encoding\n",
    "neighbor_onehot = pd.get_dummies(final_venues[['categories']], prefix=\"\", prefix_sep=\"\")\n",
    "\n",
    "# add neighborhood column back to dataframe\n",
    "neighbor_onehot['name'] = final_venues['name'] \n",
    "\n",
    "# move neighborhood column to the first column\n",
    "fixed_columns = [neighbor_onehot.columns[-1]] + list(neighbor_onehot.columns[:-1])\n",
    "neighbor_onehot = neighbor_onehot[fixed_columns]\n",
    "\n",
    "neighbor_onehot.head()"
   ]
  },
  {
   "cell_type": "code",
   "execution_count": 41,
   "metadata": {
    "collapsed": true
   },
   "outputs": [],
   "source": [
    "neighbor_onehot.shape\n",
    "neighbor_grouped = neighbor_onehot.groupby('name').mean().reset_index()"
   ]
  },
  {
   "cell_type": "code",
   "execution_count": 42,
   "metadata": {
    "collapsed": true
   },
   "outputs": [],
   "source": [
    "# Top 10 venues\n",
    "num_top_venues = 10\n",
    "\n",
    "indicators = ['st', 'nd', 'rd']\n",
    "\n",
    "# create columns according to number of top venues\n",
    "columns = ['name']\n",
    "for ind in np.arange(num_top_venues):\n",
    "    try:\n",
    "        columns.append('{}{} Most Common Venue'.format(ind+1, indicators[ind]))\n",
    "    except:\n",
    "        columns.append('{}th Most Common Venue'.format(ind+1))\n",
    "\n",
    "# create a new dataframe\n",
    "neighborhoods_venues_sorted = pd.DataFrame(columns=columns)\n",
    "neighborhoods_venues_sorted['name'] = neighbor_grouped['name']"
   ]
  },
  {
   "cell_type": "code",
   "execution_count": 43,
   "metadata": {},
   "outputs": [
    {
     "data": {
      "text/plain": [
       "KMeans(algorithm='auto', copy_x=True, init='k-means++', max_iter=300,\n",
       "    n_clusters=3, n_init=10, n_jobs=None, precompute_distances='auto',\n",
       "    random_state=0, tol=0.0001, verbose=0)"
      ]
     },
     "execution_count": 43,
     "metadata": {},
     "output_type": "execute_result"
    }
   ],
   "source": [
    "# Clustering\n",
    "\n",
    "# set number of clusters\n",
    "kclusters = 3\n",
    "\n",
    "neighbor_grouped_clustering = neighbor_grouped.drop('name', 1)\n",
    "\n",
    "# run k-means clustering\n",
    "kmeans = KMeans(n_clusters=kclusters, random_state=0).fit(neighbor_grouped_clustering)\n",
    "\n",
    "# check cluster labels generated for each row in the dataframe\n",
    "kmeans.labels_[0:10] \n",
    "\n",
    "\n",
    "# add clustering labels\n",
    "neighborhoods_venues_sorted.insert(0, 'Clustersss', kmeans.labels_)\n",
    "\n",
    "neighbor_merged = final_venues\n",
    "\n",
    "# merge toronto_grouped with toronto_data to add latitude/longitude for each neighborhood\n",
    "neighbor_merged = neighbor_merged.join(neighborhoods_venues_sorted.set_index('name'), on='name')\n",
    "\n",
    "kmeans"
   ]
  },
  {
   "cell_type": "markdown",
   "metadata": {},
   "source": [
    "### 3.m Center of all clusters & Midpoint of all venues\n",
    "__We will be collating the location of centroid of all clusters and midpoint of all venues to get more accurate location__"
   ]
  },
  {
   "cell_type": "code",
   "execution_count": 44,
   "metadata": {},
   "outputs": [
    {
     "name": "stdout",
     "output_type": "stream",
     "text": [
      "Final location (Green Dot in our below given map) of our brand new hotel:8.079896043302105,77.54973668986852\n"
     ]
    }
   ],
   "source": [
    "fin=neighbor_merged.groupby(['Clustersss']).mean()\n",
    "\n",
    "lati=sum(fin.lat)/len(fin.lat)\n",
    "longi=sum(fin.lng)/len(fin.lng)\n",
    "\n",
    "#Taking midpoint of top ten closest hotel\n",
    "venues_lan=sum(final_venues.lat)/len(final_venues.lat)\n",
    "venues_lng=sum(final_venues.lng)/len(final_venues.lng)\n",
    "\n",
    "final_latitude=(lati+venues_lan)/2\n",
    "final_longitude=(longi+venues_lng)/2\n",
    "\n",
    "print(\"Final location (Green Dot in our below given map) of our brand new hotel:{},{}\".format(final_latitude,final_longitude))"
   ]
  },
  {
   "cell_type": "code",
   "execution_count": 45,
   "metadata": {},
   "outputs": [
    {
     "data": {
      "text/html": [
       "<div style=\"width:100%;\"><div style=\"position:relative;width:100%;height:0;padding-bottom:60%;\"><span style=\"color:#565656\">Make this Notebook Trusted to load map: File -> Trust Notebook</span><iframe src=\"about:blank\" style=\"position:absolute;width:100%;height:100%;left:0;top:0;border:none !important;\" data-html=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 onload=\"this.contentDocument.open();this.contentDocument.write(atob(this.getAttribute('data-html')));this.contentDocument.close();\" allowfullscreen webkitallowfullscreen mozallowfullscreen></iframe></div></div>"
      ],
      "text/plain": [
       "<folium.folium.Map at 0x7fdb68704dd8>"
      ]
     },
     "execution_count": 45,
     "metadata": {},
     "output_type": "execute_result"
    }
   ],
   "source": [
    "map_clusters = folium.Map(location=[latitude, longitude], zoom_start=17)\n",
    "\n",
    "# set color scheme for the clusters\n",
    "x = np.arange(kclusters)\n",
    "ys = [i + x + (i*x)**2 for i in range(kclusters)]\n",
    "colors_array = cm.rainbow(np.linspace(0, 1, len(ys)))\n",
    "rainbow = [colors.rgb2hex(i) for i in colors_array]\n",
    "\n",
    "folium.features.CircleMarker(\n",
    "    [final_latitude, final_longitude],\n",
    "    radius=10,\n",
    "    color='green',\n",
    "    popup='My hotel',\n",
    "    fill = True,\n",
    "    fill_color = 'green',\n",
    "    fill_opacity = 0.6\n",
    ").add_to(map_clusters)\n",
    "\n",
    "# add markers to the map\n",
    "markers_colors = []\n",
    "for lat, lon, poi, cluster in zip(neighbor_merged['lat'], neighbor_merged['lng'], neighbor_merged['name'], neighbor_merged['Clustersss']):\n",
    "    label = folium.Popup(str(poi) + ' Cluster ' + str(cluster), parse_html=True)\n",
    "    folium.CircleMarker(\n",
    "        [lat, lon],\n",
    "        radius=6,\n",
    "        popup=label,\n",
    "        color=rainbow[cluster-1],\n",
    "        fill=True,\n",
    "        fill_color=rainbow[cluster-1],\n",
    "        fill_opacity=0.7).add_to(map_clusters)\n",
    "\n",
    "       \n",
    "map_clusters"
   ]
  },
  {
   "cell_type": "markdown",
   "metadata": {},
   "source": [
    "__The location (green colored) gives the central point to visit all other venues.Hence this can be locked down to attract all tourist.__"
   ]
  },
  {
   "cell_type": "markdown",
   "metadata": {},
   "source": [
    "## 4. Results section\n",
    "### 4.a My hotel location\n",
    "* Final location is pointed at 8.07985,77.54973\n",
    "\n",
    "* This location is at Beach Road opposite to Gandhi Memorial and Kumari Temple.\n",
    "\n",
    "* Located at exact junction of two cross roads which can give more attention to people who passby.\n",
    "\n",
    "### 4.b Top Rated Venues\n",
    "* Sunrise Point\n",
    "* Vivekananda Rock Memorial\n",
    "* End of the Land\n",
    "* Kanyakumari Beach\n",
    "* Triveni Sangam\n",
    "* Gandhi Memorial\n",
    "\n",
    "All these venues are rated well than other and also they have more tips and located within 320 metres to core location of kanyakumari.So tourists may like to visit these places.\n",
    "\n",
    "### 4.c Spot my hotel against others\n",
    "* Green - My hotel location\n",
    "* Red - Kanyakumari core location.\n",
    "* Black - Venues.\n",
    "* Blue - Other hotels.\n",
    "\n",
    "* My predicted location and core location are very close to each other which is expected.As this has central attraction,the predicted one almost matched with the core."
   ]
  },
  {
   "cell_type": "code",
   "execution_count": 48,
   "metadata": {},
   "outputs": [
    {
     "data": {
      "text/html": [
       "<div style=\"width:100%;\"><div style=\"position:relative;width:100%;height:0;padding-bottom:60%;\"><span style=\"color:#565656\">Make this Notebook Trusted to load map: File -> Trust Notebook</span><iframe src=\"about:blank\" style=\"position:absolute;width:100%;height:100%;left:0;top:0;border:none !important;\" data-html=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 onload=\"this.contentDocument.open();this.contentDocument.write(atob(this.getAttribute('data-html')));this.contentDocument.close();\" allowfullscreen webkitallowfullscreen mozallowfullscreen></iframe></div></div>"
      ],
      "text/plain": [
       "<folium.folium.Map at 0x7fdb6811bba8>"
      ]
     },
     "execution_count": 48,
     "metadata": {},
     "output_type": "execute_result"
    }
   ],
   "source": [
    "my_hotel_vs_all = folium.Map(location=[latitude, longitude], zoom_start=16) # generate map centred around the Kanyakumari\n",
    "\n",
    "\n",
    "# add a red circle marker to represent the my hotel location\n",
    "folium.features.CircleMarker(\n",
    "    [final_latitude, final_longitude],\n",
    "    radius=10,\n",
    "    color='green',\n",
    "    popup='My Hotel',\n",
    "    fill = True,\n",
    "    fill_color = 'green',\n",
    "    fill_opacity = 0.6\n",
    ").add_to(my_hotel_vs_all)\n",
    "\n",
    "\n",
    "# add a red circle marker to represent the core location of kanyakumari\n",
    "folium.features.CircleMarker(\n",
    "    [latitude, longitude],\n",
    "    radius=10,\n",
    "    color='red',\n",
    "    popup='Kanyakumari',\n",
    "    fill = True,\n",
    "    fill_color = 'red',\n",
    "    fill_opacity = 0.6\n",
    ").add_to(my_hotel_vs_all)\n",
    "\n",
    "# add the Italian restaurants as blue circle markers\n",
    "for lat, lng, label in zip(hotels_df.lat, hotels_df.lng, hotels_df.name):\n",
    "    folium.features.CircleMarker(\n",
    "        [lat, lng],\n",
    "        radius=5,\n",
    "        color='blue',\n",
    "        popup=label,\n",
    "        fill = True,\n",
    "        fill_color='blue',\n",
    "        fill_opacity=0.6\n",
    "    ).add_to(my_hotel_vs_all)\n",
    "    \n",
    "    \n",
    "markers_colors = []\n",
    "for lat, lon, poi, cluster in zip(neighbor_merged['lat'], neighbor_merged['lng'], neighbor_merged['name'], neighbor_merged['Clustersss']):\n",
    "    label = folium.Popup(str(poi) + ' Cluster ' + str(cluster), parse_html=True)\n",
    "    folium.CircleMarker(\n",
    "        [lat, lon],\n",
    "        radius=6,\n",
    "        popup=label,\n",
    "        color='black',\n",
    "        fill=True,\n",
    "        fill_color='black',\n",
    "        fill_opacity=0.7).add_to(my_hotel_vs_all)\n",
    "\n",
    "\n",
    "# display map\n",
    "my_hotel_vs_all"
   ]
  },
  {
   "cell_type": "markdown",
   "metadata": {},
   "source": [
    "### 4.d Few more Stats\n",
    "* Most common categories of venues are Temples, Church, Beach in Kanyakumari\n",
    "* Average distance between all hotels is 454 metres.\n",
    "* Tri Star hotel, Hotel Saravana, Hotel Samudra will be our competitors as they stay close to our predicted location.\n",
    "\n",
    "## 5. Discussion section\n",
    "From above reports,we could get an idea why the predicted one is pointed/clustered on the given spot. First most thing could be the center of attraction for the place.\n",
    "\n",
    "KMeans have figured out the most common place for all the venues. This output was very adjacent to the core location. This proves the accurate spotting of our predicted algorithm.\n",
    "\n",
    "Despite of the findings,there were some lack in data. Tips and ratings were missing for most of the venues. Also when I compared foursquare data with google map ,i could see there were many hotels and venues found missing in foursquare.\n",
    "\n",
    "## 6. Conclusion section\n",
    "As a business person,one would be able to set up a hotel/restaurant on given spot. This will bring revenue automatically as we have located in very near to core one. We proved this with Kmeans.\n",
    "\n",
    "__Future Expectation:__\n",
    "\n",
    "As mentioned earlier,most of data needs to be extracted from googlemaps. Even though we got somewhat accurate prediction. To be very confident on concluding our output,we may need more data to analyse.\n",
    "\n",
    "Research based on hotel reviews and restaurant menus could be used for future purpose.\n",
    "\n",
    "__My Experience:__\n",
    "\n",
    "It was wonderful journey for me in IBM capstone and other courses. It can aid to layman people as well who dont know a pinch of Data science. Thanks to Coursera for keeping Skilful instructors with their awesome materials\n",
    "\n",
    "### THANK YOU!! HAPPY DATA SCIENCE LEARNING !!!"
   ]
  },
  {
   "cell_type": "code",
   "execution_count": null,
   "metadata": {
    "collapsed": true
   },
   "outputs": [],
   "source": []
  }
 ],
 "metadata": {
  "kernelspec": {
   "display_name": "Python 3",
   "language": "python",
   "name": "python3"
  },
  "language_info": {
   "codemirror_mode": {
    "name": "ipython",
    "version": 3
   },
   "file_extension": ".py",
   "mimetype": "text/x-python",
   "name": "python",
   "nbconvert_exporter": "python",
   "pygments_lexer": "ipython3",
   "version": "3.6.2"
  }
 },
 "nbformat": 4,
 "nbformat_minor": 1
}
